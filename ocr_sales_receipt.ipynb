{
  "nbformat": 4,
  "nbformat_minor": 0,
  "metadata": {
    "colab": {
      "provenance": [],
      "authorship_tag": "ABX9TyOBhYtc267dtpeiozo2vDgL",
      "include_colab_link": true
    },
    "kernelspec": {
      "name": "python3",
      "display_name": "Python 3"
    },
    "language_info": {
      "name": "python"
    }
  },
  "cells": [
    {
      "cell_type": "markdown",
      "metadata": {
        "id": "view-in-github",
        "colab_type": "text"
      },
      "source": [
        "<a href=\"https://colab.research.google.com/github/sledhead/simple_python/blob/main/ocr_sales_receipt.ipynb\" target=\"_parent\"><img src=\"https://colab.research.google.com/assets/colab-badge.svg\" alt=\"Open In Colab\"/></a>"
      ]
    },
    {
      "cell_type": "code",
      "execution_count": 1,
      "metadata": {
        "colab": {
          "base_uri": "https://localhost:8080/"
        },
        "id": "LPJGdUyJbO5g",
        "outputId": "eeb82461-d433-4d99-b3c3-2e1043b87208"
      },
      "outputs": [
        {
          "output_type": "stream",
          "name": "stdout",
          "text": [
            "Mounted at /content/drive\n"
          ]
        }
      ],
      "source": [
        "import pandas as pd\n",
        "#Will display upload box to user to allow a file to upload and encrypted.\n",
        "from google.colab import drive\n",
        "drive.mount('/content/drive')"
      ]
    },
    {
      "cell_type": "code",
      "source": [
        "!pip install easyocr"
      ],
      "metadata": {
        "id": "MD47i366cHXg"
      },
      "execution_count": null,
      "outputs": []
    },
    {
      "cell_type": "code",
      "source": [
        "import easyocr\n"
      ],
      "metadata": {
        "id": "iEam9CoObvWo"
      },
      "execution_count": 4,
      "outputs": []
    },
    {
      "cell_type": "code",
      "source": [
        "import os\n",
        "\n",
        "reader = easyocr.Reader(['en'], gpu=False)\n",
        "\n",
        "folder_path = '/content/drive/MyDrive/Expense_Rec'\n",
        "file_nm = 'walmart.jpg'\n",
        "\n",
        "the_file = os.path.join(folder_path,file_nm)\n",
        "results = reader.readtext(the_file)\n"
      ],
      "metadata": {
        "colab": {
          "base_uri": "https://localhost:8080/"
        },
        "id": "vzpL5UWfcnUe",
        "outputId": "0991c22d-d281-4a6a-c75a-fd6a27feac89"
      },
      "execution_count": 9,
      "outputs": [
        {
          "output_type": "stream",
          "name": "stderr",
          "text": [
            "WARNING:easyocr.easyocr:Using CPU. Note: This module is much faster with a GPU.\n"
          ]
        }
      ]
    },
    {
      "cell_type": "code",
      "source": [
        "file_nm = 'walmart.jpg'\n",
        "\n",
        "the_file = os.path.join(folder_path,file_nm)\n",
        "results = reader.readtext(the_file)"
      ],
      "metadata": {
        "id": "tAFaod7knA4q"
      },
      "execution_count": null,
      "outputs": []
    },
    {
      "cell_type": "code",
      "source": [
        "import pandas as pd\n"
      ],
      "metadata": {
        "id": "_GfjCYf1eFAv"
      },
      "execution_count": 11,
      "outputs": []
    },
    {
      "cell_type": "code",
      "source": [
        "test_table = pd.DataFrame(results,columns=['bbox','word','cof'])"
      ],
      "metadata": {
        "id": "n0zju3sEjWGh"
      },
      "execution_count": 13,
      "outputs": []
    },
    {
      "cell_type": "code",
      "source": [
        "test_table.iloc[14]['bbox']"
      ],
      "metadata": {
        "colab": {
          "base_uri": "https://localhost:8080/"
        },
        "id": "xnWsaddyk3lm",
        "outputId": "fefbe7c0-08cb-4276-a5e7-9933335a8bc9"
      },
      "execution_count": 16,
      "outputs": [
        {
          "output_type": "execute_result",
          "data": {
            "text/plain": [
              "[[661, 2940], [951, 2940], [951, 3039], [661, 3039]]"
            ]
          },
          "metadata": {},
          "execution_count": 16
        }
      ]
    },
    {
      "cell_type": "code",
      "source": [
        "test_table"
      ],
      "metadata": {
        "id": "bCJ5P0f3lqvm"
      },
      "execution_count": null,
      "outputs": []
    }
  ]
}