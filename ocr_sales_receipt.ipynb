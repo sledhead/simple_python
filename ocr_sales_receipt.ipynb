{
  "nbformat": 4,
  "nbformat_minor": 0,
  "metadata": {
    "colab": {
      "provenance": [],
      "authorship_tag": "ABX9TyNEF9OMxIZ7rnL0QXlx5mOA",
      "include_colab_link": true
    },
    "kernelspec": {
      "name": "python3",
      "display_name": "Python 3"
    },
    "language_info": {
      "name": "python"
    }
  },
  "cells": [
    {
      "cell_type": "markdown",
      "metadata": {
        "id": "view-in-github",
        "colab_type": "text"
      },
      "source": [
        "<a href=\"https://colab.research.google.com/github/sledhead/simple_python/blob/main/ocr_sales_receipt.ipynb\" target=\"_parent\"><img src=\"https://colab.research.google.com/assets/colab-badge.svg\" alt=\"Open In Colab\"/></a>"
      ]
    },
    {
      "cell_type": "code",
      "execution_count": 1,
      "metadata": {
        "colab": {
          "base_uri": "https://localhost:8080/"
        },
        "id": "LPJGdUyJbO5g",
        "outputId": "93547cc4-ee57-4cd0-a4ac-0bdf79a2f9e7"
      },
      "outputs": [
        {
          "output_type": "stream",
          "name": "stdout",
          "text": [
            "Mounted at /content/drive\n"
          ]
        }
      ],
      "source": [
        "import pandas as pd\n",
        "#Will display upload box to user to allow a file to upload and encrypted.\n",
        "from google.colab import drive\n",
        "drive.mount('/content/drive')"
      ]
    },
    {
      "cell_type": "code",
      "source": [
        "!sudo apt install tesseract-ocr"
      ],
      "metadata": {
        "id": "OMg60rJ9Ce_7"
      },
      "execution_count": null,
      "outputs": []
    },
    {
      "cell_type": "code",
      "source": [
        "!pip install pytesseract"
      ],
      "metadata": {
        "id": "qmrWDIJm9e29"
      },
      "execution_count": null,
      "outputs": []
    },
    {
      "cell_type": "code",
      "source": [
        "!pip install easyocr"
      ],
      "metadata": {
        "id": "MD47i366cHXg"
      },
      "execution_count": null,
      "outputs": []
    },
    {
      "cell_type": "code",
      "source": [
        "import easyocr\n",
        "#import pytesseract\n"
      ],
      "metadata": {
        "id": "iEam9CoObvWo"
      },
      "execution_count": 3,
      "outputs": []
    },
    {
      "cell_type": "code",
      "source": [
        "from PIL import Image\n",
        "import os"
      ],
      "metadata": {
        "id": "xLUfcIDgAcYn"
      },
      "execution_count": 4,
      "outputs": []
    },
    {
      "cell_type": "code",
      "source": [
        "\n",
        "\n",
        "reader = easyocr.Reader(['en'], gpu=False)\n",
        "\n",
        "folder_path = '/content/drive/MyDrive/Expense_Rec'\n",
        "file_nm = 'smith_3.jpg'\n",
        "\n",
        "the_file = os.path.join(folder_path,file_nm)\n",
        "results = reader.readtext(the_file)\n"
      ],
      "metadata": {
        "id": "vzpL5UWfcnUe",
        "colab": {
          "base_uri": "https://localhost:8080/"
        },
        "outputId": "2c55c3e6-8111-4691-98cc-b7be030cb942"
      },
      "execution_count": 5,
      "outputs": [
        {
          "output_type": "stream",
          "name": "stderr",
          "text": [
            "WARNING:easyocr.easyocr:Using CPU. Note: This module is much faster with a GPU.\n",
            "WARNING:easyocr.easyocr:Downloading detection model, please wait. This may take several minutes depending upon your network connection.\n"
          ]
        },
        {
          "output_type": "stream",
          "name": "stdout",
          "text": [
            "Progress: |██████████████████████████████████████████████████| 100.0% Complete"
          ]
        },
        {
          "output_type": "stream",
          "name": "stderr",
          "text": [
            "WARNING:easyocr.easyocr:Downloading recognition model, please wait. This may take several minutes depending upon your network connection.\n"
          ]
        },
        {
          "output_type": "stream",
          "name": "stdout",
          "text": [
            "Progress: |██████████████████████████████████████████████████| 100.0% Complete"
          ]
        }
      ]
    },
    {
      "cell_type": "code",
      "source": [
        "folder_path = '/content/drive/MyDrive/Expense_Rec'\n",
        "file_nm = 'costco_1.jpg'\n",
        "the_file = os.path.join(folder_path,file_nm)\n",
        "print(pytesseract.image_to_string(Image.open(the_file)))"
      ],
      "metadata": {
        "id": "OcTtAmPpAks7"
      },
      "execution_count": null,
      "outputs": []
    },
    {
      "cell_type": "code",
      "source": [
        "import pandas as pd\n",
        "\n",
        "pd.set_option('display.max_rows', None)"
      ],
      "metadata": {
        "id": "af_hf9Ca4jjK"
      },
      "execution_count": 6,
      "outputs": []
    },
    {
      "cell_type": "code",
      "source": [
        "file_nm = 'smith_mph_3.jpg'\n",
        "\n",
        "the_file = os.path.join(folder_path,file_nm)\n",
        "results = reader.readtext(the_file)"
      ],
      "metadata": {
        "id": "tAFaod7knA4q"
      },
      "execution_count": 23,
      "outputs": []
    },
    {
      "cell_type": "code",
      "source": [
        "import pandas as pd\n",
        "\n",
        "pd.set_option('display.max_rows', None)"
      ],
      "metadata": {
        "id": "_GfjCYf1eFAv"
      },
      "execution_count": null,
      "outputs": []
    },
    {
      "cell_type": "code",
      "source": [
        "test_table = pd.DataFrame(results,columns=['bbox','word','cof'])"
      ],
      "metadata": {
        "id": "n0zju3sEjWGh"
      },
      "execution_count": 24,
      "outputs": []
    },
    {
      "cell_type": "code",
      "source": [
        "test_table.iloc[14]['bbox']"
      ],
      "metadata": {
        "colab": {
          "base_uri": "https://localhost:8080/"
        },
        "id": "xnWsaddyk3lm",
        "outputId": "fefbe7c0-08cb-4276-a5e7-9933335a8bc9"
      },
      "execution_count": null,
      "outputs": [
        {
          "output_type": "execute_result",
          "data": {
            "text/plain": [
              "[[661, 2940], [951, 2940], [951, 3039], [661, 3039]]"
            ]
          },
          "metadata": {},
          "execution_count": 16
        }
      ]
    },
    {
      "cell_type": "code",
      "source": [
        "test_table"
      ],
      "metadata": {
        "id": "bCJ5P0f3lqvm"
      },
      "execution_count": null,
      "outputs": []
    },
    {
      "cell_type": "code",
      "source": [
        "!pip install keras_ocr"
      ],
      "metadata": {
        "id": "NzJdv_J54V8k"
      },
      "execution_count": null,
      "outputs": []
    },
    {
      "cell_type": "code",
      "source": [
        "import keras_ocr\n",
        "import matplotlib.pyplot as plt"
      ],
      "metadata": {
        "id": "_OoILq7D4CvP"
      },
      "execution_count": 29,
      "outputs": []
    },
    {
      "cell_type": "code",
      "source": [
        "keras_pipeline = keras_ocr.pipeline.Pipeline()"
      ],
      "metadata": {
        "colab": {
          "base_uri": "https://localhost:8080/"
        },
        "id": "EUqhzvVV4tgB",
        "outputId": "fe4e5214-5040-4cdd-826b-d628627c2804"
      },
      "execution_count": 30,
      "outputs": [
        {
          "output_type": "stream",
          "name": "stdout",
          "text": [
            "Looking for /root/.keras-ocr/craft_mlt_25k.h5\n",
            "Downloading /root/.keras-ocr/craft_mlt_25k.h5\n"
          ]
        },
        {
          "output_type": "stream",
          "name": "stderr",
          "text": [
            "WARNING:tensorflow:From /usr/local/lib/python3.10/dist-packages/tensorflow/python/util/dispatch.py:1260: resize_bilinear (from tensorflow.python.ops.image_ops_impl) is deprecated and will be removed in a future version.\n",
            "Instructions for updating:\n",
            "Use `tf.image.resize(...method=ResizeMethod.BILINEAR...)` instead.\n"
          ]
        },
        {
          "output_type": "stream",
          "name": "stdout",
          "text": [
            "Looking for /root/.keras-ocr/crnn_kurapan.h5\n",
            "Downloading /root/.keras-ocr/crnn_kurapan.h5\n"
          ]
        }
      ]
    },
    {
      "cell_type": "code",
      "source": [
        "folder_path = '/content/drive/MyDrive/Expense_Rec'\n",
        "file_nm = 'smith_3.jpg'\n",
        "frt_img = os.path.join(folder_path,'smith_mph_3.jpg')\n",
        "sec_img = os.path.join(folder_path, 'smith_mph_2.jpg')\n",
        "\n",
        "img = [\n",
        "    keras_ocr.tools.read (img) for img in [frt_img,sec_img] ]"
      ],
      "metadata": {
        "id": "lK0hc3uo409e"
      },
      "execution_count": 33,
      "outputs": []
    },
    {
      "cell_type": "code",
      "source": [
        "prediction_groups = keras_pipeline.recognize(img)"
      ],
      "metadata": {
        "colab": {
          "base_uri": "https://localhost:8080/"
        },
        "id": "NFC6cOoW7DXO",
        "outputId": "5f313774-c92b-4ca2-c603-58f32ef3ede7"
      },
      "execution_count": 35,
      "outputs": [
        {
          "output_type": "stream",
          "name": "stdout",
          "text": [
            "1/1 [==============================] - 97s 97s/step\n",
            "4/4 [==============================] - 30s 6s/step\n"
          ]
        }
      ]
    },
    {
      "cell_type": "code",
      "source": [
        "fig, axs = plt.subplots(nrows=len(img), figsize=(10, 20))\n",
        "for ax, image, predictions in zip(axs, img, prediction_groups):\n",
        "    keras_ocr.tools.drawAnnotations(image=image,\n",
        "                                    predictions=predictions,\n",
        "                                    ax=ax)"
      ],
      "metadata": {
        "id": "aZzmnHD28Gb6"
      },
      "execution_count": null,
      "outputs": []
    },
    {
      "cell_type": "code",
      "source": [
        "predicted_image = prediction_groups[0]\n",
        "for text, box in predicted_image:\n",
        "    print(text)"
      ],
      "metadata": {
        "id": "kziUAm2e8wJ9"
      },
      "execution_count": null,
      "outputs": []
    }
  ]
}