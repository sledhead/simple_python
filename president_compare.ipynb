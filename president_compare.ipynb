{
  "nbformat": 4,
  "nbformat_minor": 0,
  "metadata": {
    "colab": {
      "provenance": [],
      "authorship_tag": "ABX9TyNlavFdWpA4zXu1wokb6y+R",
      "include_colab_link": true
    },
    "kernelspec": {
      "name": "python3",
      "display_name": "Python 3"
    },
    "language_info": {
      "name": "python"
    }
  },
  "cells": [
    {
      "cell_type": "markdown",
      "metadata": {
        "id": "view-in-github",
        "colab_type": "text"
      },
      "source": [
        "<a href=\"https://colab.research.google.com/github/sledhead/simple_python/blob/main/president_compare.ipynb\" target=\"_parent\"><img src=\"https://colab.research.google.com/assets/colab-badge.svg\" alt=\"Open In Colab\"/></a>"
      ]
    },
    {
      "cell_type": "code",
      "execution_count": 7,
      "metadata": {
        "colab": {
          "base_uri": "https://localhost:8080/"
        },
        "id": "zKW0PBdudLqT",
        "outputId": "500d308e-c528-49ff-dff7-21091b99c99b"
      },
      "outputs": [
        {
          "output_type": "stream",
          "name": "stdout",
          "text": [
            "Mounted at /content/drive\n"
          ]
        }
      ],
      "source": [
        "import pandas as pd\n",
        "import requests\n",
        "#Will display upload box to user to allow a file to upload and encrypted.\n",
        "from google.colab import drive\n",
        "drive.mount('/content/drive')"
      ]
    },
    {
      "cell_type": "code",
      "source": [
        "#get file\n",
        "!wget \"https://www.congress.gov/bill/117th-congress/house-bill/2617/all-info\""
      ],
      "metadata": {
        "colab": {
          "base_uri": "https://localhost:8080/"
        },
        "id": "FZZAHW-ZdVUe",
        "outputId": "da0736cf-e822-4e7e-a100-fd9950a7ed76"
      },
      "execution_count": 5,
      "outputs": [
        {
          "output_type": "stream",
          "name": "stdout",
          "text": [
            "--2024-07-12 06:17:26--  https://www.congress.gov/bill/117th-congress/house-bill/2617/all-info\n",
            "Resolving www.congress.gov (www.congress.gov)... 104.16.172.252, 104.16.173.252, 2606:4700::6810:acfc, ...\n",
            "Connecting to www.congress.gov (www.congress.gov)|104.16.172.252|:443... connected.\n",
            "HTTP request sent, awaiting response... 403 Forbidden\n",
            "2024-07-12 06:17:26 ERROR 403: Forbidden.\n",
            "\n"
          ]
        }
      ]
    },
    {
      "cell_type": "code",
      "source": [
        "!curl \"https://www.congress.gov/bill/117th-congress/house-bill/2617/all-info\""
      ],
      "metadata": {
        "colab": {
          "base_uri": "https://localhost:8080/"
        },
        "id": "12x0WV3lomr-",
        "outputId": "1400fba9-3097-43c9-c993-9c8bed815730"
      },
      "execution_count": 11,
      "outputs": [
        {
          "output_type": "stream",
          "name": "stdout",
          "text": [
            "<!DOCTYPE html><html lang=\"en-US\"><head><title>Just a moment...</title><meta http-equiv=\"Content-Type\" content=\"text/html; charset=UTF-8\"><meta http-equiv=\"X-UA-Compatible\" content=\"IE=Edge\"><meta name=\"robots\" content=\"noindex,nofollow\"><meta name=\"viewport\" content=\"width=device-width,initial-scale=1\"><style>*{box-sizing:border-box;margin:0;padding:0}html{line-height:1.15;-webkit-text-size-adjust:100%;color:#313131}button,html{font-family:system-ui,-apple-system,BlinkMacSystemFont,Segoe UI,Roboto,Helvetica Neue,Arial,Noto Sans,sans-serif,Apple Color Emoji,Segoe UI Emoji,Segoe UI Symbol,Noto Color Emoji}@media (prefers-color-scheme:dark){body{background-color:#222;color:#d9d9d9}body a{color:#fff}body a:hover{color:#ee730a;text-decoration:underline}body .lds-ring div{border-color:#999 transparent transparent}body .font-red{color:#b20f03}body .pow-button{background-color:#4693ff;color:#1d1d1d}body #challenge-success-text{background-image:url(data:image/svg+xml;base64,PHN2ZyB4bWxucz0iaHR0cDovL3d3dy53My5vcmcvMjAwMC9zdmciIHdpZHRoPSIzMiIgaGVpZ2h0PSIzMiIgZmlsbD0ibm9uZSIgdmlld0JveD0iMCAwIDI2IDI2Ij48cGF0aCBmaWxsPSIjZDlkOWQ5IiBkPSJNMTMgMGExMyAxMyAwIDEgMCAwIDI2IDEzIDEzIDAgMCAwIDAtMjZtMCAyNGExMSAxMSAwIDEgMSAwLTIyIDExIDExIDAgMCAxIDAgMjIiLz48cGF0aCBmaWxsPSIjZDlkOWQ5IiBkPSJtMTAuOTU1IDE2LjA1NS0zLjk1LTQuMTI1LTEuNDQ1IDEuMzg1IDUuMzcgNS42MSA5LjQ5NS05LjYtMS40Mi0xLjQwNXoiLz48L3N2Zz4=)}body #challenge-error-text{background-image:url(data:image/svg+xml;base64,PHN2ZyB4bWxucz0iaHR0cDovL3d3dy53My5vcmcvMjAwMC9zdmciIHdpZHRoPSIzMiIgaGVpZ2h0PSIzMiIgZmlsbD0ibm9uZSI+PHBhdGggZmlsbD0iI0IyMEYwMyIgZD0iTTE2IDNhMTMgMTMgMCAxIDAgMTMgMTNBMTMuMDE1IDEzLjAxNSAwIDAgMCAxNiAzbTAgMjRhMTEgMTEgMCAxIDEgMTEtMTEgMTEuMDEgMTEuMDEgMCAwIDEtMTEgMTEiLz48cGF0aCBmaWxsPSIjQjIwRjAzIiBkPSJNMTcuMDM4IDE4LjYxNUgxNC44N0wxNC41NjMgOS41aDIuNzgzem0tMS4wODQgMS40MjdxLjY2IDAgMS4wNTcuMzg4LjQwNy4zODkuNDA3Ljk5NCAwIC41OTYtLjQwNy45ODQtLjM5Ny4zOS0xLjA1Ny4zODktLjY1IDAtMS4wNTYtLjM4OS0uMzk4LS4zODktLjM5OC0uOTg0IDAtLjU5Ny4zOTgtLjk4NS40MDYtLjM5NyAxLjA1Ni0uMzk3Ii8+PC9zdmc+)}}body{display:flex;flex-direction:column;min-height:100vh}body.no-js .loading-spinner{visibility:hidden}body.no-js .challenge-running{display:none}body.dark{background-color:#222;color:#d9d9d9}body.dark a{color:#fff}body.dark a:hover{color:#ee730a;text-decoration:underline}body.dark .lds-ring div{border-color:#999 transparent transparent}body.dark .font-red{color:#b20f03}body.dark .pow-button{background-color:#4693ff;color:#1d1d1d}body.dark #challenge-success-text{background-image:url(data:image/svg+xml;base64,PHN2ZyB4bWxucz0iaHR0cDovL3d3dy53My5vcmcvMjAwMC9zdmciIHdpZHRoPSIzMiIgaGVpZ2h0PSIzMiIgZmlsbD0ibm9uZSIgdmlld0JveD0iMCAwIDI2IDI2Ij48cGF0aCBmaWxsPSIjZDlkOWQ5IiBkPSJNMTMgMGExMyAxMyAwIDEgMCAwIDI2IDEzIDEzIDAgMCAwIDAtMjZtMCAyNGExMSAxMSAwIDEgMSAwLTIyIDExIDExIDAgMCAxIDAgMjIiLz48cGF0aCBmaWxsPSIjZDlkOWQ5IiBkPSJtMTAuOTU1IDE2LjA1NS0zLjk1LTQuMTI1LTEuNDQ1IDEuMzg1IDUuMzcgNS42MSA5LjQ5NS05LjYtMS40Mi0xLjQwNXoiLz48L3N2Zz4=)}body.dark #challenge-error-text{background-image:url(data:image/svg+xml;base64,PHN2ZyB4bWxucz0iaHR0cDovL3d3dy53My5vcmcvMjAwMC9zdmciIHdpZHRoPSIzMiIgaGVpZ2h0PSIzMiIgZmlsbD0ibm9uZSI+PHBhdGggZmlsbD0iI0IyMEYwMyIgZD0iTTE2IDNhMTMgMTMgMCAxIDAgMTMgMTNBMTMuMDE1IDEzLjAxNSAwIDAgMCAxNiAzbTAgMjRhMTEgMTEgMCAxIDEgMTEtMTEgMTEuMDEgMTEuMDEgMCAwIDEtMTEgMTEiLz48cGF0aCBmaWxsPSIjQjIwRjAzIiBkPSJNMTcuMDM4IDE4LjYxNUgxNC44N0wxNC41NjMgOS41aDIuNzgzem0tMS4wODQgMS40MjdxLjY2IDAgMS4wNTcuMzg4LjQwNy4zODkuNDA3Ljk5NCAwIC41OTYtLjQwNy45ODQtLjM5Ny4zOS0xLjA1Ny4zODktLjY1IDAtMS4wNTYtLjM4OS0uMzk4LS4zODktLjM5OC0uOTg0IDAtLjU5Ny4zOTgtLjk4NS40MDYtLjM5NyAxLjA1Ni0uMzk3Ii8+PC9zdmc+)}body.light{background-color:transparent;color:#313131}body.light a{color:#0051c3}body.light a:hover{color:#ee730a;text-decoration:underline}body.light .lds-ring div{border-color:#595959 transparent transparent}body.light .font-red{color:#fc574a}body.light .pow-button{background-color:#003681;border-color:#003681;color:#fff}body.light #challenge-success-text{background-image:url(data:image/svg+xml;base64,PHN2ZyB4bWxucz0iaHR0cDovL3d3dy53My5vcmcvMjAwMC9zdmciIHdpZHRoPSIzMiIgaGVpZ2h0PSIzMiIgZmlsbD0ibm9uZSIgdmlld0JveD0iMCAwIDI2IDI2Ij48cGF0aCBmaWxsPSIjMzEzMTMxIiBkPSJNMTMgMGExMyAxMyAwIDEgMCAwIDI2IDEzIDEzIDAgMCAwIDAtMjZtMCAyNGExMSAxMSAwIDEgMSAwLTIyIDExIDExIDAgMCAxIDAgMjIiLz48cGF0aCBmaWxsPSIjMzEzMTMxIiBkPSJtMTAuOTU1IDE2LjA1NS0zLjk1LTQuMTI1LTEuNDQ1IDEuMzg1IDUuMzcgNS42MSA5LjQ5NS05LjYtMS40Mi0xLjQwNXoiLz48L3N2Zz4=)}body.light #challenge-error-text{background-image:url(data:image/svg+xml;base64,PHN2ZyB4bWxucz0iaHR0cDovL3d3dy53My5vcmcvMjAwMC9zdmciIHdpZHRoPSIzMiIgaGVpZ2h0PSIzMiIgZmlsbD0ibm9uZSI+PHBhdGggZmlsbD0iI2ZjNTc0YSIgZD0iTTE2IDNhMTMgMTMgMCAxIDAgMTMgMTNBMTMuMDE1IDEzLjAxNSAwIDAgMCAxNiAzbTAgMjRhMTEgMTEgMCAxIDEgMTEtMTEgMTEuMDEgMTEuMDEgMCAwIDEtMTEgMTEiLz48cGF0aCBmaWxsPSIjZmM1NzRhIiBkPSJNMTcuMDM4IDE4LjYxNUgxNC44N0wxNC41NjMgOS41aDIuNzgzem0tMS4wODQgMS40MjdxLjY2IDAgMS4wNTcuMzg4LjQwNy4zODkuNDA3Ljk5NCAwIC41OTYtLjQwNy45ODQtLjM5Ny4zOS0xLjA1Ny4zODktLjY1IDAtMS4wNTYtLjM4OS0uMzk4LS4zODktLjM5OC0uOTg0IDAtLjU5Ny4zOTgtLjk4NS40MDYtLjM5NyAxLjA1Ni0uMzk3Ii8+PC9zdmc+)}a{background-color:transparent;color:#0051c3;text-decoration:none;transition:color .15s ease}a:hover{color:#ee730a;text-decoration:underline}.main-content{margin:8rem auto;max-width:60rem;width:100%}.heading-favicon{height:2rem;margin-right:.5rem;width:2rem}@media (width <= 720px){.main-content{margin-top:4rem}.heading-favicon{height:1.5rem;width:1.5rem}}.footer,.main-content{padding-left:1.5rem;padding-right:1.5rem}.main-wrapper{align-items:center;display:flex;flex:1;flex-direction:column}.font-red{color:#b20f03}.spacer{margin:2rem 0}.h1{font-size:2.5rem;font-weight:500;line-height:3.75rem}.h2{font-weight:500}.core-msg,.h2{font-size:1.5rem;line-height:2.25rem}.body-text,.core-msg{font-weight:400}.body-text{font-size:1rem;line-height:1.25rem}@media (width <= 720px){.h1{font-size:1.5rem;line-height:1.75rem}.h2{font-size:1.25rem}.core-msg,.h2{line-height:1.5rem}.core-msg{font-size:1rem}}#challenge-error-text{background-image:url(data:image/svg+xml;base64,PHN2ZyB4bWxucz0iaHR0cDovL3d3dy53My5vcmcvMjAwMC9zdmciIHdpZHRoPSIzMiIgaGVpZ2h0PSIzMiIgZmlsbD0ibm9uZSI+PHBhdGggZmlsbD0iI2ZjNTc0YSIgZD0iTTE2IDNhMTMgMTMgMCAxIDAgMTMgMTNBMTMuMDE1IDEzLjAxNSAwIDAgMCAxNiAzbTAgMjRhMTEgMTEgMCAxIDEgMTEtMTEgMTEuMDEgMTEuMDEgMCAwIDEtMTEgMTEiLz48cGF0aCBmaWxsPSIjZmM1NzRhIiBkPSJNMTcuMDM4IDE4LjYxNUgxNC44N0wxNC41NjMgOS41aDIuNzgzem0tMS4wODQgMS40MjdxLjY2IDAgMS4wNTcuMzg4LjQwNy4zODkuNDA3Ljk5NCAwIC41OTYtLjQwNy45ODQtLjM5Ny4zOS0xLjA1Ny4zODktLjY1IDAtMS4wNTYtLjM4OS0uMzk4LS4zODktLjM5OC0uOTg0IDAtLjU5Ny4zOTgtLjk4NS40MDYtLjM5NyAxLjA1Ni0uMzk3Ii8+PC9zdmc+);padding-left:34px}#challenge-error-text,#challenge-success-text{background-repeat:no-repeat;background-size:contain}#challenge-success-text{background-image:url(data:image/svg+xml;base64,PHN2ZyB4bWxucz0iaHR0cDovL3d3dy53My5vcmcvMjAwMC9zdmciIHdpZHRoPSIzMiIgaGVpZ2h0PSIzMiIgZmlsbD0ibm9uZSIgdmlld0JveD0iMCAwIDI2IDI2Ij48cGF0aCBmaWxsPSIjMzEzMTMxIiBkPSJNMTMgMGExMyAxMyAwIDEgMCAwIDI2IDEzIDEzIDAgMCAwIDAtMjZtMCAyNGExMSAxMSAwIDEgMSAwLTIyIDExIDExIDAgMCAxIDAgMjIiLz48cGF0aCBmaWxsPSIjMzEzMTMxIiBkPSJtMTAuOTU1IDE2LjA1NS0zLjk1LTQuMTI1LTEuNDQ1IDEuMzg1IDUuMzcgNS42MSA5LjQ5NS05LjYtMS40Mi0xLjQwNXoiLz48L3N2Zz4=);padding-left:42px}.text-center{text-align:center}.pow-button{background-color:#0051c3;border:.063rem solid #0051c3;border-radius:.313rem;color:#fff;font-size:.875rem;line-height:1.313rem;margin:2rem 0;padding:.375rem 1rem;transition-duration:.2s;transition-property:background-color,border-color,color;transition-timing-function:ease}.pow-button:hover{background-color:#003681;border-color:#003681;color:#fff;cursor:pointer}.footer{font-size:.75rem;line-height:1.125rem;margin:0 auto;max-width:60rem;width:100%}.footer-inner{border-top:1px solid #d9d9d9;padding-bottom:1rem;padding-top:1rem}.clearfix:after{clear:both;content:\"\";display:table}.clearfix .column{float:left;padding-right:1.5rem;width:50%}.diagnostic-wrapper{margin-bottom:.5rem}.footer .ray-id{text-align:center}.footer .ray-id code{font-family:monaco,courier,monospace}.core-msg,.zone-name-title{overflow-wrap:break-word}@media (width <= 720px){.diagnostic-wrapper{display:flex;flex-wrap:wrap;justify-content:center}.clearfix:after{clear:none;content:none;display:initial;text-align:center}.column{padding-bottom:2rem}.clearfix .column{float:none;padding:0;width:auto;word-break:keep-all}.zone-name-title{margin-bottom:1rem}}.loading-spinner{height:76.391px}.lds-ring{display:inline-block;position:relative}.lds-ring,.lds-ring div{height:1.875rem;width:1.875rem}.lds-ring div{animation:lds-ring 1.2s cubic-bezier(.5,0,.5,1) infinite;border:.3rem solid transparent;border-radius:50%;border-top-color:#313131;box-sizing:border-box;display:block;position:absolute}.lds-ring div:first-child{animation-delay:-.45s}.lds-ring div:nth-child(2){animation-delay:-.3s}.lds-ring div:nth-child(3){animation-delay:-.15s}@keyframes lds-ring{0%{transform:rotate(0)}to{transform:rotate(1turn)}}@media screen and (-ms-high-contrast:active),screen and (-ms-high-contrast:none){.main-wrapper,body{display:block}}.rtl .heading-favicon{margin-left:.5rem;margin-right:0}.rtl #challenge-success-text{background-position:100%;padding-left:0;padding-right:42px}.rtl #challenge-error-text{background-position:100%;padding-left:0;padding-right:34px}</style><meta http-equiv=\"refresh\" content=\"390\"></head><body class=\"no-js\"><div class=\"main-wrapper\" role=\"main\"><div class=\"main-content\"><noscript><div id=\"challenge-error-title\"><div class=\"h2\"><span id=\"challenge-error-text\">Enable JavaScript and cookies to continue</span></div></div></noscript></div></div><script>(function(){window._cf_chl_opt={cvId: '3',cZone: \"www.congress.gov\",cType: 'managed',cNounce: '48841',cRay: '8a1efc02ba636a49',cHash: 'fd32f60519a6e1f',cUPMDTk: \"\\/bill\\/117th-congress\\/house-bill\\/2617\\/all-info?__cf_chl_tk=hXxutAYlyrg8XRqCq332JPWH.DfkDE1PuHvqe6fv1Kg-1720765824-0.0.1.1-3882\",cFPWv: 'g',cTTimeMs: '1000',cMTimeMs: '390000',cTplV: 5,cTplB: 'cf',cK: \"\",fa: \"\\/bill\\/117th-congress\\/house-bill\\/2617\\/all-info?__cf_chl_f_tk=hXxutAYlyrg8XRqCq332JPWH.DfkDE1PuHvqe6fv1Kg-1720765824-0.0.1.1-3882\",md: \"38eAyn4h7fM4SlZyr_PGn_YnX.MOnwNE4l6p2SKkbT4-1720765824-1.1.1.1-W_WDXvmaBg3jw9Xoas1Ce4H5HxM204FtPN5QceU8dWZ0p72tiFqxKW.1pdtPGwtd4OPAQv_yAkmYKTqRjmI9zdDN9NY9_0ni0iIiuLj_W3FmaxSoVUvUH.8P_ocd6H50AMettM02trAcgnI51GiopRHPklURIi4KYt3aufiKLqSXvRlp18ypoF6UpnW0DU2hX.nG86Kk2O3tC8kYqentkgwhjt1LCZgdzTIT_ojmEzTjY9guollfKYyV8TJpD5pkPfoV.Um_avYTIXnUfgiv9ghAhD7F45n_9.qHCjogQCOu3HJgMGNmLYRNiCWtvcyHSzYM6FJCUzGMoDlQXnGbIRzABv3ItB9DvyGxwBIGw1CeUP50D8zSj2kMlvG0ZPcXBlnQNadXwqdE8boSWIVSzzx24_8U0JNZrRib8dT70tmsK81ZIcVFN7qT8WX2Sjl18z8GvNsOOKAne8Dy0rpEjp3uM_8yXfcwfl4bifMptd5eTrt5jP2NqtlGvuCJuYnQrj6u74ad3CMONlSG34EuDeFPeYXjKriIRMpE98URqoqojcMpww6_gn0wod8GbwfklE9iFvOnQ5URjtIqXn.bvJ4TGPuLPJSLyR_QAD4EbsRzluaNLyn2XV3gCv_pRIaiouZm7KbkHgKe1wrVJTDneKPNLpgV_XeKAKqF3rzUiZHBlE2bXOfSKEMvSNuyU1SYZZ7k2KRK3D0bv_Vci_VoRVlCfCPs9QVoSX5wEMR1z4PZr5JiM9coSmC3zWe7jUG1t3bkQ0HLxJCQG2kPrhUkw_21UrISjsneg_9aybj6Ghk0LOZCwl_sivcEclxr0UgVRFResT6dJ22uw2k5WxuNBP.OFC.tSQK81fFar0eQYLhD9m18OxOF2EclDw7YDox_Uw9pgCJNJNb6oKDiDoBBdlQkPRwZIgdxMjRphpYbksOwxEcg3lUfZhH9RlEbeHgvyDm.4hn6kH2Ngt9.RAH4ruZMMYlfHFG.M6zkQjpUMrnsLADTrEndK7aoamHgxx4tZPpdVVsg0sl9Av0IPzLRoS9yBV_YdIT0IQlksFl35rKXYQNKy_AvienqhEQW1gaquG6rcohABwhmI8jqTB87ahJfse8SKY5_AgaOoep1kQ66Kt686.ayMAd8UUvDLxijL7Y61ZaKNF6tvS4d.nkd.D6tDKxb0qD4GuSMdFX_ikiBPkcwRNgKE5pC_zf2jEhQEaSh4PxQ1.l.WPgBhuSVTLqhD71l3RG7YFYd0VOhc18WL7Dfve_Vn1806keiV.TqQVqJ69pekhXzSgyDp8jhmESxRgLwp7y53xcUXTqbs8Mr3qxRfZRyuUtd1Lrd0WdD_UI3KRL1K07fF3fwKHzoe1upbTR1ji16TmALmENEKixh0Yg7_TiTcLcxV7vtOSmZoC.DlW5Z.f6.lt0p6vtDOrckxk91Px40LRI9rpWuMJ.fdll_wVOkgW3K3taqSNSqw6QNmmSSXKLuK0wbQ_jXpka7wQflaXZT8crQbfswLFMbz2QCOsb7nfNOBwul3Yt2Y_.JIjubus07xAAVOEPu2Q\",mdrd: \"Mz957QsYCQcZpSGYABwQVMd6AFtx1hvdfhWxD6hAV0E-1720765824-1.1.1.1-mJjQpOYR9BnuEKQS6KB1m5NnScF3PxSK8wwHtz2T8Yp9_SQKvEQKVfVlQIxKrdna3BncOPJxx2Zo8d5ZVV8C.2HTTlAFkHkJwxwKuMjyyyYJ_C1YgKfPVZPlUBDfE8jMqwFlDT3MvudRxxwcHVEbuBkCIw7xQB97DGKxzXAKVq2pXKvptNG.zLIUoK5FXHWxYtBSAk.Vs.lShkXgCQtvFbV4pIRYnosmzTS3khis8ZS4KYrvhRnDo6U32YJZRULj4ZvCmBat12sot_HO79zLx69iztPL44jERzE7hY2pOuiUYA0bNWpV_W6Tsnr_kRLh93b176Jjpwujd62kxD_0ykVU6ETAa7QlMxGPY3bhFfCteTKGWmsSvIJ_NstYY8OXiKtiJsnG0rDDL0GX4DxR6p0BUakwIKLp1HfdNYHkhW.jy3lQ1vV7nMsXcOCEpprnwUZX700n04NfAN24Jq5DzEDhFPRoFiECPTbGKvZnjG7jdn4kVhS7NrF_rjqkyYQaoDIR7VsQ7OiNIMduDReBrs8RsVrik2YNuzjHxHymTpC_gNp6GFzY92GqA6lRp_82_qYfRj9TPWYGyMqXaLiT61xCfVIGniq8nDjPIu7X6GelKO6gkuB4dnq8jGrj50oI..WeuVKLhbQBs604ZV7urZPzRlhKIbJ96AmqjXY9gprXF32o.wzs2KgsECbJoGlaC.o6W7.xOmtJN5SVkgZhdStK3uzZcobWhsQ.hbAfeWLsmkbwYIjlCyP1oPntNpL3R9GHrcrL_VWDguE1ETA0satR2ODk4aBGmbQbmiq_5FpXGCpr5aJq_nrOSjrZbNA7CaRaFhr2yB3MCPpKrYiCHLmcGmOSpDe0c.tBhCKaz9TkOGORTvbqhPF2XwSBNIKPCgOmTGHKp0K7ofIxDmzpRtOdMbjLgelxLGVwc42qQXB1QG51xJwrSc9299g7Y_.vW4wkQUrODLU4NEjTnpqOhOaQwU_5RD2sFsgqEI89pyFr_J0bPHsu.AJOLmRGHbjg3BQQtZEfeMv71N1GFUq9J1AR7HghbbhAygWQRdLpmSr8osy5AhrtFIn0_Dy46PwxOFzT9bZGJdd6fY6JpK8sT7oDS4MoFxbVPO9bFda3ET1WkC0ojYHmxfLGPylxyNXCNhtEuxe6OlreBUgJBQdya99xxrHm1mXp6OH3pu6EeI6TG.ky8TMxjQr0z9EoFPOVW73Pt431bF7D1xl0zTi_udI7zpSa7EOLLvaHjF95cBT_hhsL88gRXYYRC.JnQcTe2lscd_pHK_qn0p4befpNMfhfiAjCCvhDOLfw_eE55BnwUfsMbAM6KA_KKDvpY21kxfq6hREQTg4bBdQir59JbjYknQT90Bdy2MC_buZ5yHDC06NpCs2qd0YCwDDVHG68qXpYJpfkyPTEpzv5_m4P11iC1GG1MkpZ_eBvKedxormSdL6hRX9U0ERR8qsMrDqWC2aSvBiOPbNFDMUu_Rdqa6FdZH3QoVlCjs9DI3.FcrNaJhC.1gXzSIJBRwJxYsylL5xk9fnAzVYMfXELV6Jt0CxHJ_J.dBtEMGq.yFL8rg0lUc.P4_g5kAfqYasAOhM8diWCwH4uGoo3DjGlrqQm3lhCF8y4zBD1TkyXOTWnYJMrI_d3fucFA_qTjJICgLdUWzZkSNoEfd1u3OFxy0vMSbieK5SRShpCFXW3Ak61WkvWrsynDT.bgFZllJzbRIJh372leebswA8jyWY1aqvovn3Q2ESRVxgKee189DyPQAvg_yXoDPE8m33kKaw02LG2PMWX6Fzqu_7huCi1jh2Tz2LtbN4Ww3B6PKsdYIjEnlFPeDEwFOGTcgKUzOdg_qsyU3.zgmOm4VvD0Z0UGphabrvUVDWFUtaE7Wxdy6P6OaRJsu2RQgr91sPmJQ8BlX4b.07a.VvFrEhVsIIgkHzM0SQa4KgUDjBzUoL9JI47ywra4jQ_oF3GZPw7Txl3OKDNaPPvrL7kbh6jjprreZo3OOu6W26IhyiprZOgWEMQjVCnJN5X6Lpu2Uoc55GeRMgJ_FsPkBvEIvoQT5daoQ7n.yuGYhk6b9bpNMfPXpMr.NR0EyPZPBSZDz9XrvS4hp9kentLIBsRo1LyPyh37e162Uy1SbEe186T9sJPUQhsjF2bnKSsD42Y9C9Tkg19lq9fixkkNDHeQRAgUl.iKbO6XQ\",cRq: {ru: 'aHR0cHM6Ly93d3cuY29uZ3Jlc3MuZ292L2JpbGwvMTE3dGgtY29uZ3Jlc3MvaG91c2UtYmlsbC8yNjE3L2FsbC1pbmZv',ra: 'Y3VybC83LjgxLjA=',rm: 'R0VU',d: 'IL/sC4aCRysGTJQzoV3qWR18QLTWGjEhj9oFv0oYWPwSRJe9nnb4vHswXEmxrndiJyzVZ3H8SyhJ/l7uI9Dy/k/e0zp/BsSp12suby/GxfxLGZcorgeU+gx/tqeVNvDl4/5CuycFMFZyMq0fn3KA1gPS+b+z1NSvcbQ9Qg5R7Oy9F6JPtoXStfE4/zE07//RkqyUd116LxE90QTwahjij7GE9UKXtyGGeyqIx7TdxedXadaOpinQsO4S5MBOOyjPy0yI7cc0vu6+DQrNdrade+qDwAQHp0cWPi8ncRb7wCylgnax0qw+kcSVrV1vkVaGr+LGvAFqPgSJS8mrUaQBf6PeYLjOYswUE5ED5YizPu3c97pruoCcfvOSeA+Ro23S3iAQIwQutOO8LEBX3X8rQ4XPbvC3Uv3qZb9ELSrKNKLiifL5swsAR0k5OMcaAujddLeXRolP47rb+jJzyOruSD6YUgH3EYVOWUQqk1jIhQO20RU3DFtMZ6i56fR4Cao+DMYoIPcheI1bwtY1KQh1aQ==',t: 'MTcyMDc2NTgyNC4wMDAwMDA=',cT: Math.floor(Date.now() / 1000),m: 'tkh33fqvSuWD4hI5VoDKQBbU3vvbRGAjlV8CnPWHEkY=',i1: 'AY6Y/uRx9ZVmRzmybRIplg==',i2: 'r1nXvNrYZVyw/LzNThQhSw==',zh: 'P/37dfGD+KUZFm0qKuE3N/q0gn3BGPttWTswwTYBAD8=',uh: 'XtPohTwN9ruoNwJrCbocmA5soW1XPnkxU/yVFmBLOQo=',hh: 'cTbG2zct7/9cr7abEWSg59sInRszec2mTWq3jspVNx4=',}};var cpo = document.createElement('script');cpo.src = '/cdn-cgi/challenge-platform/h/g/orchestrate/chl_page/v1?ray=8a1efc02ba636a49';window._cf_chl_opt.cOgUHash = location.hash === '' && location.href.indexOf('#') !== -1 ? '#' : location.hash;window._cf_chl_opt.cOgUQuery = location.search === '' && location.href.slice(0, location.href.length - window._cf_chl_opt.cOgUHash.length).indexOf('?') !== -1 ? '?' : location.search;if (window.history && window.history.replaceState) {var ogU = location.pathname + window._cf_chl_opt.cOgUQuery + window._cf_chl_opt.cOgUHash;history.replaceState(null, null, \"\\/bill\\/117th-congress\\/house-bill\\/2617\\/all-info?__cf_chl_rt_tk=hXxutAYlyrg8XRqCq332JPWH.DfkDE1PuHvqe6fv1Kg-1720765824-0.0.1.1-3882\" + window._cf_chl_opt.cOgUHash);cpo.onload = function() {history.replaceState(null, null, ogU);}}document.getElementsByTagName('head')[0].appendChild(cpo);}());</script></body></html>"
          ]
        }
      ]
    },
    {
      "cell_type": "code",
      "source": [
        "!wget \"https://api.congress.gov/v3/bill/117/hr/2617/actions?api_key=DEMO_KEY\""
      ],
      "metadata": {
        "colab": {
          "base_uri": "https://localhost:8080/"
        },
        "id": "9BVjmpdv8Ozb",
        "outputId": "791bfc30-2d87-482d-d339-9b579293beb1"
      },
      "execution_count": 25,
      "outputs": [
        {
          "output_type": "stream",
          "name": "stdout",
          "text": [
            "--2024-07-12 07:59:30--  https://api.congress.gov/v3/bill/117/hr/2617/actions?api_key=DEMO_KEY\n",
            "Resolving api.congress.gov (api.congress.gov)... 52.222.114.74, 15.205.50.108, 2600:1f12:18a:7d01:b90e:71f5:3763:4f1, ...\n",
            "Connecting to api.congress.gov (api.congress.gov)|52.222.114.74|:443... connected.\n",
            "HTTP request sent, awaiting response... 200 OK\n",
            "Length: 9701 (9.5K) [application/json]\n",
            "Saving to: ‘actions?api_key=DEMO_KEY’\n",
            "\n",
            "actions?api_key=DEM 100%[===================>]   9.47K  --.-KB/s    in 0s      \n",
            "\n",
            "2024-07-12 07:59:31 (91.2 MB/s) - ‘actions?api_key=DEMO_KEY’ saved [9701/9701]\n",
            "\n"
          ]
        }
      ]
    },
    {
      "cell_type": "code",
      "source": [
        "headers2 = {\n",
        "    'authority': 'www.congress.gov',\n",
        "    'accept': 'text/html,application/xhtml+xml,application/xml;q=0.9,image/avif,image/webp,image/apng,*/*;q=0.8,application/signed-exchange;v=b3;q=0.9',\n",
        "    'accept-language': 'en-US,en;q=0.9',\n",
        "    'cache-control': 'max-age=0',\n",
        "    'cookie': 's_ecid=MCMID|45033256416499284851191881930113105227; __cfruid=f405add7a93e5b3a8a7eadce558ef28be72bfdfd-1720762912; PHPSESSID=ec3iffmks0gfpo07mhjlnc65r3; AMCVS_0D15148954E6C5100A4C98BC@AdobeOrg=1; AMCV_0D15148954E6C5100A4C98BC@AdobeOrg=179643557|MCIDTS|19917|MCMID|45033256416499284851191881930113105227|MCAAMLH-1721367717|9|MCAAMB-1721367717|RKhpRz8krg2tLO6pguXWp5olkAcUniQYPHaMWWgdJ3xzPWQmdj0y|MCOPTOUT-1720770117s|NONE|MCAID|NONE|vVersion|5.5.0; s_cc=true; quickSearchFormExpanded=1; KWICViewCompact-advanced-search-legislation=false; KWICViewExpanded-advanced-search-legislation=true; KWICViewCompact-billAllActions=false; KWICViewExpanded-billAllActions=true; KWICViewCompact-search=false; KWICViewExpanded-search=true; __cf_bm=rd4qw4x.up8uTWbBD84Poup4glNSeFsg5gcuzvO6EFE-1720766126-1.0.1.1-XSpVssZbooXsOi76wvO3B6fexl42BuzV7i0g1KPdnO2nWJ3LM0IFb6BfZqQH_nJ8rTqdOW1jWhjQa3.UROabtg; s_sq=loclegislative=%26c.%26a.%26activitymap.%26page%3DH.R.2617%2520-%2520117th%2520Congress%2520%25282021-2022%2529%253A%2520Consolidated%2520Appropriations%2520Act%252C%25202023%2520%257C%2520Congress.gov%2520%257C%2520Library%2520of%2520Congress%26link%3DAll%2520Information%26region%3Dcontent%26pageIDType%3D1%26.activitymap%26.a%26.c%26pid%3DH.R.2617%2520-%2520117th%2520Congress%2520%25282021-2022%2529%253A%2520Consolidated%2520Appropriations%2520Act%252C%25202023%2520%257C%2520Congress.gov%2520%257C%2520Library%2520of%2520Congress%26pidt%3D1%26oid%3Dhttps%253A%252F%252Fwww.congress.gov%252Fbill%252F117th-congress%252Fhouse-bill%252F2617%252Fall-info%26ot%3DA',\n",
        "    'sec-ch-ua': '\"Not/A)Brand\";v=\"99\", \"Google Chrome\";v=\"115\", \"Chromium\";v=\"115\"',\n",
        "    'sec-ch-ua-arch': '\"x86\"',\n",
        "    'sec-ch-ua-bitness': '\"64\"',\n",
        "    'sec-ch-ua-full-version': '\"115.0.5790.110\"',\n",
        "    'sec-ch-ua-full-version-list': '\"Not/A)Brand\";v=\"99.0.0.0\", \"Google Chrome\";v=\"115.0.5790.110\", \"Chromium\";v=\"115.0.5790.110\"',\n",
        "    'sec-ch-ua-mobile': '?0',\n",
        "    'sec-ch-ua-model': '\"\"',\n",
        "    'sec-ch-ua-platform': 'Windows',\n",
        "    'sec-ch-ua-platform-version': '15.0.0',\n",
        "    'sec-ch-ua-wow64': '?0',\n",
        "    'sec-fetch-dest': 'document',\n",
        "    'sec-fetch-mode': 'navigate',\n",
        "    'sec-fetch-site': 'same-origin',\n",
        "    'sec-fetch-user': '?1',\n",
        "    'upgrade-insecure-requests': '1',\n",
        "    'user-agent': 'Mozilla/5.0 (Windows NT 10.0; Win64; x64) AppleWebKit/537.36 (KHTML, like Gecko) Chrome/115.0.0.0 Safari/537.36',\n",
        "    'x-client-data': '#..',\n",
        "}\n"
      ],
      "metadata": {
        "id": "3xlAxmny1B3u"
      },
      "execution_count": 22,
      "outputs": []
    },
    {
      "cell_type": "code",
      "source": [
        "url = \"https://www.congress.gov/bill/118th-congress/house-bill/7463\"\n",
        "headers = {'user-agent': 'Mozilla/5.0 (Windows NT 10.0; Win64; x64) AppleWebKit/537.36 (KHTML, like Gecko) Chrome/109.0.0.0 Safari/537.36',\n",
        "           'referer':'https://www.congress.gov/bill/117th-congress/house-bill/2617?overview=closed',\n",
        "           'method':'GET'}\n",
        "#Mozilla/5.0 (Windows NT 10.0; Win64; x64) AppleWebKit/537.36 (KHTML, like Gecko) Chrome/109.0.0.0 Safari/537.36\n",
        "#https://www.congress.gov/bill/118th-congress/house-bill/7463\n",
        "\n",
        "\n",
        "\n",
        "r = requests.get(url, headers=headers2)"
      ],
      "metadata": {
        "id": "GASeZopcmlEt"
      },
      "execution_count": 23,
      "outputs": []
    },
    {
      "cell_type": "code",
      "source": [
        "print(r.status_code)"
      ],
      "metadata": {
        "colab": {
          "base_uri": "https://localhost:8080/"
        },
        "id": "J5gYtS6FnEy8",
        "outputId": "7446e540-daeb-4fc6-f3cd-7271992867b5"
      },
      "execution_count": 24,
      "outputs": [
        {
          "output_type": "stream",
          "name": "stdout",
          "text": [
            "403\n"
          ]
        }
      ]
    }
  ]
}