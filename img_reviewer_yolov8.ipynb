{
  "nbformat": 4,
  "nbformat_minor": 0,
  "metadata": {
    "colab": {
      "provenance": [],
      "gpuType": "T4",
      "authorship_tag": "ABX9TyM/XTKuTufQsfBDxHHrkRNg",
      "include_colab_link": true
    },
    "kernelspec": {
      "name": "python3",
      "display_name": "Python 3"
    },
    "language_info": {
      "name": "python"
    },
    "accelerator": "GPU"
  },
  "cells": [
    {
      "cell_type": "markdown",
      "metadata": {
        "id": "view-in-github",
        "colab_type": "text"
      },
      "source": [
        "<a href=\"https://colab.research.google.com/github/sledhead/simple_python/blob/main/img_reviewer_yolov8.ipynb\" target=\"_parent\"><img src=\"https://colab.research.google.com/assets/colab-badge.svg\" alt=\"Open In Colab\"/></a>"
      ]
    },
    {
      "cell_type": "code",
      "execution_count": 1,
      "metadata": {
        "colab": {
          "base_uri": "https://localhost:8080/"
        },
        "id": "ymjtWkXgzrmz",
        "outputId": "f03c0cfd-bb0e-4719-8b63-553d5f90956f"
      },
      "outputs": [
        {
          "output_type": "stream",
          "name": "stdout",
          "text": [
            "Ultralytics YOLOv8.2.28 🚀 Python-3.10.12 torch-2.3.0+cu121 CUDA:0 (Tesla T4, 15102MiB)\n",
            "Setup complete ✅ (2 CPUs, 12.7 GB RAM, 30.0/78.2 GB disk)\n"
          ]
        }
      ],
      "source": [
        "%pip install ultralytics\n",
        "import ultralytics\n",
        "ultralytics.checks()"
      ]
    },
    {
      "cell_type": "code",
      "source": [
        "from ultralytics import YOLO\n",
        "\n",
        "model = YOLO('yolov8n.pt')\n",
        "\n"
      ],
      "metadata": {
        "colab": {
          "base_uri": "https://localhost:8080/"
        },
        "id": "_MAJ2Jzx0CRQ",
        "outputId": "6413c663-ba49-4701-a6be-4df563e8c033"
      },
      "execution_count": 2,
      "outputs": [
        {
          "output_type": "stream",
          "name": "stdout",
          "text": [
            "Downloading https://github.com/ultralytics/assets/releases/download/v8.2.0/yolov8n.pt to 'yolov8n.pt'...\n"
          ]
        },
        {
          "output_type": "stream",
          "name": "stderr",
          "text": [
            "100%|██████████| 6.23M/6.23M [00:00<00:00, 96.2MB/s]\n"
          ]
        }
      ]
    },
    {
      "cell_type": "code",
      "source": [
        "results = model(\"test4.jpg\")\n",
        "\n",
        "print(results[0].boxes)\n"
      ],
      "metadata": {
        "colab": {
          "base_uri": "https://localhost:8080/"
        },
        "id": "dQDPAuSh1V6C",
        "outputId": "7772244b-d537-467f-a01f-56d926840f1b"
      },
      "execution_count": 3,
      "outputs": [
        {
          "output_type": "stream",
          "name": "stdout",
          "text": [
            "\n",
            "image 1/1 /content/test4.jpg: 384x640 2 persons, 1 truck, 81.0ms\n",
            "Speed: 11.6ms preprocess, 81.0ms inference, 781.9ms postprocess per image at shape (1, 3, 384, 640)\n",
            "ultralytics.engine.results.Boxes object with attributes:\n",
            "\n",
            "cls: tensor([0., 0., 7.], device='cuda:0')\n",
            "conf: tensor([0.8521, 0.7806, 0.7719], device='cuda:0')\n",
            "data: tensor([[6.5575e+02, 6.0376e+02, 9.4230e+02, 1.3836e+03, 8.5206e-01, 0.0000e+00],\n",
            "        [1.8564e+03, 8.9438e+01, 2.2949e+03, 7.9067e+02, 7.8061e-01, 0.0000e+00],\n",
            "        [1.4979e+03, 9.1147e+01, 2.9410e+03, 1.2961e+03, 7.7191e-01, 7.0000e+00]], device='cuda:0')\n",
            "id: None\n",
            "is_track: False\n",
            "orig_shape: (1728, 3072)\n",
            "shape: torch.Size([3, 6])\n",
            "xywh: tensor([[ 799.0215,  993.6780,  286.5478,  779.8459],\n",
            "        [2075.6628,  440.0538,  438.5531,  701.2318],\n",
            "        [2219.4639,  693.6486, 1443.1260, 1205.0026]], device='cuda:0')\n",
            "xywhn: tensor([[0.2601, 0.5750, 0.0933, 0.4513],\n",
            "        [0.6757, 0.2547, 0.1428, 0.4058],\n",
            "        [0.7225, 0.4014, 0.4698, 0.6973]], device='cuda:0')\n",
            "xyxy: tensor([[ 655.7476,  603.7550,  942.2953, 1383.6010],\n",
            "        [1856.3864,   89.4379, 2294.9395,  790.6697],\n",
            "        [1497.9009,   91.1474, 2941.0269, 1296.1499]], device='cuda:0')\n",
            "xyxyn: tensor([[0.2135, 0.3494, 0.3067, 0.8007],\n",
            "        [0.6043, 0.0518, 0.7471, 0.4576],\n",
            "        [0.4876, 0.0527, 0.9574, 0.7501]], device='cuda:0')\n"
          ]
        }
      ]
    },
    {
      "cell_type": "code",
      "source": [
        "#print(results)\n",
        "print(type(results[0]))\n",
        "print(dir(results[0]))\n",
        "print(type(results[0].boxes))"
      ],
      "metadata": {
        "colab": {
          "base_uri": "https://localhost:8080/"
        },
        "id": "68XOiMv22sQi",
        "outputId": "13df3bc4-9270-4c3c-9f1e-c3de5282f9f2"
      },
      "execution_count": 5,
      "outputs": [
        {
          "output_type": "stream",
          "name": "stdout",
          "text": [
            "<class 'ultralytics.engine.results.Results'>\n",
            "['__class__', '__delattr__', '__dict__', '__dir__', '__doc__', '__eq__', '__format__', '__ge__', '__getattr__', '__getattribute__', '__getitem__', '__gt__', '__hash__', '__init__', '__init_subclass__', '__le__', '__len__', '__lt__', '__module__', '__ne__', '__new__', '__reduce__', '__reduce_ex__', '__repr__', '__setattr__', '__sizeof__', '__str__', '__subclasshook__', '__weakref__', '_apply', '_keys', 'boxes', 'cpu', 'cuda', 'keypoints', 'masks', 'names', 'new', 'numpy', 'obb', 'orig_img', 'orig_shape', 'path', 'plot', 'probs', 'save', 'save_crop', 'save_dir', 'save_txt', 'show', 'speed', 'summary', 'to', 'tojson', 'update', 'verbose']\n",
            "<class 'ultralytics.engine.results.Boxes'>\n"
          ]
        }
      ]
    },
    {
      "cell_type": "code",
      "source": [
        "print(results[0].probs)"
      ],
      "metadata": {
        "colab": {
          "base_uri": "https://localhost:8080/"
        },
        "id": "xOT3hxaf8kqt",
        "outputId": "98ce9813-d039-446f-9493-1e211b72cce5"
      },
      "execution_count": 4,
      "outputs": [
        {
          "output_type": "stream",
          "name": "stdout",
          "text": [
            "None\n"
          ]
        }
      ]
    },
    {
      "cell_type": "code",
      "source": [
        "print(results[0].boxes)"
      ],
      "metadata": {
        "colab": {
          "base_uri": "https://localhost:8080/"
        },
        "id": "OudiUY6k_rT-",
        "outputId": "0d1cac10-ff39-43e9-eba7-b57a912e8e26"
      },
      "execution_count": 6,
      "outputs": [
        {
          "output_type": "stream",
          "name": "stdout",
          "text": [
            "ultralytics.engine.results.Boxes object with attributes:\n",
            "\n",
            "cls: tensor([0., 0., 7.], device='cuda:0')\n",
            "conf: tensor([0.8521, 0.7806, 0.7719], device='cuda:0')\n",
            "data: tensor([[6.5575e+02, 6.0376e+02, 9.4230e+02, 1.3836e+03, 8.5206e-01, 0.0000e+00],\n",
            "        [1.8564e+03, 8.9438e+01, 2.2949e+03, 7.9067e+02, 7.8061e-01, 0.0000e+00],\n",
            "        [1.4979e+03, 9.1147e+01, 2.9410e+03, 1.2961e+03, 7.7191e-01, 7.0000e+00]], device='cuda:0')\n",
            "id: None\n",
            "is_track: False\n",
            "orig_shape: (1728, 3072)\n",
            "shape: torch.Size([3, 6])\n",
            "xywh: tensor([[ 799.0215,  993.6780,  286.5478,  779.8459],\n",
            "        [2075.6628,  440.0538,  438.5531,  701.2318],\n",
            "        [2219.4639,  693.6486, 1443.1260, 1205.0026]], device='cuda:0')\n",
            "xywhn: tensor([[0.2601, 0.5750, 0.0933, 0.4513],\n",
            "        [0.6757, 0.2547, 0.1428, 0.4058],\n",
            "        [0.7225, 0.4014, 0.4698, 0.6973]], device='cuda:0')\n",
            "xyxy: tensor([[ 655.7476,  603.7550,  942.2953, 1383.6010],\n",
            "        [1856.3864,   89.4379, 2294.9395,  790.6697],\n",
            "        [1497.9009,   91.1474, 2941.0269, 1296.1499]], device='cuda:0')\n",
            "xyxyn: tensor([[0.2135, 0.3494, 0.3067, 0.8007],\n",
            "        [0.6043, 0.0518, 0.7471, 0.4576],\n",
            "        [0.4876, 0.0527, 0.9574, 0.7501]], device='cuda:0')\n"
          ]
        }
      ]
    },
    {
      "cell_type": "code",
      "source": [
        "print(results[0].boxes.xyxy)\n",
        "print(results[0].boxes.conf)\n",
        "print(results[0].boxes.cls)"
      ],
      "metadata": {
        "colab": {
          "base_uri": "https://localhost:8080/"
        },
        "id": "wWTbVDKfATpL",
        "outputId": "defb9f02-203d-4645-cb95-6123c3a0228f"
      },
      "execution_count": 9,
      "outputs": [
        {
          "output_type": "stream",
          "name": "stdout",
          "text": [
            "tensor([[ 655.7476,  603.7550,  942.2953, 1383.6010],\n",
            "        [1856.3864,   89.4379, 2294.9395,  790.6697],\n",
            "        [1497.9009,   91.1474, 2941.0269, 1296.1499]], device='cuda:0')\n",
            "tensor([0.8521, 0.7806, 0.7719], device='cuda:0')\n",
            "tensor([0., 0., 7.], device='cuda:0')\n"
          ]
        }
      ]
    },
    {
      "cell_type": "code",
      "source": [
        "class_names = model.names\n",
        "print(class_names)\n",
        "icnt = 0\n",
        "for each_class_name in results[0].boxes.cls:\n",
        "  print(f'This object was found in the image: {class_names[int(each_class_name)]}  Here is the conf: {results[0].boxes.conf[icnt]} ')\n",
        "  icnt = icnt + 1"
      ],
      "metadata": {
        "colab": {
          "base_uri": "https://localhost:8080/"
        },
        "id": "V8xHYbFvCR1y",
        "outputId": "05b3c301-f339-414e-d5c1-ab7f0feb8327"
      },
      "execution_count": 14,
      "outputs": [
        {
          "output_type": "stream",
          "name": "stdout",
          "text": [
            "{0: 'person', 1: 'bicycle', 2: 'car', 3: 'motorcycle', 4: 'airplane', 5: 'bus', 6: 'train', 7: 'truck', 8: 'boat', 9: 'traffic light', 10: 'fire hydrant', 11: 'stop sign', 12: 'parking meter', 13: 'bench', 14: 'bird', 15: 'cat', 16: 'dog', 17: 'horse', 18: 'sheep', 19: 'cow', 20: 'elephant', 21: 'bear', 22: 'zebra', 23: 'giraffe', 24: 'backpack', 25: 'umbrella', 26: 'handbag', 27: 'tie', 28: 'suitcase', 29: 'frisbee', 30: 'skis', 31: 'snowboard', 32: 'sports ball', 33: 'kite', 34: 'baseball bat', 35: 'baseball glove', 36: 'skateboard', 37: 'surfboard', 38: 'tennis racket', 39: 'bottle', 40: 'wine glass', 41: 'cup', 42: 'fork', 43: 'knife', 44: 'spoon', 45: 'bowl', 46: 'banana', 47: 'apple', 48: 'sandwich', 49: 'orange', 50: 'broccoli', 51: 'carrot', 52: 'hot dog', 53: 'pizza', 54: 'donut', 55: 'cake', 56: 'chair', 57: 'couch', 58: 'potted plant', 59: 'bed', 60: 'dining table', 61: 'toilet', 62: 'tv', 63: 'laptop', 64: 'mouse', 65: 'remote', 66: 'keyboard', 67: 'cell phone', 68: 'microwave', 69: 'oven', 70: 'toaster', 71: 'sink', 72: 'refrigerator', 73: 'book', 74: 'clock', 75: 'vase', 76: 'scissors', 77: 'teddy bear', 78: 'hair drier', 79: 'toothbrush'}\n",
            "This object was found in the image: person  Here is the conf: 0.8520629405975342 \n",
            "This object was found in the image: person  Here is the conf: 0.7806056141853333 \n",
            "This object was found in the image: truck  Here is the conf: 0.771914005279541 \n"
          ]
        }
      ]
    }
  ]
}