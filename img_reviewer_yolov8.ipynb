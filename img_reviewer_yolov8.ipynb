{
  "nbformat": 4,
  "nbformat_minor": 0,
  "metadata": {
    "colab": {
      "provenance": [],
      "gpuType": "T4",
      "authorship_tag": "ABX9TyN0VXc6Ex0LoF0q8+cKAHN5",
      "include_colab_link": true
    },
    "kernelspec": {
      "name": "python3",
      "display_name": "Python 3"
    },
    "language_info": {
      "name": "python"
    },
    "accelerator": "GPU"
  },
  "cells": [
    {
      "cell_type": "markdown",
      "metadata": {
        "id": "view-in-github",
        "colab_type": "text"
      },
      "source": [
        "<a href=\"https://colab.research.google.com/github/sledhead/simple_python/blob/main/img_reviewer_yolov8.ipynb\" target=\"_parent\"><img src=\"https://colab.research.google.com/assets/colab-badge.svg\" alt=\"Open In Colab\"/></a>"
      ]
    },
    {
      "cell_type": "code",
      "execution_count": 1,
      "metadata": {
        "colab": {
          "base_uri": "https://localhost:8080/"
        },
        "id": "ymjtWkXgzrmz",
        "outputId": "88056c79-0ad1-445a-a4c4-853aff6731ec"
      },
      "outputs": [
        {
          "output_type": "stream",
          "name": "stdout",
          "text": [
            "Ultralytics YOLOv8.2.32 🚀 Python-3.10.12 torch-2.3.0+cu121 CUDA:0 (Tesla T4, 15102MiB)\n",
            "Setup complete ✅ (2 CPUs, 12.7 GB RAM, 30.2/78.2 GB disk)\n"
          ]
        }
      ],
      "source": [
        "%pip install ultralytics\n",
        "import ultralytics\n",
        "ultralytics.checks()"
      ]
    },
    {
      "cell_type": "code",
      "source": [
        "from ultralytics import YOLO\n",
        "\n",
        "model = YOLO('yolov8n.pt')\n",
        "\n"
      ],
      "metadata": {
        "colab": {
          "base_uri": "https://localhost:8080/"
        },
        "id": "_MAJ2Jzx0CRQ",
        "outputId": "10c8befd-ef32-4538-c5ce-0749b6f93e33"
      },
      "execution_count": 2,
      "outputs": [
        {
          "output_type": "stream",
          "name": "stdout",
          "text": [
            "Downloading https://github.com/ultralytics/assets/releases/download/v8.2.0/yolov8n.pt to 'yolov8n.pt'...\n"
          ]
        },
        {
          "output_type": "stream",
          "name": "stderr",
          "text": [
            "100%|██████████| 6.23M/6.23M [00:00<00:00, 120MB/s]\n"
          ]
        }
      ]
    },
    {
      "cell_type": "code",
      "source": [
        "results = model(\"test9.jpg\")\n",
        "\n",
        "print(results[0].boxes)\n"
      ],
      "metadata": {
        "colab": {
          "base_uri": "https://localhost:8080/"
        },
        "id": "dQDPAuSh1V6C",
        "outputId": "705d6c9f-c370-4e13-c227-a013de3c4e51"
      },
      "execution_count": 23,
      "outputs": [
        {
          "output_type": "stream",
          "name": "stdout",
          "text": [
            "\n",
            "image 1/1 /content/test9.jpg: 384x640 1 cow, 9.6ms\n",
            "Speed: 3.4ms preprocess, 9.6ms inference, 1.7ms postprocess per image at shape (1, 3, 384, 640)\n",
            "ultralytics.engine.results.Boxes object with attributes:\n",
            "\n",
            "cls: tensor([19.], device='cuda:0')\n",
            "conf: tensor([0.8165], device='cuda:0')\n",
            "data: tensor([[2.2344e+03, 1.1444e+02, 2.5061e+03, 3.2839e+02, 8.1654e-01, 1.9000e+01]], device='cuda:0')\n",
            "id: None\n",
            "is_track: False\n",
            "orig_shape: (1728, 3072)\n",
            "shape: torch.Size([1, 6])\n",
            "xywh: tensor([[2370.2300,  221.4182,  271.7415,  213.9478]], device='cuda:0')\n",
            "xywhn: tensor([[0.7716, 0.1281, 0.0885, 0.1238]], device='cuda:0')\n",
            "xyxy: tensor([[2234.3594,  114.4443, 2506.1008,  328.3921]], device='cuda:0')\n",
            "xyxyn: tensor([[0.7273, 0.0662, 0.8158, 0.1900]], device='cuda:0')\n"
          ]
        }
      ]
    },
    {
      "cell_type": "code",
      "source": [
        "#print(results)\n",
        "print(type(results[0]))\n",
        "print(dir(results[0]))\n",
        "print(type(results[0].boxes))"
      ],
      "metadata": {
        "colab": {
          "base_uri": "https://localhost:8080/"
        },
        "id": "68XOiMv22sQi",
        "outputId": "03029b33-35bc-43d8-9060-37df327a84d6"
      },
      "execution_count": 14,
      "outputs": [
        {
          "output_type": "stream",
          "name": "stdout",
          "text": [
            "<class 'ultralytics.engine.results.Results'>\n",
            "['__class__', '__delattr__', '__dict__', '__dir__', '__doc__', '__eq__', '__format__', '__ge__', '__getattr__', '__getattribute__', '__getitem__', '__gt__', '__hash__', '__init__', '__init_subclass__', '__le__', '__len__', '__lt__', '__module__', '__ne__', '__new__', '__reduce__', '__reduce_ex__', '__repr__', '__setattr__', '__sizeof__', '__str__', '__subclasshook__', '__weakref__', '_apply', '_keys', 'boxes', 'cpu', 'cuda', 'keypoints', 'masks', 'names', 'new', 'numpy', 'obb', 'orig_img', 'orig_shape', 'path', 'plot', 'probs', 'save', 'save_crop', 'save_dir', 'save_txt', 'show', 'speed', 'summary', 'to', 'tojson', 'update', 'verbose']\n",
            "<class 'ultralytics.engine.results.Boxes'>\n"
          ]
        }
      ]
    },
    {
      "cell_type": "code",
      "source": [
        "print(results[0].probs)"
      ],
      "metadata": {
        "colab": {
          "base_uri": "https://localhost:8080/"
        },
        "id": "xOT3hxaf8kqt",
        "outputId": "c90b44ab-2b5f-4ac5-e9d8-2227c8caf23c"
      },
      "execution_count": 15,
      "outputs": [
        {
          "output_type": "stream",
          "name": "stdout",
          "text": [
            "None\n"
          ]
        }
      ]
    },
    {
      "cell_type": "code",
      "source": [
        "print(results[0].boxes)"
      ],
      "metadata": {
        "colab": {
          "base_uri": "https://localhost:8080/"
        },
        "id": "OudiUY6k_rT-",
        "outputId": "f357292b-b803-49b5-c6ca-536dd176cb35"
      },
      "execution_count": 16,
      "outputs": [
        {
          "output_type": "stream",
          "name": "stdout",
          "text": [
            "ultralytics.engine.results.Boxes object with attributes:\n",
            "\n",
            "cls: tensor([2., 0.], device='cuda:0')\n",
            "conf: tensor([0.8811, 0.8479], device='cuda:0')\n",
            "data: tensor([[2.1156e+03, 6.3506e+01, 3.0714e+03, 1.2583e+03, 8.8107e-01, 2.0000e+00],\n",
            "        [1.7202e+03, 9.3403e+02, 2.1837e+03, 1.7189e+03, 8.4788e-01, 0.0000e+00]], device='cuda:0')\n",
            "id: None\n",
            "is_track: False\n",
            "orig_shape: (1728, 3072)\n",
            "shape: torch.Size([2, 6])\n",
            "xywh: tensor([[2593.5256,  660.8830,  955.8335, 1194.7543],\n",
            "        [1951.9688, 1326.4744,  463.5380,  784.8861]], device='cuda:0')\n",
            "xywhn: tensor([[0.8442, 0.3825, 0.3111, 0.6914],\n",
            "        [0.6354, 0.7676, 0.1509, 0.4542]], device='cuda:0')\n",
            "xyxy: tensor([[2115.6089,   63.5058, 3071.4424, 1258.2601],\n",
            "        [1720.1998,  934.0314, 2183.7378, 1718.9175]], device='cuda:0')\n",
            "xyxyn: tensor([[0.6887, 0.0368, 0.9998, 0.7282],\n",
            "        [0.5600, 0.5405, 0.7109, 0.9947]], device='cuda:0')\n"
          ]
        }
      ]
    },
    {
      "cell_type": "code",
      "source": [
        "print(results[0].boxes.xyxy)\n",
        "print(results[0].boxes.conf)\n",
        "print(results[0].boxes.cls)"
      ],
      "metadata": {
        "colab": {
          "base_uri": "https://localhost:8080/"
        },
        "id": "wWTbVDKfATpL",
        "outputId": "8c17fecc-f44c-4a62-b01a-57f31682ef8b"
      },
      "execution_count": 24,
      "outputs": [
        {
          "output_type": "stream",
          "name": "stdout",
          "text": [
            "tensor([[2234.3594,  114.4443, 2506.1008,  328.3921]], device='cuda:0')\n",
            "tensor([0.8165], device='cuda:0')\n",
            "tensor([19.], device='cuda:0')\n"
          ]
        }
      ]
    },
    {
      "cell_type": "code",
      "source": [
        "class_names = model.names\n",
        "print(class_names)\n",
        "icnt = 0\n",
        "for each_class_name in results[0].boxes.cls:\n",
        "  print(f'This object was found in the image: {class_names[int(each_class_name)]}  Here is the conf: {results[0].boxes.conf[icnt]} ')\n",
        "  icnt = icnt + 1"
      ],
      "metadata": {
        "colab": {
          "base_uri": "https://localhost:8080/"
        },
        "id": "V8xHYbFvCR1y",
        "outputId": "b7a75cf7-38dd-47eb-d08d-9eaa539701c8"
      },
      "execution_count": 25,
      "outputs": [
        {
          "output_type": "stream",
          "name": "stdout",
          "text": [
            "{0: 'person', 1: 'bicycle', 2: 'car', 3: 'motorcycle', 4: 'airplane', 5: 'bus', 6: 'train', 7: 'truck', 8: 'boat', 9: 'traffic light', 10: 'fire hydrant', 11: 'stop sign', 12: 'parking meter', 13: 'bench', 14: 'bird', 15: 'cat', 16: 'dog', 17: 'horse', 18: 'sheep', 19: 'cow', 20: 'elephant', 21: 'bear', 22: 'zebra', 23: 'giraffe', 24: 'backpack', 25: 'umbrella', 26: 'handbag', 27: 'tie', 28: 'suitcase', 29: 'frisbee', 30: 'skis', 31: 'snowboard', 32: 'sports ball', 33: 'kite', 34: 'baseball bat', 35: 'baseball glove', 36: 'skateboard', 37: 'surfboard', 38: 'tennis racket', 39: 'bottle', 40: 'wine glass', 41: 'cup', 42: 'fork', 43: 'knife', 44: 'spoon', 45: 'bowl', 46: 'banana', 47: 'apple', 48: 'sandwich', 49: 'orange', 50: 'broccoli', 51: 'carrot', 52: 'hot dog', 53: 'pizza', 54: 'donut', 55: 'cake', 56: 'chair', 57: 'couch', 58: 'potted plant', 59: 'bed', 60: 'dining table', 61: 'toilet', 62: 'tv', 63: 'laptop', 64: 'mouse', 65: 'remote', 66: 'keyboard', 67: 'cell phone', 68: 'microwave', 69: 'oven', 70: 'toaster', 71: 'sink', 72: 'refrigerator', 73: 'book', 74: 'clock', 75: 'vase', 76: 'scissors', 77: 'teddy bear', 78: 'hair drier', 79: 'toothbrush'}\n",
            "This object was found in the image: cow  Here is the conf: 0.8165361285209656 \n"
          ]
        }
      ]
    },
    {
      "cell_type": "code",
      "source": [
        "import pandas as pd\n",
        "import requests\n",
        "#Will display upload box to user to allow a file to upload and encrypted.\n",
        "from google.colab import drive\n",
        "drive.mount('/content/drive')"
      ],
      "metadata": {
        "id": "YJTSBxllIGpc",
        "colab": {
          "base_uri": "https://localhost:8080/"
        },
        "outputId": "7eb2e88f-fd2e-4b22-e091-82461b0ec0d8"
      },
      "execution_count": 9,
      "outputs": [
        {
          "output_type": "stream",
          "name": "stdout",
          "text": [
            "Mounted at /content/drive\n"
          ]
        }
      ]
    },
    {
      "cell_type": "code",
      "source": [
        "\n",
        "import os\n",
        "base_folder_path = '/content/drive/MyDrive/Encryption_test/test_pics/test_imgs'\n",
        "\n",
        "#Get list of files at this location\n",
        "file_lst = os.listdir(base_folder_path)\n",
        "\n",
        "print(f'The number of files in this folder: {len(file_lst)}')\n",
        "\n",
        "#list of dict objects for files found with objects of value.\n",
        "valueful_files_lst = []\n",
        "\n",
        "for single_num in range(1,12,1):\n",
        "  full_file_path = os.path.join(base_folder_path,file_lst[single_num])\n",
        "  print(f'The file name: {file_lst[single_num]}')\n",
        "  print(f'Full file path: {full_file_path}')\n",
        "  print('.........................................')\n",
        "\n",
        "\n",
        "for single_file_name in file_lst:\n",
        "  full_file_path = os.path.join(base_folder_path,single_file_name)\n",
        "\n",
        "  if(os.path.isfile(full_file_path) ):\n",
        "    #confirm that this is file and not a directory\n",
        "\n",
        "    results = model(full_file_path)\n",
        "\n",
        "    icnt = 0\n",
        "    bValidObjFound = False\n",
        "    dict_found_file_objects = {}\n",
        "    dict_found_file_objects['file_name'] = full_file_path\n",
        "    for each_class_name in results[0].boxes.cls:\n",
        "      print(f'This object was found in the image: {class_names[int(each_class_name)]}  Here is the conf: {results[0].boxes.conf[icnt]} ')\n",
        "\n",
        "\n",
        "      if( results[0].boxes.conf[icnt] > 0.5 ):\n",
        "        bValidObjFound = True\n",
        "\n",
        "      obj_nm = 'obj_' + str(icnt)\n",
        "      dict_found_file_objects[obj_nm] = class_names[int(each_class_name)]\n",
        "\n",
        "      icnt = icnt + 1\n",
        "\n",
        "    #was an object found that was greater than 50 % keep track of this file...\n",
        "    if( bValidObjFound == True ):\n",
        "      valueful_files_lst.append(dict_found_file_objects)\n",
        "\n",
        "\n",
        "\n",
        "\n",
        "\n"
      ],
      "metadata": {
        "id": "tm_n4RzIchWX"
      },
      "execution_count": null,
      "outputs": []
    },
    {
      "cell_type": "code",
      "source": [
        "print(f'the number of files recorded with useful objects found: {len(valueful_files_lst)}')\n",
        "\n",
        "for single_recorded_file in valueful_files_lst:\n",
        "  print('.....................................')\n",
        "  print(single_recorded_file)\n",
        "  print('.....................................')"
      ],
      "metadata": {
        "id": "vAKOVXNKo5Zg"
      },
      "execution_count": null,
      "outputs": []
    }
  ]
}