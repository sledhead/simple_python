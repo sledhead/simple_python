{
  "nbformat": 4,
  "nbformat_minor": 0,
  "metadata": {
    "colab": {
      "provenance": [],
      "toc_visible": true,
      "authorship_tag": "ABX9TyOqSn2EXjcsXZK6uqbZwmiw",
      "include_colab_link": true
    },
    "kernelspec": {
      "name": "python3",
      "display_name": "Python 3"
    },
    "language_info": {
      "name": "python"
    }
  },
  "cells": [
    {
      "cell_type": "markdown",
      "metadata": {
        "id": "view-in-github",
        "colab_type": "text"
      },
      "source": [
        "<a href=\"https://colab.research.google.com/github/sledhead/simple_python/blob/main/webpage_scrapv2.ipynb\" target=\"_parent\"><img src=\"https://colab.research.google.com/assets/colab-badge.svg\" alt=\"Open In Colab\"/></a>"
      ]
    },
    {
      "cell_type": "code",
      "execution_count": null,
      "metadata": {
        "id": "M4pdPHt51eXy",
        "colab": {
          "base_uri": "https://localhost:8080/"
        },
        "outputId": "a566ae9a-2363-4598-dafd-ca8ba52d8c68"
      },
      "outputs": [
        {
          "output_type": "stream",
          "name": "stdout",
          "text": [
            "Mounted at /content/drive\n"
          ]
        }
      ],
      "source": [
        "import pandas as pd\n",
        "import requests\n",
        "#Will display upload box to user to allow a file to upload and encrypted.\n",
        "from google.colab import drive\n",
        "drive.mount('/content/drive')"
      ]
    },
    {
      "cell_type": "code",
      "source": [
        "!pip install xmltodict"
      ],
      "metadata": {
        "id": "VLNp2zQI2H6G",
        "colab": {
          "base_uri": "https://localhost:8080/"
        },
        "outputId": "c9aad6d0-baad-44c2-e75a-641cbcae66cc"
      },
      "execution_count": null,
      "outputs": [
        {
          "output_type": "stream",
          "name": "stdout",
          "text": [
            "Collecting xmltodict\n",
            "  Downloading xmltodict-0.13.0-py2.py3-none-any.whl (10.0 kB)\n",
            "Installing collected packages: xmltodict\n",
            "Successfully installed xmltodict-0.13.0\n"
          ]
        }
      ]
    },
    {
      "cell_type": "code",
      "source": [
        "import xmltodict"
      ],
      "metadata": {
        "id": "TZilgEIY23T6"
      },
      "execution_count": null,
      "outputs": []
    },
    {
      "cell_type": "code",
      "source": [
        "import time"
      ],
      "metadata": {
        "id": "hIjIOtrcxAhm"
      },
      "execution_count": null,
      "outputs": []
    },
    {
      "cell_type": "markdown",
      "source": [
        "Section below will gather xml file for each year of the senate vote....\n",
        "2017 to current"
      ],
      "metadata": {
        "id": "0A8tf5Qj3EK8"
      }
    },
    {
      "cell_type": "code",
      "source": [
        "!wget https://www.senate.gov/legislative/LIS/roll_call_lists/vote_menu_115_1.xml\n",
        "!wget https://www.senate.gov/legislative/LIS/roll_call_lists/vote_menu_115_2.xml\n",
        "\n",
        "!wget https://www.senate.gov/legislative/LIS/roll_call_lists/vote_menu_116_1.xml\n",
        "!wget https://www.senate.gov/legislative/LIS/roll_call_lists/vote_menu_116_2.xml\n",
        "\n",
        "!wget https://www.senate.gov/legislative/LIS/roll_call_lists/vote_menu_117_1.xml\n",
        "!wget https://www.senate.gov/legislative/LIS/roll_call_lists/vote_menu_117_2.xml\n",
        "\n",
        "!wget https://www.senate.gov/legislative/LIS/roll_call_lists/vote_menu_118_1.xml\n",
        "!wget https://www.senate.gov/legislative/LIS/roll_call_lists/vote_menu_118_2.xml"
      ],
      "metadata": {
        "id": "_6NteNj928eq",
        "colab": {
          "base_uri": "https://localhost:8080/"
        },
        "collapsed": true,
        "outputId": "a61da827-44c6-4679-ae3b-6cf3bc1af21e"
      },
      "execution_count": null,
      "outputs": [
        {
          "output_type": "stream",
          "name": "stdout",
          "text": [
            "--2024-05-17 07:24:42--  https://www.senate.gov/legislative/LIS/roll_call_lists/vote_menu_115_1.xml\n",
            "Resolving www.senate.gov (www.senate.gov)... 104.96.219.104, 2600:1408:ec00:108c::1e3, 2600:1408:ec00:108e::1e3\n",
            "Connecting to www.senate.gov (www.senate.gov)|104.96.219.104|:443... connected.\n",
            "HTTP request sent, awaiting response... 200 OK\n",
            "Length: unspecified [text/xml]\n",
            "Saving to: ‘vote_menu_115_1.xml’\n",
            "\n",
            "vote_menu_115_1.xml     [ <=>                ] 149.40K  --.-KB/s    in 0.005s  \n",
            "\n",
            "2024-05-17 07:24:42 (29.3 MB/s) - ‘vote_menu_115_1.xml’ saved [152990]\n",
            "\n",
            "--2024-05-17 07:24:42--  https://www.senate.gov/legislative/LIS/roll_call_lists/vote_menu_115_2.xml\n",
            "Resolving www.senate.gov (www.senate.gov)... 104.96.219.104, 2600:1408:ec00:108c::1e3, 2600:1408:ec00:108e::1e3\n",
            "Connecting to www.senate.gov (www.senate.gov)|104.96.219.104|:443... connected.\n",
            "HTTP request sent, awaiting response... 200 OK\n",
            "Length: unspecified [text/xml]\n",
            "Saving to: ‘vote_menu_115_2.xml’\n",
            "\n",
            "vote_menu_115_2.xml     [ <=>                ] 129.96K  --.-KB/s    in 0.005s  \n",
            "\n",
            "2024-05-17 07:24:42 (25.0 MB/s) - ‘vote_menu_115_2.xml’ saved [133079]\n",
            "\n",
            "--2024-05-17 07:24:42--  https://www.senate.gov/legislative/LIS/roll_call_lists/vote_menu_116_1.xml\n",
            "Resolving www.senate.gov (www.senate.gov)... 104.96.219.104, 2600:1408:ec00:108c::1e3, 2600:1408:ec00:108e::1e3\n",
            "Connecting to www.senate.gov (www.senate.gov)|104.96.219.104|:443... connected.\n",
            "HTTP request sent, awaiting response... 200 OK\n",
            "Length: unspecified [text/xml]\n",
            "Saving to: ‘vote_menu_116_1.xml’\n",
            "\n",
            "vote_menu_116_1.xml     [ <=>                ] 196.87K  --.-KB/s    in 0.005s  \n",
            "\n",
            "2024-05-17 07:24:42 (39.5 MB/s) - ‘vote_menu_116_1.xml’ saved [201594]\n",
            "\n",
            "--2024-05-17 07:24:42--  https://www.senate.gov/legislative/LIS/roll_call_lists/vote_menu_116_2.xml\n",
            "Resolving www.senate.gov (www.senate.gov)... 104.96.219.104, 2600:1408:ec00:108c::1e3, 2600:1408:ec00:108e::1e3\n",
            "Connecting to www.senate.gov (www.senate.gov)|104.96.219.104|:443... connected.\n",
            "HTTP request sent, awaiting response... 200 OK\n",
            "Length: unspecified [text/xml]\n",
            "Saving to: ‘vote_menu_116_2.xml’\n",
            "\n",
            "vote_menu_116_2.xml     [ <=>                ] 132.84K  --.-KB/s    in 0.005s  \n",
            "\n",
            "2024-05-17 07:24:43 (27.6 MB/s) - ‘vote_menu_116_2.xml’ saved [136028]\n",
            "\n",
            "--2024-05-17 07:24:43--  https://www.senate.gov/legislative/LIS/roll_call_lists/vote_menu_117_1.xml\n",
            "Resolving www.senate.gov (www.senate.gov)... 104.96.219.104, 2600:1408:ec00:108c::1e3, 2600:1408:ec00:108e::1e3\n",
            "Connecting to www.senate.gov (www.senate.gov)|104.96.219.104|:443... connected.\n",
            "HTTP request sent, awaiting response... 200 OK\n",
            "Length: unspecified [text/xml]\n",
            "Saving to: ‘vote_menu_117_1.xml’\n",
            "\n",
            "vote_menu_117_1.xml     [ <=>                ] 243.07K  --.-KB/s    in 0.005s  \n",
            "\n",
            "2024-05-17 07:24:43 (44.1 MB/s) - ‘vote_menu_117_1.xml’ saved [248901]\n",
            "\n",
            "--2024-05-17 07:24:43--  https://www.senate.gov/legislative/LIS/roll_call_lists/vote_menu_117_2.xml\n",
            "Resolving www.senate.gov (www.senate.gov)... 104.96.219.104, 2600:1408:ec00:108c::1e3, 2600:1408:ec00:108e::1e3\n",
            "Connecting to www.senate.gov (www.senate.gov)|104.96.219.104|:443... connected.\n",
            "HTTP request sent, awaiting response... 200 OK\n",
            "Length: unspecified [text/xml]\n",
            "Saving to: ‘vote_menu_117_2.xml’\n",
            "\n",
            "vote_menu_117_2.xml     [ <=>                ] 192.27K  --.-KB/s    in 0.006s  \n",
            "\n",
            "2024-05-17 07:24:43 (31.4 MB/s) - ‘vote_menu_117_2.xml’ saved [196885]\n",
            "\n",
            "--2024-05-17 07:24:43--  https://www.senate.gov/legislative/LIS/roll_call_lists/vote_menu_118_1.xml\n",
            "Resolving www.senate.gov (www.senate.gov)... 104.96.219.104, 2600:1408:ec00:108c::1e3, 2600:1408:ec00:108e::1e3\n",
            "Connecting to www.senate.gov (www.senate.gov)|104.96.219.104|:443... connected.\n",
            "HTTP request sent, awaiting response... 200 OK\n",
            "Length: unspecified [text/xml]\n",
            "Saving to: ‘vote_menu_118_1.xml’\n",
            "\n",
            "vote_menu_118_1.xml     [ <=>                ] 160.63K  --.-KB/s    in 0.006s  \n",
            "\n",
            "2024-05-17 07:24:43 (24.9 MB/s) - ‘vote_menu_118_1.xml’ saved [164482]\n",
            "\n",
            "--2024-05-17 07:24:43--  https://www.senate.gov/legislative/LIS/roll_call_lists/vote_menu_118_2.xml\n",
            "Resolving www.senate.gov (www.senate.gov)... 104.96.219.104, 2600:1408:ec00:108c::1e3, 2600:1408:ec00:108e::1e3\n",
            "Connecting to www.senate.gov (www.senate.gov)|104.96.219.104|:443... connected.\n",
            "HTTP request sent, awaiting response... 200 OK\n",
            "Length: unspecified [text/xml]\n",
            "Saving to: ‘vote_menu_118_2.xml’\n",
            "\n",
            "vote_menu_118_2.xml     [ <=>                ]  80.96K  --.-KB/s    in 0.002s  \n",
            "\n",
            "2024-05-17 07:24:43 (31.6 MB/s) - ‘vote_menu_118_2.xml’ saved [82900]\n",
            "\n"
          ]
        }
      ]
    },
    {
      "cell_type": "markdown",
      "source": [
        "Next Section below will open xml and then use this file to build the list of file links for gather senator votes"
      ],
      "metadata": {
        "id": "k8fJlcFS5_8l"
      }
    },
    {
      "cell_type": "code",
      "source": [
        "\n",
        "full_http_link_file_path = []\n",
        "vote_menu_file_lst = ['vote_menu_115_1.xml','vote_menu_115_2.xml','vote_menu_116_1.xml','vote_menu_116_2.xml','vote_menu_117_1.xml','vote_menu_117_2.xml','vote_menu_118_1.xml','vote_menu_118_2.xml']\n",
        "\n",
        "for each_year_call_lst in vote_menu_file_lst:\n",
        "\n",
        "  xml_file = open(each_year_call_lst, 'r')\n",
        "  xml_data_str = xml_file.read()\n",
        "\n",
        "  xml_to_dict_obj = xmltodict.parse(xml_data_str)\n",
        "\n",
        "  congress_num = xml_to_dict_obj['vote_summary']['congress']\n",
        "  congress_sec_num = xml_to_dict_obj['vote_summary']['session']\n",
        "\n",
        "  congress_lst_vote = xml_to_dict_obj['vote_summary']['votes']['vote']\n",
        "\n",
        "\n",
        "\n",
        "  base_link_path = 'https://www.senate.gov/legislative/LIS/roll_call_votes/'\n",
        "  full_base_link_path = base_link_path + 'vote' + str(congress_num) + str(congress_sec_num) + '/vote_' + str(congress_num) + '_' + str(congress_sec_num) + '_'\n",
        "  print(full_base_link_path)\n",
        "\n",
        "  for each_vote_section in congress_lst_vote:\n",
        "    single_vote_num = each_vote_section['vote_number']\n",
        "    #build full link path for getting xml data....\n",
        "    #https://www.senate.gov/legislative/LIS/roll_call_votes/vote1172/vote_117_2_00420.htm\n",
        "\n",
        "    single_file_link_path = full_base_link_path + str(single_vote_num) + '.xml'\n",
        "    full_http_link_file_path.append(single_file_link_path)\n"
      ],
      "metadata": {
        "id": "q8XTQkjH5-tJ",
        "colab": {
          "base_uri": "https://localhost:8080/"
        },
        "outputId": "f99f318f-1d27-4f09-d5e7-a483e4b44e9c"
      },
      "execution_count": null,
      "outputs": [
        {
          "output_type": "stream",
          "name": "stdout",
          "text": [
            "https://www.senate.gov/legislative/LIS/roll_call_votes/vote1151/vote_115_1_\n",
            "https://www.senate.gov/legislative/LIS/roll_call_votes/vote1152/vote_115_2_\n",
            "https://www.senate.gov/legislative/LIS/roll_call_votes/vote1161/vote_116_1_\n",
            "https://www.senate.gov/legislative/LIS/roll_call_votes/vote1162/vote_116_2_\n",
            "https://www.senate.gov/legislative/LIS/roll_call_votes/vote1171/vote_117_1_\n",
            "https://www.senate.gov/legislative/LIS/roll_call_votes/vote1172/vote_117_2_\n",
            "https://www.senate.gov/legislative/LIS/roll_call_votes/vote1181/vote_118_1_\n",
            "https://www.senate.gov/legislative/LIS/roll_call_votes/vote1182/vote_118_2_\n"
          ]
        }
      ]
    },
    {
      "cell_type": "markdown",
      "source": [
        "# Test Section\n"
      ],
      "metadata": {
        "id": "GeGrzFuLbEPq"
      }
    },
    {
      "cell_type": "code",
      "source": [
        "print(len(full_http_link_file_path))"
      ],
      "metadata": {
        "colab": {
          "base_uri": "https://localhost:8080/"
        },
        "id": "CKtu7mPabPlJ",
        "outputId": "179ddad2-5dd4-4449-f0c1-25f59f913944"
      },
      "execution_count": null,
      "outputs": [
        {
          "output_type": "stream",
          "name": "stdout",
          "text": [
            "2791\n"
          ]
        }
      ]
    },
    {
      "cell_type": "code",
      "source": [
        "for single_file_path in full_http_link_file_path:\n",
        "  print(single_file_path)\n",
        "\n"
      ],
      "metadata": {
        "id": "saV01TZpcdwS"
      },
      "execution_count": null,
      "outputs": []
    },
    {
      "cell_type": "markdown",
      "source": [
        "# Build Senator Dict"
      ],
      "metadata": {
        "id": "V3BVqldjbVNu"
      }
    },
    {
      "cell_type": "markdown",
      "source": [
        "Section below will loop through list of xml files and build a dict of all the votes within the time period.  Just selected senators will be recorded."
      ],
      "metadata": {
        "id": "XWbBiVPaaIBQ"
      }
    },
    {
      "cell_type": "code",
      "source": [
        "missing_links = []\n",
        "senator_history_lst = []\n",
        "\n",
        "#full_http_link_file_path = ['https://www.senate.gov/legislative/LIS/roll_call_votes/vote1151/vote_115_1_00271.xml', 'https://www.senate.gov/legislative/LIS/roll_call_votes/vote1151/vote_115_1_00262.xml']\n",
        "select_only_senators = ['Daines', 'Tester', 'Cruz', 'Schumer','Warren','Cotton','Sanders', 'Feinstein','Paul','Hirono']\n",
        "\n",
        "for each_single_file_link in full_http_link_file_path:\n",
        "  #gather the data from each single file link path\n",
        "  r = requests.get(each_single_file_link)\n",
        "  #print(r.status_code)\n",
        "  #print(r.text)\n",
        "\n",
        "  #make sure we got a file....\n",
        "  if(r.status_code == 200):\n",
        "    vote_call_details = xmltodict.parse(r.text)\n",
        "\n",
        "    congress_id_num = vote_call_details['roll_call_vote']['congress']\n",
        "    congress_session_num = vote_call_details['roll_call_vote']['session']\n",
        "    vote_call_num = vote_call_details['roll_call_vote']['vote_number']\n",
        "    vote_call_issue = vote_call_details['roll_call_vote']['vote_title']\n",
        "\n",
        "    #setup loop for what each senator voted...\n",
        "    senator_member_lst = vote_call_details['roll_call_vote']['members']['member']\n",
        "    select_senator_vote_dict = {dict['last_name']:dict['vote_cast'] for dict in senator_member_lst if (dict['last_name'] in select_only_senators) == True }\n",
        "    print('Currently working on: ', vote_call_num)\n",
        "\n",
        "    new_row_dict = {}\n",
        "    new_row_dict['congress'] = congress_id_num\n",
        "    new_row_dict['session'] = congress_session_num\n",
        "    new_row_dict['vote_number'] = vote_call_num\n",
        "    new_row_dict['vote_title'] = vote_call_issue\n",
        "\n",
        "    for each_sen_record in select_only_senators:\n",
        "      #print(each_sen_mem['last_name'])\n",
        "\n",
        "      new_row_dict[each_sen_record] = select_senator_vote_dict[each_sen_record]\n",
        "\n",
        "      #add to list for later examation\n",
        "      #after building list, will add to dataframe.\n",
        "\n",
        "    senator_history_lst.append(new_row_dict)\n",
        "\n",
        "  else:\n",
        "    #something went wrong...\n",
        "    #keep track of this problem\n",
        "    missing_links.append(full_file_link_path)\n",
        "\n",
        "  #before moving to the next record, pause for some time....\n",
        "  time.sleep(0.25)"
      ],
      "metadata": {
        "id": "HP_joRThapJb"
      },
      "execution_count": null,
      "outputs": []
    },
    {
      "cell_type": "markdown",
      "source": [
        "# Test Section"
      ],
      "metadata": {
        "id": "4peNRjmxaxcQ"
      }
    },
    {
      "cell_type": "code",
      "source": [
        "#will use this section to test the above code.\n",
        "\n",
        "select_only_senators = ['Daines', 'Tester', 'Cruz', 'Schumer', 'Baldwin', 'Bennet']\n",
        "\n",
        "test_list = [{'member_full': 'Baldwin (D-WI)', 'last_name': 'Baldwin', 'first_name': 'Tammy', 'party': 'D', 'state': 'WI', 'vote_cast': 'Yea', 'lis_member_id': 'S354'}, {'member_full': 'Barrasso (R-WY)', 'last_name': 'Barrasso', 'first_name': 'John', 'party': 'R', 'state': 'WY', 'vote_cast': 'Not Voting', 'lis_member_id': 'S317'}, {'member_full': 'Bennet (D-CO)', 'last_name': 'Bennet', 'first_name': 'Michael', 'party': 'D', 'state': 'CO', 'vote_cast': 'Yea', 'lis_member_id': 'S330'}]\n",
        "print(len(test_list))\n",
        "\n",
        "select_senator_vote_dict = {dict['last_name']:dict['vote_cast'] for dict in test_list if (dict['last_name'] in select_only_senators) == True }\n",
        "\n",
        "print(select_senator_vote_dict)\n"
      ],
      "metadata": {
        "colab": {
          "base_uri": "https://localhost:8080/"
        },
        "id": "CE9scZ-6a4zZ",
        "outputId": "9da0c82d-30f7-40d1-9b9f-b0d4b8e1bc69"
      },
      "execution_count": null,
      "outputs": [
        {
          "output_type": "stream",
          "name": "stdout",
          "text": [
            "3\n",
            "{'Baldwin': 'Yea', 'Bennet': 'Yea'}\n"
          ]
        }
      ]
    },
    {
      "cell_type": "code",
      "source": [
        "print(missing_links)\n",
        "\n",
        "for each_vote_cnt in senator_history_lst:\n",
        "\n",
        "  print(each_vote_cnt)"
      ],
      "metadata": {
        "colab": {
          "base_uri": "https://localhost:8080/"
        },
        "id": "1obHeBi8xznn",
        "outputId": "20b02367-6049-40f6-f6e2-e598be4561b4"
      },
      "execution_count": null,
      "outputs": [
        {
          "output_type": "stream",
          "name": "stdout",
          "text": [
            "[]\n",
            "{'congress': '115', 'session': '1', 'vote_number': '271', 'vote_title': 'Motion to Invoke Cloture Re: Steven Gill Bradbury to be General Counsel of the Department of Transportation', 'Daines': 'Yea', 'Tester': 'Nay', 'Cruz': 'Yea', 'Schumer': 'Nay'}\n",
            "{'congress': '115', 'session': '1', 'vote_number': '262', 'vote_title': 'Confirmation John H. Gibson II, of Texas, to be Deputy Chief Management Officer of the Department of Defense', 'Daines': 'Yea', 'Tester': 'Yea', 'Cruz': 'Yea', 'Schumer': 'Yea'}\n"
          ]
        }
      ]
    },
    {
      "cell_type": "code",
      "source": [
        "print(missing_links)\n",
        "print(len(senator_history_lst))\n",
        "print(senator_history_lst[155])"
      ],
      "metadata": {
        "colab": {
          "base_uri": "https://localhost:8080/"
        },
        "id": "jW7srQYk5Noo",
        "outputId": "59c5f380-8f5b-4080-dd70-15353da7e282"
      },
      "execution_count": null,
      "outputs": [
        {
          "output_type": "stream",
          "name": "stdout",
          "text": [
            "[]\n",
            "2791\n",
            "{'congress': '115', 'session': '1', 'vote_number': '170', 'vote_title': 'Donnelly Motion to Commit H.R. 1628 with Instructions', 'Daines': 'Nay', 'Tester': 'Yea', 'Cruz': 'Nay', 'Schumer': 'Yea', 'Warren': 'Yea', 'Cotton': 'Nay', 'Sanders': 'Yea'}\n"
          ]
        }
      ]
    },
    {
      "cell_type": "markdown",
      "source": [
        "# Senator Track Record"
      ],
      "metadata": {
        "id": "AVntO34s8vSC"
      }
    },
    {
      "cell_type": "code",
      "source": [],
      "metadata": {
        "id": "nzKx9mMw86Dk"
      },
      "execution_count": null,
      "outputs": []
    },
    {
      "cell_type": "code",
      "source": [],
      "metadata": {
        "id": "-B6wHEcA88TE"
      },
      "execution_count": null,
      "outputs": []
    },
    {
      "cell_type": "markdown",
      "source": [
        "# Test Section"
      ],
      "metadata": {
        "id": "O2fL5fV996Y-"
      }
    },
    {
      "cell_type": "code",
      "source": [],
      "metadata": {
        "id": "FN65gtXY9-rf"
      },
      "execution_count": null,
      "outputs": []
    }
  ]
}