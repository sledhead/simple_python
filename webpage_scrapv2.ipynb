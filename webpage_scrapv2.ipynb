{
  "nbformat": 4,
  "nbformat_minor": 0,
  "metadata": {
    "colab": {
      "provenance": [],
      "toc_visible": true,
      "authorship_tag": "ABX9TyNAdfgKPVuVgSaAqcJA9FMk",
      "include_colab_link": true
    },
    "kernelspec": {
      "name": "python3",
      "display_name": "Python 3"
    },
    "language_info": {
      "name": "python"
    }
  },
  "cells": [
    {
      "cell_type": "markdown",
      "metadata": {
        "id": "view-in-github",
        "colab_type": "text"
      },
      "source": [
        "<a href=\"https://colab.research.google.com/github/sledhead/simple_python/blob/main/webpage_scrapv2.ipynb\" target=\"_parent\"><img src=\"https://colab.research.google.com/assets/colab-badge.svg\" alt=\"Open In Colab\"/></a>"
      ]
    },
    {
      "cell_type": "code",
      "execution_count": null,
      "metadata": {
        "id": "M4pdPHt51eXy"
      },
      "outputs": [],
      "source": [
        "import pandas as pd\n",
        "import requests\n",
        "#Will display upload box to user to allow a file to upload and encrypted.\n",
        "from google.colab import drive\n",
        "drive.mount('/content/drive')"
      ]
    },
    {
      "cell_type": "code",
      "source": [
        "!pip install xmltodict"
      ],
      "metadata": {
        "id": "VLNp2zQI2H6G"
      },
      "execution_count": null,
      "outputs": []
    },
    {
      "cell_type": "code",
      "source": [
        "import xmltodict"
      ],
      "metadata": {
        "id": "TZilgEIY23T6"
      },
      "execution_count": null,
      "outputs": []
    },
    {
      "cell_type": "markdown",
      "source": [
        "Section below will gather xml file for each year of the senate vote....\n",
        "2017 to current"
      ],
      "metadata": {
        "id": "0A8tf5Qj3EK8"
      }
    },
    {
      "cell_type": "code",
      "source": [
        "!wget https://www.senate.gov/legislative/LIS/roll_call_lists/vote_menu_115_1.xml\n",
        "!wget https://www.senate.gov/legislative/LIS/roll_call_lists/vote_menu_115_2.xml\n",
        "\n",
        "!wget https://www.senate.gov/legislative/LIS/roll_call_lists/vote_menu_116_1.xml\n",
        "!wget https://www.senate.gov/legislative/LIS/roll_call_lists/vote_menu_116_2.xml\n",
        "\n",
        "!wget https://www.senate.gov/legislative/LIS/roll_call_lists/vote_menu_117_1.xml\n",
        "!wget https://www.senate.gov/legislative/LIS/roll_call_lists/vote_menu_117_2.xml\n",
        "\n",
        "!wget https://www.senate.gov/legislative/LIS/roll_call_lists/vote_menu_118_1.xml\n",
        "!wget https://www.senate.gov/legislative/LIS/roll_call_lists/vote_menu_118_2.xml"
      ],
      "metadata": {
        "id": "_6NteNj928eq"
      },
      "execution_count": null,
      "outputs": []
    },
    {
      "cell_type": "markdown",
      "source": [
        "Next Section below will open xml and then use this file to build the list of file links for gather senator votes"
      ],
      "metadata": {
        "id": "k8fJlcFS5_8l"
      }
    },
    {
      "cell_type": "code",
      "source": [
        "\n",
        "full_http_link_file_path = []\n",
        "vote_menu_file_lst = ['vote_menu_115_1.xml','vote_menu_115_2.xml','vote_menu_116_1.xml','vote_menu_116_2.xml','vote_menu_117_1.xml','vote_menu_117_2.xml','vote_menu_118_1.xml','vote_menu_118_2.xml']\n",
        "\n",
        "for each_year_call_lst in vote_menu_file_lst:\n",
        "\n",
        "  xml_file = open(each_year_call_lst, 'r')\n",
        "  xml_data_str = xml_file.read()\n",
        "\n",
        "  xml_to_dict_obj = xmltodict.parse(xml_data_str)\n",
        "\n",
        "  congress_num = xml_to_dict_obj['vote_summary']['congress']\n",
        "  congress_sec_num = xml_to_dict_obj['vote_summary']['session']\n",
        "\n",
        "  congress_lst_vote = xml_to_dict_obj['vote_summary']['votes']['vote']\n",
        "\n",
        "\n",
        "  base_link_path = 'https://www.senate.gov/legislative/LIS/roll_call_votes/'\n",
        "  full_base_link_path = base_link_path + 'vote' + str(congress_num) + str(congress_sec_num) + '/vote_' + str(congress_num) + '_' + str(congress_sec_num) + '_'\n",
        "\n",
        "  for each_vote_section in congress_lst_vote:\n",
        "    single_vote_num = each_vote_section['vote_number']\n",
        "    #build full link path for getting xml data....\n",
        "    #https://www.senate.gov/legislative/LIS/roll_call_votes/vote1172/vote_117_2_00420.htm\n",
        "\n",
        "    single_file_link_path = full_base_link_path + str(single_vote_num) + '.xml'\n",
        "    full_http_link_file_path.append(single_file_link_path)\n"
      ],
      "metadata": {
        "id": "q8XTQkjH5-tJ"
      },
      "execution_count": null,
      "outputs": []
    },
    {
      "cell_type": "markdown",
      "source": [
        "# Test Section\n"
      ],
      "metadata": {
        "id": "GeGrzFuLbEPq"
      }
    },
    {
      "cell_type": "code",
      "source": [],
      "metadata": {
        "id": "CKtu7mPabPlJ"
      },
      "execution_count": null,
      "outputs": []
    },
    {
      "cell_type": "markdown",
      "source": [
        "# Build Senator Dict"
      ],
      "metadata": {
        "id": "V3BVqldjbVNu"
      }
    },
    {
      "cell_type": "markdown",
      "source": [
        "Section below will loop through list of xml files and build a dict of all the votes within the time period.  Just selected senators will be recorded."
      ],
      "metadata": {
        "id": "XWbBiVPaaIBQ"
      }
    },
    {
      "cell_type": "code",
      "source": [],
      "metadata": {
        "id": "HP_joRThapJb"
      },
      "execution_count": null,
      "outputs": []
    },
    {
      "cell_type": "markdown",
      "source": [
        "# Test Section"
      ],
      "metadata": {
        "id": "4peNRjmxaxcQ"
      }
    },
    {
      "cell_type": "code",
      "source": [
        "#will use this section to test the above code."
      ],
      "metadata": {
        "id": "CE9scZ-6a4zZ"
      },
      "execution_count": null,
      "outputs": []
    }
  ]
}