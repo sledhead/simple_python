{
  "nbformat": 4,
  "nbformat_minor": 0,
  "metadata": {
    "colab": {
      "provenance": [],
      "toc_visible": true,
      "authorship_tag": "ABX9TyPc0py5vO74DNGsbAEGSCH6",
      "include_colab_link": true
    },
    "kernelspec": {
      "name": "python3",
      "display_name": "Python 3"
    },
    "language_info": {
      "name": "python"
    }
  },
  "cells": [
    {
      "cell_type": "markdown",
      "metadata": {
        "id": "view-in-github",
        "colab_type": "text"
      },
      "source": [
        "<a href=\"https://colab.research.google.com/github/sledhead/simple_python/blob/main/webpage_scrapv4.ipynb\" target=\"_parent\"><img src=\"https://colab.research.google.com/assets/colab-badge.svg\" alt=\"Open In Colab\"/></a>"
      ]
    },
    {
      "cell_type": "code",
      "execution_count": null,
      "metadata": {
        "id": "G48MrgPaua3K"
      },
      "outputs": [],
      "source": []
    },
    {
      "cell_type": "markdown",
      "source": [
        "# Install Required Modules (Libraries)\n",
        "\n",
        "*   Link to Google Drive\n",
        "*   Install Modules to interact with xml\n",
        "*   Link Required libraries"
      ],
      "metadata": {
        "id": "i6yJeFu_uplf"
      }
    },
    {
      "cell_type": "code",
      "source": [],
      "metadata": {
        "id": "2JOvVmDRu2Fk"
      },
      "execution_count": null,
      "outputs": []
    }
  ]
}