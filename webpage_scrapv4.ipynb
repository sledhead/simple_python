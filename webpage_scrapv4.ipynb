{
  "nbformat": 4,
  "nbformat_minor": 0,
  "metadata": {
    "colab": {
      "provenance": [],
      "toc_visible": true,
      "authorship_tag": "ABX9TyNmXKH8pOC9GHaDBkBcRjfu",
      "include_colab_link": true
    },
    "kernelspec": {
      "name": "python3",
      "display_name": "Python 3"
    },
    "language_info": {
      "name": "python"
    }
  },
  "cells": [
    {
      "cell_type": "markdown",
      "metadata": {
        "id": "view-in-github",
        "colab_type": "text"
      },
      "source": [
        "<a href=\"https://colab.research.google.com/github/sledhead/simple_python/blob/main/webpage_scrapv4.ipynb\" target=\"_parent\"><img src=\"https://colab.research.google.com/assets/colab-badge.svg\" alt=\"Open In Colab\"/></a>"
      ]
    },
    {
      "cell_type": "code",
      "execution_count": null,
      "metadata": {
        "id": "G48MrgPaua3K"
      },
      "outputs": [],
      "source": []
    },
    {
      "cell_type": "markdown",
      "source": [
        "# Install Required Modules (Libraries)\n",
        "\n",
        "*   Link to Google Drive\n",
        "*   Install Modules to interact with xml\n",
        "*   Link Required libraries"
      ],
      "metadata": {
        "id": "i6yJeFu_uplf"
      }
    },
    {
      "cell_type": "code",
      "source": [
        "import pandas as pd\n",
        "import requests\n",
        "#Will display upload box to user to allow a file to upload and encrypted.\n",
        "from google.colab import drive\n",
        "drive.mount('/content/drive')\n",
        "\n",
        "!pip install xmltodict\n",
        "import xmltodict\n",
        "\n",
        "import time\n",
        "import os\n",
        "import shutil"
      ],
      "metadata": {
        "id": "2JOvVmDRu2Fk"
      },
      "execution_count": null,
      "outputs": []
    },
    {
      "cell_type": "markdown",
      "source": [
        "# Senator Vote Records\n",
        "\n",
        "\n",
        "*   Get the senator vote records for each session\n",
        "*   Convert the records into individual vote tallies\n",
        "*   Provide User with ability to control time period"
      ],
      "metadata": {
        "id": "_Anv2lBVv5Ut"
      }
    },
    {
      "cell_type": "code",
      "source": [],
      "metadata": {
        "id": "ftO18ldCv__d"
      },
      "execution_count": null,
      "outputs": []
    }
  ]
}