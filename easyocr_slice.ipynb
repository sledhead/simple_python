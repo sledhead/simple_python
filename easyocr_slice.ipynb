{
  "nbformat": 4,
  "nbformat_minor": 0,
  "metadata": {
    "colab": {
      "provenance": [],
      "authorship_tag": "ABX9TyOYDolFicaZC+qhDYN6bCVb",
      "include_colab_link": true
    },
    "kernelspec": {
      "name": "python3",
      "display_name": "Python 3"
    },
    "language_info": {
      "name": "python"
    }
  },
  "cells": [
    {
      "cell_type": "markdown",
      "metadata": {
        "id": "view-in-github",
        "colab_type": "text"
      },
      "source": [
        "<a href=\"https://colab.research.google.com/github/sledhead/simple_python/blob/main/easyocr_slice.ipynb\" target=\"_parent\"><img src=\"https://colab.research.google.com/assets/colab-badge.svg\" alt=\"Open In Colab\"/></a>"
      ]
    },
    {
      "cell_type": "code",
      "execution_count": 1,
      "metadata": {
        "colab": {
          "base_uri": "https://localhost:8080/"
        },
        "id": "8qf1fq6cb9IK",
        "outputId": "628d8713-9ba5-4822-a337-14287e5c156b"
      },
      "outputs": [
        {
          "output_type": "stream",
          "name": "stdout",
          "text": [
            "Mounted at /content/drive\n"
          ]
        }
      ],
      "source": [
        "import pandas as pd\n",
        "#Will display upload box to user to allow a file to upload and encrypted.\n",
        "from google.colab import drive\n",
        "drive.mount('/content/drive')"
      ]
    },
    {
      "cell_type": "code",
      "source": [
        "!pip install easyocr\n",
        "import easyocr\n",
        "from PIL import Image\n",
        "import os"
      ],
      "metadata": {
        "id": "HGddrCoxcGqk",
        "colab": {
          "base_uri": "https://localhost:8080/"
        },
        "outputId": "88c4a42a-8e19-4f2e-ad80-e7ed7493246c"
      },
      "execution_count": 2,
      "outputs": [
        {
          "output_type": "stream",
          "name": "stdout",
          "text": [
            "Collecting easyocr\n",
            "  Downloading easyocr-1.7.1-py3-none-any.whl (2.9 MB)\n",
            "\u001b[2K     \u001b[90m━━━━━━━━━━━━━━━━━━━━━━━━━━━━━━━━━━━━━━━━\u001b[0m \u001b[32m2.9/2.9 MB\u001b[0m \u001b[31m12.8 MB/s\u001b[0m eta \u001b[36m0:00:00\u001b[0m\n",
            "\u001b[?25hRequirement already satisfied: torch in /usr/local/lib/python3.10/dist-packages (from easyocr) (2.2.1+cu121)\n",
            "Requirement already satisfied: torchvision>=0.5 in /usr/local/lib/python3.10/dist-packages (from easyocr) (0.17.1+cu121)\n",
            "Requirement already satisfied: opencv-python-headless in /usr/local/lib/python3.10/dist-packages (from easyocr) (4.9.0.80)\n",
            "Requirement already satisfied: scipy in /usr/local/lib/python3.10/dist-packages (from easyocr) (1.11.4)\n",
            "Requirement already satisfied: numpy in /usr/local/lib/python3.10/dist-packages (from easyocr) (1.25.2)\n",
            "Requirement already satisfied: Pillow in /usr/local/lib/python3.10/dist-packages (from easyocr) (9.4.0)\n",
            "Requirement already satisfied: scikit-image in /usr/local/lib/python3.10/dist-packages (from easyocr) (0.19.3)\n",
            "Collecting python-bidi (from easyocr)\n",
            "  Downloading python_bidi-0.4.2-py2.py3-none-any.whl (30 kB)\n",
            "Requirement already satisfied: PyYAML in /usr/local/lib/python3.10/dist-packages (from easyocr) (6.0.1)\n",
            "Requirement already satisfied: Shapely in /usr/local/lib/python3.10/dist-packages (from easyocr) (2.0.4)\n",
            "Collecting pyclipper (from easyocr)\n",
            "  Downloading pyclipper-1.3.0.post5-cp310-cp310-manylinux_2_12_x86_64.manylinux2010_x86_64.whl (908 kB)\n",
            "\u001b[2K     \u001b[90m━━━━━━━━━━━━━━━━━━━━━━━━━━━━━━━━━━━━━━━━\u001b[0m \u001b[32m908.3/908.3 kB\u001b[0m \u001b[31m48.4 MB/s\u001b[0m eta \u001b[36m0:00:00\u001b[0m\n",
            "\u001b[?25hCollecting ninja (from easyocr)\n",
            "  Downloading ninja-1.11.1.1-py2.py3-none-manylinux1_x86_64.manylinux_2_5_x86_64.whl (307 kB)\n",
            "\u001b[2K     \u001b[90m━━━━━━━━━━━━━━━━━━━━━━━━━━━━━━━━━━━━━━━━\u001b[0m \u001b[32m307.2/307.2 kB\u001b[0m \u001b[31m27.5 MB/s\u001b[0m eta \u001b[36m0:00:00\u001b[0m\n",
            "\u001b[?25hRequirement already satisfied: filelock in /usr/local/lib/python3.10/dist-packages (from torch->easyocr) (3.13.4)\n",
            "Requirement already satisfied: typing-extensions>=4.8.0 in /usr/local/lib/python3.10/dist-packages (from torch->easyocr) (4.11.0)\n",
            "Requirement already satisfied: sympy in /usr/local/lib/python3.10/dist-packages (from torch->easyocr) (1.12)\n",
            "Requirement already satisfied: networkx in /usr/local/lib/python3.10/dist-packages (from torch->easyocr) (3.3)\n",
            "Requirement already satisfied: jinja2 in /usr/local/lib/python3.10/dist-packages (from torch->easyocr) (3.1.3)\n",
            "Requirement already satisfied: fsspec in /usr/local/lib/python3.10/dist-packages (from torch->easyocr) (2023.6.0)\n",
            "Collecting nvidia-cuda-nvrtc-cu12==12.1.105 (from torch->easyocr)\n",
            "  Using cached nvidia_cuda_nvrtc_cu12-12.1.105-py3-none-manylinux1_x86_64.whl (23.7 MB)\n",
            "Collecting nvidia-cuda-runtime-cu12==12.1.105 (from torch->easyocr)\n",
            "  Using cached nvidia_cuda_runtime_cu12-12.1.105-py3-none-manylinux1_x86_64.whl (823 kB)\n",
            "Collecting nvidia-cuda-cupti-cu12==12.1.105 (from torch->easyocr)\n",
            "  Using cached nvidia_cuda_cupti_cu12-12.1.105-py3-none-manylinux1_x86_64.whl (14.1 MB)\n",
            "Collecting nvidia-cudnn-cu12==8.9.2.26 (from torch->easyocr)\n",
            "  Using cached nvidia_cudnn_cu12-8.9.2.26-py3-none-manylinux1_x86_64.whl (731.7 MB)\n",
            "Collecting nvidia-cublas-cu12==12.1.3.1 (from torch->easyocr)\n",
            "  Using cached nvidia_cublas_cu12-12.1.3.1-py3-none-manylinux1_x86_64.whl (410.6 MB)\n",
            "Collecting nvidia-cufft-cu12==11.0.2.54 (from torch->easyocr)\n",
            "  Using cached nvidia_cufft_cu12-11.0.2.54-py3-none-manylinux1_x86_64.whl (121.6 MB)\n",
            "Collecting nvidia-curand-cu12==10.3.2.106 (from torch->easyocr)\n",
            "  Using cached nvidia_curand_cu12-10.3.2.106-py3-none-manylinux1_x86_64.whl (56.5 MB)\n",
            "Collecting nvidia-cusolver-cu12==11.4.5.107 (from torch->easyocr)\n",
            "  Using cached nvidia_cusolver_cu12-11.4.5.107-py3-none-manylinux1_x86_64.whl (124.2 MB)\n",
            "Collecting nvidia-cusparse-cu12==12.1.0.106 (from torch->easyocr)\n",
            "  Using cached nvidia_cusparse_cu12-12.1.0.106-py3-none-manylinux1_x86_64.whl (196.0 MB)\n",
            "Collecting nvidia-nccl-cu12==2.19.3 (from torch->easyocr)\n",
            "  Using cached nvidia_nccl_cu12-2.19.3-py3-none-manylinux1_x86_64.whl (166.0 MB)\n",
            "Collecting nvidia-nvtx-cu12==12.1.105 (from torch->easyocr)\n",
            "  Using cached nvidia_nvtx_cu12-12.1.105-py3-none-manylinux1_x86_64.whl (99 kB)\n",
            "Requirement already satisfied: triton==2.2.0 in /usr/local/lib/python3.10/dist-packages (from torch->easyocr) (2.2.0)\n",
            "Collecting nvidia-nvjitlink-cu12 (from nvidia-cusolver-cu12==11.4.5.107->torch->easyocr)\n",
            "  Using cached nvidia_nvjitlink_cu12-12.4.127-py3-none-manylinux2014_x86_64.whl (21.1 MB)\n",
            "Requirement already satisfied: six in /usr/local/lib/python3.10/dist-packages (from python-bidi->easyocr) (1.16.0)\n",
            "Requirement already satisfied: imageio>=2.4.1 in /usr/local/lib/python3.10/dist-packages (from scikit-image->easyocr) (2.31.6)\n",
            "Requirement already satisfied: tifffile>=2019.7.26 in /usr/local/lib/python3.10/dist-packages (from scikit-image->easyocr) (2024.4.24)\n",
            "Requirement already satisfied: PyWavelets>=1.1.1 in /usr/local/lib/python3.10/dist-packages (from scikit-image->easyocr) (1.6.0)\n",
            "Requirement already satisfied: packaging>=20.0 in /usr/local/lib/python3.10/dist-packages (from scikit-image->easyocr) (24.0)\n",
            "Requirement already satisfied: MarkupSafe>=2.0 in /usr/local/lib/python3.10/dist-packages (from jinja2->torch->easyocr) (2.1.5)\n",
            "Requirement already satisfied: mpmath>=0.19 in /usr/local/lib/python3.10/dist-packages (from sympy->torch->easyocr) (1.3.0)\n",
            "Installing collected packages: pyclipper, ninja, python-bidi, nvidia-nvtx-cu12, nvidia-nvjitlink-cu12, nvidia-nccl-cu12, nvidia-curand-cu12, nvidia-cufft-cu12, nvidia-cuda-runtime-cu12, nvidia-cuda-nvrtc-cu12, nvidia-cuda-cupti-cu12, nvidia-cublas-cu12, nvidia-cusparse-cu12, nvidia-cudnn-cu12, nvidia-cusolver-cu12, easyocr\n",
            "Successfully installed easyocr-1.7.1 ninja-1.11.1.1 nvidia-cublas-cu12-12.1.3.1 nvidia-cuda-cupti-cu12-12.1.105 nvidia-cuda-nvrtc-cu12-12.1.105 nvidia-cuda-runtime-cu12-12.1.105 nvidia-cudnn-cu12-8.9.2.26 nvidia-cufft-cu12-11.0.2.54 nvidia-curand-cu12-10.3.2.106 nvidia-cusolver-cu12-11.4.5.107 nvidia-cusparse-cu12-12.1.0.106 nvidia-nccl-cu12-2.19.3 nvidia-nvjitlink-cu12-12.4.127 nvidia-nvtx-cu12-12.1.105 pyclipper-1.3.0.post5 python-bidi-0.4.2\n"
          ]
        }
      ]
    },
    {
      "cell_type": "code",
      "source": [
        "reader = easyocr.Reader(['en'], gpu=False)\n",
        "\n",
        "import pandas as pd\n",
        "\n",
        "pd.set_option('display.max_rows', None)\n"
      ],
      "metadata": {
        "colab": {
          "base_uri": "https://localhost:8080/"
        },
        "id": "5jshH8IucbZo",
        "outputId": "e1d767d6-5575-48ff-988e-ae76c5dc8fbb"
      },
      "execution_count": 3,
      "outputs": [
        {
          "output_type": "stream",
          "name": "stderr",
          "text": [
            "WARNING:easyocr.easyocr:Using CPU. Note: This module is much faster with a GPU.\n",
            "WARNING:easyocr.easyocr:Downloading detection model, please wait. This may take several minutes depending upon your network connection.\n"
          ]
        },
        {
          "output_type": "stream",
          "name": "stdout",
          "text": [
            "Progress: |██████████████████████████████████████████████████| 100.0% Complete"
          ]
        },
        {
          "output_type": "stream",
          "name": "stderr",
          "text": [
            "WARNING:easyocr.easyocr:Downloading recognition model, please wait. This may take several minutes depending upon your network connection.\n"
          ]
        },
        {
          "output_type": "stream",
          "name": "stdout",
          "text": [
            "Progress: |██████████████████████████████████████████████████| 100.0% Complete"
          ]
        }
      ]
    },
    {
      "cell_type": "code",
      "source": [
        "folder_path = '/content/drive/MyDrive/Expense_Rec/slice_output'\n",
        "file_nm = 'slice_test_984.jpg'\n",
        "\n",
        "the_file = os.path.join(folder_path,file_nm)\n",
        "results = reader.readtext(the_file)"
      ],
      "metadata": {
        "id": "g7hKbau2cliD"
      },
      "execution_count": 4,
      "outputs": []
    },
    {
      "cell_type": "code",
      "source": [
        "print(type(results))\n",
        "print(results)\n",
        "print(type(results[0]))\n",
        "line_tup = results[0]\n",
        "print(line_tup[1])"
      ],
      "metadata": {
        "colab": {
          "base_uri": "https://localhost:8080/"
        },
        "id": "lpUDCRseJzyp",
        "outputId": "febb9ccd-5e00-4a84-857c-32d37d200e52"
      },
      "execution_count": 5,
      "outputs": [
        {
          "output_type": "stream",
          "name": "stdout",
          "text": [
            "<class 'list'>\n",
            "[([[272, 0], [444, 0], [444, 40], [272, 40]], 'SUPTOT4L', 0.5557357785109925), ([[595, 0], [685, 0], [685, 40], [595, 40]], '4,35', 0.5326220989227295)]\n",
            "<class 'tuple'>\n",
            "SUPTOT4L\n"
          ]
        }
      ]
    },
    {
      "cell_type": "code",
      "source": [
        "test_table = pd.DataFrame(results,columns=['bbox','word','cof'])\n",
        "test_table"
      ],
      "metadata": {
        "colab": {
          "base_uri": "https://localhost:8080/",
          "height": 125
        },
        "id": "E_9LrfT3ct_c",
        "outputId": "07c681f9-c642-47cc-ed82-6f4a2a233614"
      },
      "execution_count": 6,
      "outputs": [
        {
          "output_type": "execute_result",
          "data": {
            "text/plain": [
              "                                         bbox      word       cof\n",
              "0  [[272, 0], [444, 0], [444, 40], [272, 40]]  SUPTOT4L  0.555736\n",
              "1  [[595, 0], [685, 0], [685, 40], [595, 40]]      4,35  0.532622"
            ],
            "text/html": [
              "\n",
              "  <div id=\"df-df26cdd5-6cc6-4659-a9a0-2bfdd4928b29\" class=\"colab-df-container\">\n",
              "    <div>\n",
              "<style scoped>\n",
              "    .dataframe tbody tr th:only-of-type {\n",
              "        vertical-align: middle;\n",
              "    }\n",
              "\n",
              "    .dataframe tbody tr th {\n",
              "        vertical-align: top;\n",
              "    }\n",
              "\n",
              "    .dataframe thead th {\n",
              "        text-align: right;\n",
              "    }\n",
              "</style>\n",
              "<table border=\"1\" class=\"dataframe\">\n",
              "  <thead>\n",
              "    <tr style=\"text-align: right;\">\n",
              "      <th></th>\n",
              "      <th>bbox</th>\n",
              "      <th>word</th>\n",
              "      <th>cof</th>\n",
              "    </tr>\n",
              "  </thead>\n",
              "  <tbody>\n",
              "    <tr>\n",
              "      <th>0</th>\n",
              "      <td>[[272, 0], [444, 0], [444, 40], [272, 40]]</td>\n",
              "      <td>SUPTOT4L</td>\n",
              "      <td>0.555736</td>\n",
              "    </tr>\n",
              "    <tr>\n",
              "      <th>1</th>\n",
              "      <td>[[595, 0], [685, 0], [685, 40], [595, 40]]</td>\n",
              "      <td>4,35</td>\n",
              "      <td>0.532622</td>\n",
              "    </tr>\n",
              "  </tbody>\n",
              "</table>\n",
              "</div>\n",
              "    <div class=\"colab-df-buttons\">\n",
              "\n",
              "  <div class=\"colab-df-container\">\n",
              "    <button class=\"colab-df-convert\" onclick=\"convertToInteractive('df-df26cdd5-6cc6-4659-a9a0-2bfdd4928b29')\"\n",
              "            title=\"Convert this dataframe to an interactive table.\"\n",
              "            style=\"display:none;\">\n",
              "\n",
              "  <svg xmlns=\"http://www.w3.org/2000/svg\" height=\"24px\" viewBox=\"0 -960 960 960\">\n",
              "    <path d=\"M120-120v-720h720v720H120Zm60-500h600v-160H180v160Zm220 220h160v-160H400v160Zm0 220h160v-160H400v160ZM180-400h160v-160H180v160Zm440 0h160v-160H620v160ZM180-180h160v-160H180v160Zm440 0h160v-160H620v160Z\"/>\n",
              "  </svg>\n",
              "    </button>\n",
              "\n",
              "  <style>\n",
              "    .colab-df-container {\n",
              "      display:flex;\n",
              "      gap: 12px;\n",
              "    }\n",
              "\n",
              "    .colab-df-convert {\n",
              "      background-color: #E8F0FE;\n",
              "      border: none;\n",
              "      border-radius: 50%;\n",
              "      cursor: pointer;\n",
              "      display: none;\n",
              "      fill: #1967D2;\n",
              "      height: 32px;\n",
              "      padding: 0 0 0 0;\n",
              "      width: 32px;\n",
              "    }\n",
              "\n",
              "    .colab-df-convert:hover {\n",
              "      background-color: #E2EBFA;\n",
              "      box-shadow: 0px 1px 2px rgba(60, 64, 67, 0.3), 0px 1px 3px 1px rgba(60, 64, 67, 0.15);\n",
              "      fill: #174EA6;\n",
              "    }\n",
              "\n",
              "    .colab-df-buttons div {\n",
              "      margin-bottom: 4px;\n",
              "    }\n",
              "\n",
              "    [theme=dark] .colab-df-convert {\n",
              "      background-color: #3B4455;\n",
              "      fill: #D2E3FC;\n",
              "    }\n",
              "\n",
              "    [theme=dark] .colab-df-convert:hover {\n",
              "      background-color: #434B5C;\n",
              "      box-shadow: 0px 1px 3px 1px rgba(0, 0, 0, 0.15);\n",
              "      filter: drop-shadow(0px 1px 2px rgba(0, 0, 0, 0.3));\n",
              "      fill: #FFFFFF;\n",
              "    }\n",
              "  </style>\n",
              "\n",
              "    <script>\n",
              "      const buttonEl =\n",
              "        document.querySelector('#df-df26cdd5-6cc6-4659-a9a0-2bfdd4928b29 button.colab-df-convert');\n",
              "      buttonEl.style.display =\n",
              "        google.colab.kernel.accessAllowed ? 'block' : 'none';\n",
              "\n",
              "      async function convertToInteractive(key) {\n",
              "        const element = document.querySelector('#df-df26cdd5-6cc6-4659-a9a0-2bfdd4928b29');\n",
              "        const dataTable =\n",
              "          await google.colab.kernel.invokeFunction('convertToInteractive',\n",
              "                                                    [key], {});\n",
              "        if (!dataTable) return;\n",
              "\n",
              "        const docLinkHtml = 'Like what you see? Visit the ' +\n",
              "          '<a target=\"_blank\" href=https://colab.research.google.com/notebooks/data_table.ipynb>data table notebook</a>'\n",
              "          + ' to learn more about interactive tables.';\n",
              "        element.innerHTML = '';\n",
              "        dataTable['output_type'] = 'display_data';\n",
              "        await google.colab.output.renderOutput(dataTable, element);\n",
              "        const docLink = document.createElement('div');\n",
              "        docLink.innerHTML = docLinkHtml;\n",
              "        element.appendChild(docLink);\n",
              "      }\n",
              "    </script>\n",
              "  </div>\n",
              "\n",
              "\n",
              "<div id=\"df-2d5f853d-2971-4c08-b8ab-647fb7c1f95f\">\n",
              "  <button class=\"colab-df-quickchart\" onclick=\"quickchart('df-2d5f853d-2971-4c08-b8ab-647fb7c1f95f')\"\n",
              "            title=\"Suggest charts\"\n",
              "            style=\"display:none;\">\n",
              "\n",
              "<svg xmlns=\"http://www.w3.org/2000/svg\" height=\"24px\"viewBox=\"0 0 24 24\"\n",
              "     width=\"24px\">\n",
              "    <g>\n",
              "        <path d=\"M19 3H5c-1.1 0-2 .9-2 2v14c0 1.1.9 2 2 2h14c1.1 0 2-.9 2-2V5c0-1.1-.9-2-2-2zM9 17H7v-7h2v7zm4 0h-2V7h2v10zm4 0h-2v-4h2v4z\"/>\n",
              "    </g>\n",
              "</svg>\n",
              "  </button>\n",
              "\n",
              "<style>\n",
              "  .colab-df-quickchart {\n",
              "      --bg-color: #E8F0FE;\n",
              "      --fill-color: #1967D2;\n",
              "      --hover-bg-color: #E2EBFA;\n",
              "      --hover-fill-color: #174EA6;\n",
              "      --disabled-fill-color: #AAA;\n",
              "      --disabled-bg-color: #DDD;\n",
              "  }\n",
              "\n",
              "  [theme=dark] .colab-df-quickchart {\n",
              "      --bg-color: #3B4455;\n",
              "      --fill-color: #D2E3FC;\n",
              "      --hover-bg-color: #434B5C;\n",
              "      --hover-fill-color: #FFFFFF;\n",
              "      --disabled-bg-color: #3B4455;\n",
              "      --disabled-fill-color: #666;\n",
              "  }\n",
              "\n",
              "  .colab-df-quickchart {\n",
              "    background-color: var(--bg-color);\n",
              "    border: none;\n",
              "    border-radius: 50%;\n",
              "    cursor: pointer;\n",
              "    display: none;\n",
              "    fill: var(--fill-color);\n",
              "    height: 32px;\n",
              "    padding: 0;\n",
              "    width: 32px;\n",
              "  }\n",
              "\n",
              "  .colab-df-quickchart:hover {\n",
              "    background-color: var(--hover-bg-color);\n",
              "    box-shadow: 0 1px 2px rgba(60, 64, 67, 0.3), 0 1px 3px 1px rgba(60, 64, 67, 0.15);\n",
              "    fill: var(--button-hover-fill-color);\n",
              "  }\n",
              "\n",
              "  .colab-df-quickchart-complete:disabled,\n",
              "  .colab-df-quickchart-complete:disabled:hover {\n",
              "    background-color: var(--disabled-bg-color);\n",
              "    fill: var(--disabled-fill-color);\n",
              "    box-shadow: none;\n",
              "  }\n",
              "\n",
              "  .colab-df-spinner {\n",
              "    border: 2px solid var(--fill-color);\n",
              "    border-color: transparent;\n",
              "    border-bottom-color: var(--fill-color);\n",
              "    animation:\n",
              "      spin 1s steps(1) infinite;\n",
              "  }\n",
              "\n",
              "  @keyframes spin {\n",
              "    0% {\n",
              "      border-color: transparent;\n",
              "      border-bottom-color: var(--fill-color);\n",
              "      border-left-color: var(--fill-color);\n",
              "    }\n",
              "    20% {\n",
              "      border-color: transparent;\n",
              "      border-left-color: var(--fill-color);\n",
              "      border-top-color: var(--fill-color);\n",
              "    }\n",
              "    30% {\n",
              "      border-color: transparent;\n",
              "      border-left-color: var(--fill-color);\n",
              "      border-top-color: var(--fill-color);\n",
              "      border-right-color: var(--fill-color);\n",
              "    }\n",
              "    40% {\n",
              "      border-color: transparent;\n",
              "      border-right-color: var(--fill-color);\n",
              "      border-top-color: var(--fill-color);\n",
              "    }\n",
              "    60% {\n",
              "      border-color: transparent;\n",
              "      border-right-color: var(--fill-color);\n",
              "    }\n",
              "    80% {\n",
              "      border-color: transparent;\n",
              "      border-right-color: var(--fill-color);\n",
              "      border-bottom-color: var(--fill-color);\n",
              "    }\n",
              "    90% {\n",
              "      border-color: transparent;\n",
              "      border-bottom-color: var(--fill-color);\n",
              "    }\n",
              "  }\n",
              "</style>\n",
              "\n",
              "  <script>\n",
              "    async function quickchart(key) {\n",
              "      const quickchartButtonEl =\n",
              "        document.querySelector('#' + key + ' button');\n",
              "      quickchartButtonEl.disabled = true;  // To prevent multiple clicks.\n",
              "      quickchartButtonEl.classList.add('colab-df-spinner');\n",
              "      try {\n",
              "        const charts = await google.colab.kernel.invokeFunction(\n",
              "            'suggestCharts', [key], {});\n",
              "      } catch (error) {\n",
              "        console.error('Error during call to suggestCharts:', error);\n",
              "      }\n",
              "      quickchartButtonEl.classList.remove('colab-df-spinner');\n",
              "      quickchartButtonEl.classList.add('colab-df-quickchart-complete');\n",
              "    }\n",
              "    (() => {\n",
              "      let quickchartButtonEl =\n",
              "        document.querySelector('#df-2d5f853d-2971-4c08-b8ab-647fb7c1f95f button');\n",
              "      quickchartButtonEl.style.display =\n",
              "        google.colab.kernel.accessAllowed ? 'block' : 'none';\n",
              "    })();\n",
              "  </script>\n",
              "</div>\n",
              "\n",
              "  <div id=\"id_d05de62f-6578-43a3-a024-31a8da03fcc7\">\n",
              "    <style>\n",
              "      .colab-df-generate {\n",
              "        background-color: #E8F0FE;\n",
              "        border: none;\n",
              "        border-radius: 50%;\n",
              "        cursor: pointer;\n",
              "        display: none;\n",
              "        fill: #1967D2;\n",
              "        height: 32px;\n",
              "        padding: 0 0 0 0;\n",
              "        width: 32px;\n",
              "      }\n",
              "\n",
              "      .colab-df-generate:hover {\n",
              "        background-color: #E2EBFA;\n",
              "        box-shadow: 0px 1px 2px rgba(60, 64, 67, 0.3), 0px 1px 3px 1px rgba(60, 64, 67, 0.15);\n",
              "        fill: #174EA6;\n",
              "      }\n",
              "\n",
              "      [theme=dark] .colab-df-generate {\n",
              "        background-color: #3B4455;\n",
              "        fill: #D2E3FC;\n",
              "      }\n",
              "\n",
              "      [theme=dark] .colab-df-generate:hover {\n",
              "        background-color: #434B5C;\n",
              "        box-shadow: 0px 1px 3px 1px rgba(0, 0, 0, 0.15);\n",
              "        filter: drop-shadow(0px 1px 2px rgba(0, 0, 0, 0.3));\n",
              "        fill: #FFFFFF;\n",
              "      }\n",
              "    </style>\n",
              "    <button class=\"colab-df-generate\" onclick=\"generateWithVariable('test_table')\"\n",
              "            title=\"Generate code using this dataframe.\"\n",
              "            style=\"display:none;\">\n",
              "\n",
              "  <svg xmlns=\"http://www.w3.org/2000/svg\" height=\"24px\"viewBox=\"0 0 24 24\"\n",
              "       width=\"24px\">\n",
              "    <path d=\"M7,19H8.4L18.45,9,17,7.55,7,17.6ZM5,21V16.75L18.45,3.32a2,2,0,0,1,2.83,0l1.4,1.43a1.91,1.91,0,0,1,.58,1.4,1.91,1.91,0,0,1-.58,1.4L9.25,21ZM18.45,9,17,7.55Zm-12,3A5.31,5.31,0,0,0,4.9,8.1,5.31,5.31,0,0,0,1,6.5,5.31,5.31,0,0,0,4.9,4.9,5.31,5.31,0,0,0,6.5,1,5.31,5.31,0,0,0,8.1,4.9,5.31,5.31,0,0,0,12,6.5,5.46,5.46,0,0,0,6.5,12Z\"/>\n",
              "  </svg>\n",
              "    </button>\n",
              "    <script>\n",
              "      (() => {\n",
              "      const buttonEl =\n",
              "        document.querySelector('#id_d05de62f-6578-43a3-a024-31a8da03fcc7 button.colab-df-generate');\n",
              "      buttonEl.style.display =\n",
              "        google.colab.kernel.accessAllowed ? 'block' : 'none';\n",
              "\n",
              "      buttonEl.onclick = () => {\n",
              "        google.colab.notebook.generateWithVariable('test_table');\n",
              "      }\n",
              "      })();\n",
              "    </script>\n",
              "  </div>\n",
              "\n",
              "    </div>\n",
              "  </div>\n"
            ],
            "application/vnd.google.colaboratory.intrinsic+json": {
              "type": "dataframe",
              "variable_name": "test_table",
              "summary": "{\n  \"name\": \"test_table\",\n  \"rows\": 2,\n  \"fields\": [\n    {\n      \"column\": \"bbox\",\n      \"properties\": {\n        \"dtype\": \"object\",\n        \"semantic_type\": \"\",\n        \"description\": \"\"\n      }\n    },\n    {\n      \"column\": \"word\",\n      \"properties\": {\n        \"dtype\": \"string\",\n        \"num_unique_values\": 2,\n        \"samples\": [\n          \"4,35\",\n          \"SUPTOT4L\"\n        ],\n        \"semantic_type\": \"\",\n        \"description\": \"\"\n      }\n    },\n    {\n      \"column\": \"cof\",\n      \"properties\": {\n        \"dtype\": \"number\",\n        \"std\": 0.016343839575033887,\n        \"min\": 0.5326220989227295,\n        \"max\": 0.5557357785109925,\n        \"num_unique_values\": 2,\n        \"samples\": [\n          0.5326220989227295,\n          0.5557357785109925\n        ],\n        \"semantic_type\": \"\",\n        \"description\": \"\"\n      }\n    }\n  ]\n}"
            }
          },
          "metadata": {},
          "execution_count": 6
        }
      ]
    },
    {
      "cell_type": "code",
      "source": [
        "#open json file that defines the file names for each slice file.\n",
        "import json\n",
        "\n",
        "json_batch_file_nm = 'batch_file_info.json'\n",
        "\n",
        "total_batch_file_path = os.path.join(folder_path,json_batch_file_nm)\n",
        "\n",
        "with open(total_batch_file_path,\"r\") as file:\n",
        "    jsonData = json.load(file)"
      ],
      "metadata": {
        "id": "6m4HKBYhNkHe"
      },
      "execution_count": 7,
      "outputs": []
    },
    {
      "cell_type": "code",
      "source": [
        "print(type(jsonData))\n",
        "batch_info_words_dict = {}\n",
        "\n",
        "\n",
        "for item in jsonData.items():\n",
        "  print(item)\n",
        "  print(type(item))\n",
        "  #file_nm = 'slice_test_984.jpg'\n",
        "\n",
        "  #the_file = os.path.join(folder_path,file_nm)\n",
        "  #results = reader.readtext(the_file)\n",
        "\n",
        "\n",
        "print(jsonData['line_739'])"
      ],
      "metadata": {
        "colab": {
          "base_uri": "https://localhost:8080/"
        },
        "id": "EL8GfJTTRCOK",
        "outputId": "beebef4e-113c-43f7-9919-a333c6282190"
      },
      "execution_count": 8,
      "outputs": [
        {
          "output_type": "stream",
          "name": "stdout",
          "text": [
            "<class 'dict'>\n",
            "('line_171', 'slice_test_171.jpg')\n",
            "<class 'tuple'>\n",
            "('line_640', 'slice_test_640.jpg')\n",
            "<class 'tuple'>\n",
            "('line_688', 'slice_test_688.jpg')\n",
            "<class 'tuple'>\n",
            "('line_739', 'slice_test_739.jpg')\n",
            "<class 'tuple'>\n",
            "('line_787', 'slice_test_787.jpg')\n",
            "<class 'tuple'>\n",
            "('line_838', 'slice_test_838.jpg')\n",
            "<class 'tuple'>\n",
            "('line_885', 'slice_test_885.jpg')\n",
            "<class 'tuple'>\n",
            "('line_936', 'slice_test_936.jpg')\n",
            "<class 'tuple'>\n",
            "('line_984', 'slice_test_984.jpg')\n",
            "<class 'tuple'>\n",
            "('line_1033', 'slice_test_1033.jpg')\n",
            "<class 'tuple'>\n",
            "('line_1082', 'slice_test_1082.jpg')\n",
            "<class 'tuple'>\n",
            "('line_1131', 'slice_test_1131.jpg')\n",
            "<class 'tuple'>\n",
            "('line_1181', 'slice_test_1181.jpg')\n",
            "<class 'tuple'>\n",
            "('line_1229', 'slice_test_1229.jpg')\n",
            "<class 'tuple'>\n",
            "('line_1278', 'slice_test_1278.jpg')\n",
            "<class 'tuple'>\n",
            "slice_test_739.jpg\n"
          ]
        }
      ]
    },
    {
      "cell_type": "code",
      "source": [
        "found_data = []\n",
        "for item in jsonData.items():\n",
        "  #load each file slice and put into dict.\n",
        "  slice_file_nm = item[1]\n",
        "  row_data = []\n",
        "\n",
        "  the_file = os.path.join(folder_path,slice_file_nm)\n",
        "  results = reader.readtext(the_file)\n",
        "\n",
        "  print(results)\n",
        "  row_data = [ list_var[1] for list_var in results]\n",
        "  found_data.append(row_data)"
      ],
      "metadata": {
        "colab": {
          "base_uri": "https://localhost:8080/"
        },
        "id": "TaBYAF42LnFR",
        "outputId": "07a08142-585d-42a5-cc30-3b53b6268ef1"
      },
      "execution_count": 9,
      "outputs": [
        {
          "output_type": "stream",
          "name": "stdout",
          "text": [
            "[([[690, 0], [834, 0], [834, 46], [690, 46]], '', 0.0), ([[672, 38], [837, 38], [837, 103], [672, 103]], '4.', 0.02043836105123732), ([[282, 90], [618, 90], [618, 236], [282, 236]], 'Guper', 0.5407942302923104), ([[299, 271], [607, 271], [607, 335], [299, 335]], 'FoODs', 0.4423734671765169)]\n",
            "[([[202, 0], [536, 0], [536, 40], [202, 40]], 'WELCOME  TC SUPER', 0.43009508578680816), ([[585, 0], [693, 0], [693, 40], [585, 40]], 'FOODs', 0.42092697119724676)]\n",
            "[([[152, 0], [560, 0], [560, 44], [152, 44]], 'COLUMPIA FALLS (406 )', 0.6055357696480429), ([[572, 0], [744, 0], [744, 44], [572, 44]], '892-9996', 0.9917094695822449)]\n",
            "[([[233, 0], [287, 0], [287, 41], [233, 41]], 'Hi', 0.9882029305708147), ([[315, 3], [465, 3], [465, 42], [315, 42]], 'hly  Mame', 0.15450979313639582), ([[479, 0], [665, 0], [665, 41], [479, 41]], 'is JACKIE', 0.9542869998001617)]\n",
            "[([[17, 0], [126, 0], [126, 41], [17, 41]], 'CANDY', 0.9865503890741066), ([[793, 0], [839, 0], [839, 39], [793, 39]], 'TF', 0.7729266730171152)]\n",
            "[([[57, 0], [247, 0], [247, 38], [57, 38]], '954200006', 0.9483584489296598)]\n",
            "[([[16, 0], [406, 0], [406, 40], [16, 40]], 'DELI CLASSIC   TURKEY', 0.5747577505282055), ([[689, 0], [777, 0], [777, 40], [689, 40]], '3,91', 0.9695038199424744), ([[793, 0], [861, 0], [861, 40], [793, 40]], 'TFW', 0.9599503874778748)]\n",
            "[([[57, 0], [286, 0], [286, 39], [57, 39]], '23583400000)', 0.601991421147437)]\n",
            "[([[272, 0], [444, 0], [444, 40], [272, 40]], 'SUPTOT4L', 0.5557357785109925), ([[595, 0], [685, 0], [685, 40], [595, 40]], '4,35', 0.5326220989227295)]\n",
            "[([[235, 0], [363, 0], [363, 39], [235, 39]], 'LUXlRY', 0.5789133659816513), ([[377, 0], [447, 0], [447, 39], [377, 39]], 'T4X', 0.6143799424171448)]\n",
            "[([[337, 0], [425, 0], [425, 37], [337, 37]], 'TOT4', 0.8611600399017334), ([[599, 0], [685, 0], [685, 37], [599, 37]], '4.36', 0.880486249923706)]\n",
            "[([[645, 1], [683, 1], [683, 37], [645, 37]], '36', 0.8822971922588393)]\n",
            "[([[315, 0], [443, 0], [443, 37], [315, 37]], '#CASH+', 0.6582814258226276), ([[599, 0], [685, 0], [685, 37], [599, 37]], '4,36', 0.9719222187995911)]\n",
            "[([[232, 0], [446, 0], [446, 39], [232, 39]], 'CHANGE DUE', 0.6321799038010253)]\n",
            "[([[166, 0], [730, 0], [730, 40], [166, 40]], 'THANKS FOR SHOPPING; wiTK US!', 0.37825470424086044)]\n"
          ]
        }
      ]
    },
    {
      "cell_type": "code",
      "source": [
        "#print(found_data)\n",
        "\n",
        "for each_row in found_data:\n",
        "  print(each_row)"
      ],
      "metadata": {
        "colab": {
          "base_uri": "https://localhost:8080/"
        },
        "id": "bCQTt4PfQSPV",
        "outputId": "9d6edd9e-d6e7-411e-f6aa-18592355e041"
      },
      "execution_count": 10,
      "outputs": [
        {
          "output_type": "stream",
          "name": "stdout",
          "text": [
            "['', '4.', 'Guper', 'FoODs']\n",
            "['WELCOME  TC SUPER', 'FOODs']\n",
            "['COLUMPIA FALLS (406 )', '892-9996']\n",
            "['Hi', 'hly  Mame', 'is JACKIE']\n",
            "['CANDY', 'TF']\n",
            "['954200006']\n",
            "['DELI CLASSIC   TURKEY', '3,91', 'TFW']\n",
            "['23583400000)']\n",
            "['SUPTOT4L', '4,35']\n",
            "['LUXlRY', 'T4X']\n",
            "['TOT4', '4.36']\n",
            "['36']\n",
            "['#CASH+', '4,36']\n",
            "['CHANGE DUE']\n",
            "['THANKS FOR SHOPPING; wiTK US!']\n"
          ]
        }
      ]
    },
    {
      "cell_type": "code",
      "source": [
        "#take above list and lower case all text.\n",
        "def lower_each_lst(lst_obj_row):\n",
        "  return [each_str.lower() for each_str in lst_obj_row]\n",
        "\n",
        "lower_case_lst = [lower_each_lst(single_lst) for single_lst in found_data]\n",
        "print(lower_case_lst)\n"
      ],
      "metadata": {
        "colab": {
          "base_uri": "https://localhost:8080/"
        },
        "id": "wQPGJ2y14VZ7",
        "outputId": "c30b404d-caba-46ac-cd42-3708d27449d0"
      },
      "execution_count": 11,
      "outputs": [
        {
          "output_type": "stream",
          "name": "stdout",
          "text": [
            "[['', '4.', 'guper', 'foods'], ['welcome  tc super', 'foods'], ['columpia falls (406 )', '892-9996'], ['hi', 'hly  mame', 'is jackie'], ['candy', 'tf'], ['954200006'], ['deli classic   turkey', '3,91', 'tfw'], ['23583400000)'], ['suptot4l', '4,35'], ['luxlry', 't4x'], ['tot4', '4.36'], ['36'], ['#cash+', '4,36'], ['change due'], ['thanks for shopping; witk us!']]\n"
          ]
        }
      ]
    },
    {
      "cell_type": "code",
      "source": [
        "print(lower_case_lst[3])"
      ],
      "metadata": {
        "colab": {
          "base_uri": "https://localhost:8080/"
        },
        "id": "5KkkjJFpAI5T",
        "outputId": "406de4c1-4b48-44d3-f210-edb9d4c4a4bf"
      },
      "execution_count": 21,
      "outputs": [
        {
          "output_type": "stream",
          "name": "stdout",
          "text": [
            "['hi', 'hly  mame', 'is jackie']\n"
          ]
        }
      ]
    },
    {
      "cell_type": "code",
      "source": [
        "#split each string in list by whitespace.\n",
        "def split_each_list(single_char_lst):\n",
        "  new_list = []\n",
        "\n",
        "  for single_test_str in single_char_lst:\n",
        "    nested_lst = single_test_str.split()\n",
        "    for single_short_str in nested_lst:\n",
        "      new_list.append(single_short_str)\n",
        "\n",
        "  return new_list\n",
        "\n",
        "print(split_each_list(lower_case_lst[2]))\n",
        "\n",
        "\n",
        "split_by_whitespace = [split_each_list(each_single_lst) for each_single_lst in lower_case_lst]\n",
        "print(split_by_whitespace)"
      ],
      "metadata": {
        "colab": {
          "base_uri": "https://localhost:8080/"
        },
        "id": "rEWkbgj494DG",
        "outputId": "851809c5-707a-4509-9adc-30fd28a310a7"
      },
      "execution_count": 25,
      "outputs": [
        {
          "output_type": "stream",
          "name": "stdout",
          "text": [
            "['columpia', 'falls', '(406', ')', '892-9996']\n",
            "[['4.', 'guper', 'foods'], ['welcome', 'tc', 'super', 'foods'], ['columpia', 'falls', '(406', ')', '892-9996'], ['hi', 'hly', 'mame', 'is', 'jackie'], ['candy', 'tf'], ['954200006'], ['deli', 'classic', 'turkey', '3,91', 'tfw'], ['23583400000)'], ['suptot4l', '4,35'], ['luxlry', 't4x'], ['tot4', '4.36'], ['36'], ['#cash+', '4,36'], ['change', 'due'], ['thanks', 'for', 'shopping;', 'witk', 'us!']]\n"
          ]
        }
      ]
    },
    {
      "cell_type": "markdown",
      "source": [],
      "metadata": {
        "id": "Q_J5pIPtCptp"
      }
    },
    {
      "cell_type": "code",
      "source": [
        "#use python speed checker to correct some of words.\n",
        "!pip install pyspellchecker"
      ],
      "metadata": {
        "colab": {
          "base_uri": "https://localhost:8080/"
        },
        "id": "OQC0LcHX6SIN",
        "outputId": "76cfc990-1b6c-41f1-81df-f37368f3884d"
      },
      "execution_count": 13,
      "outputs": [
        {
          "output_type": "stream",
          "name": "stdout",
          "text": [
            "Collecting pyspellchecker\n",
            "  Downloading pyspellchecker-0.8.1-py3-none-any.whl (6.8 MB)\n",
            "\u001b[2K     \u001b[90m━━━━━━━━━━━━━━━━━━━━━━━━━━━━━━━━━━━━━━━━\u001b[0m \u001b[32m6.8/6.8 MB\u001b[0m \u001b[31m17.9 MB/s\u001b[0m eta \u001b[36m0:00:00\u001b[0m\n",
            "\u001b[?25hInstalling collected packages: pyspellchecker\n",
            "Successfully installed pyspellchecker-0.8.1\n"
          ]
        }
      ]
    },
    {
      "cell_type": "code",
      "source": [
        "#use the python spell checker\n",
        "from spellchecker import SpellChecker\n",
        "\n",
        "spell = SpellChecker()\n",
        "\n",
        "# find those words that may be misspelled\n",
        "print(split_by_whitespace[2])\n",
        "misspelled = spell.unknown(split_by_whitespace[2])\n",
        "print(misspelled)\n",
        "\n",
        "for word in misspelled:\n",
        "    # Get the one `most likely` answer\n",
        "    print(spell.correction(word))\n",
        "\n",
        "    # Get a list of `likely` options\n",
        "    print(spell.candidates(word))"
      ],
      "metadata": {
        "colab": {
          "base_uri": "https://localhost:8080/"
        },
        "id": "Phu4mnuF7meq",
        "outputId": "32d97a8c-e385-4d48-c3c2-7d17d7002654"
      },
      "execution_count": 27,
      "outputs": [
        {
          "output_type": "stream",
          "name": "stdout",
          "text": [
            "['columpia', 'falls', '(406', ')', '892-9996']\n",
            "{'(406', '892-9996', 'columpia'}\n",
            "None\n",
            "None\n",
            "None\n",
            "None\n",
            "colombia\n",
            "{'columbic', 'colombia'}\n"
          ]
        }
      ]
    }
  ]
}