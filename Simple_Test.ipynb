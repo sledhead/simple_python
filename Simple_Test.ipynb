{
  "nbformat": 4,
  "nbformat_minor": 0,
  "metadata": {
    "colab": {
      "provenance": [],
      "authorship_tag": "ABX9TyNvufEA1wHVfhMzgHpafNKN",
      "include_colab_link": true
    },
    "kernelspec": {
      "name": "python3",
      "display_name": "Python 3"
    },
    "language_info": {
      "name": "python"
    }
  },
  "cells": [
    {
      "cell_type": "markdown",
      "metadata": {
        "id": "view-in-github",
        "colab_type": "text"
      },
      "source": [
        "<a href=\"https://colab.research.google.com/github/sledhead/simple_python/blob/main/Simple_Test.ipynb\" target=\"_parent\"><img src=\"https://colab.research.google.com/assets/colab-badge.svg\" alt=\"Open In Colab\"/></a>"
      ]
    },
    {
      "cell_type": "code",
      "execution_count": null,
      "metadata": {
        "colab": {
          "base_uri": "https://localhost:8080/"
        },
        "id": "7NE37v1sGoAo",
        "outputId": "e06f4513-7b4a-4c59-f859-ffda82ad895e"
      },
      "outputs": [
        {
          "output_type": "stream",
          "name": "stdout",
          "text": [
            "--share True\n"
          ]
        }
      ],
      "source": [
        "meets = f'--share {True}'\n",
        "\n",
        "print(meets)"
      ]
    },
    {
      "cell_type": "code",
      "source": [
        "!wget https://www.senate.gov/legislative/LIS/roll_call_votes/vote1151/vote_115_1_00325.xml\n",
        "!wget https://www.senate.gov/legislative/LIS/roll_call_votes/vote1151/vote_115_1_00324.xml\n",
        "!wget https://www.senate.gov/legislative/LIS/roll_call_votes/vote1151/vote_115_1_00323.xml\n",
        "!wget https://www.senate.gov/legislative/LIS/roll_call_votes/vote1151/vote_115_1_00322.xml\n",
        "!wget https://www.senate.gov/legislative/LIS/roll_call_votes/vote1151/vote_115_1_00321.xml\n",
        "!wget https://www.senate.gov/legislative/LIS/roll_call_votes/vote1151/vote_115_1_00320.xml\n",
        "!wget https://www.senate.gov/legislative/LIS/roll_call_votes/vote1151/vote_115_1_00319.xml\n",
        "!wget https://www.senate.gov/legislative/LIS/roll_call_votes/vote1151/vote_115_1_00318.xml\n",
        "!wget https://www.senate.gov/legislative/LIS/roll_call_votes/vote1151/vote_115_1_00317.xml\n",
        "!wget https://www.senate.gov/legislative/LIS/roll_call_votes/vote1151/vote_115_1_00316.xml\n",
        "!wget https://www.senate.gov/legislative/LIS/roll_call_votes/vote1151/vote_115_1_00315.xml\n",
        "\n"
      ],
      "metadata": {
        "colab": {
          "base_uri": "https://localhost:8080/"
        },
        "collapsed": true,
        "id": "OhuREnZfNrqt",
        "outputId": "87ba2a73-a686-489a-8bab-db6fd0736cbe"
      },
      "execution_count": 2,
      "outputs": [
        {
          "output_type": "stream",
          "name": "stdout",
          "text": [
            "--2024-06-21 00:38:36--  https://www.senate.gov/legislative/LIS/roll_call_votes/vote1151/vote_115_1_00325.xml\n",
            "Resolving www.senate.gov (www.senate.gov)... 104.96.219.104, 2600:1408:ec00:a88::1e3, 2600:1408:ec00:a8d::1e3\n",
            "Connecting to www.senate.gov (www.senate.gov)|104.96.219.104|:443... connected.\n",
            "HTTP request sent, awaiting response... 200 OK\n",
            "Length: 29199 (29K) [text/xml]\n",
            "Saving to: ‘vote_115_1_00325.xml’\n",
            "\n",
            "\rvote_115_1_00325.xm   0%[                    ]       0  --.-KB/s               \rvote_115_1_00325.xm 100%[===================>]  28.51K  --.-KB/s    in 0.001s  \n",
            "\n",
            "2024-06-21 00:38:36 (21.0 MB/s) - ‘vote_115_1_00325.xml’ saved [29199/29199]\n",
            "\n",
            "--2024-06-21 00:38:36--  https://www.senate.gov/legislative/LIS/roll_call_votes/vote1151/vote_115_1_00324.xml\n",
            "Resolving www.senate.gov (www.senate.gov)... 104.96.219.104, 2600:1408:ec00:a88::1e3, 2600:1408:ec00:a8d::1e3\n",
            "Connecting to www.senate.gov (www.senate.gov)|104.96.219.104|:443... connected.\n",
            "HTTP request sent, awaiting response... 200 OK\n",
            "Length: 29310 (29K) [text/xml]\n",
            "Saving to: ‘vote_115_1_00324.xml’\n",
            "\n",
            "vote_115_1_00324.xm 100%[===================>]  28.62K  --.-KB/s    in 0.001s  \n",
            "\n",
            "2024-06-21 00:38:36 (23.4 MB/s) - ‘vote_115_1_00324.xml’ saved [29310/29310]\n",
            "\n",
            "--2024-06-21 00:38:36--  https://www.senate.gov/legislative/LIS/roll_call_votes/vote1151/vote_115_1_00323.xml\n",
            "Resolving www.senate.gov (www.senate.gov)... 104.96.219.104, 2600:1408:ec00:a88::1e3, 2600:1408:ec00:a8d::1e3\n",
            "Connecting to www.senate.gov (www.senate.gov)|104.96.219.104|:443... connected.\n",
            "HTTP request sent, awaiting response... 200 OK\n",
            "Length: 28845 (28K) [text/xml]\n",
            "Saving to: ‘vote_115_1_00323.xml’\n",
            "\n",
            "vote_115_1_00323.xm 100%[===================>]  28.17K  --.-KB/s    in 0.002s  \n",
            "\n",
            "2024-06-21 00:38:36 (15.8 MB/s) - ‘vote_115_1_00323.xml’ saved [28845/28845]\n",
            "\n",
            "--2024-06-21 00:38:36--  https://www.senate.gov/legislative/LIS/roll_call_votes/vote1151/vote_115_1_00322.xml\n",
            "Resolving www.senate.gov (www.senate.gov)... 104.96.219.104, 2600:1408:ec00:a88::1e3, 2600:1408:ec00:a8d::1e3\n",
            "Connecting to www.senate.gov (www.senate.gov)|104.96.219.104|:443... connected.\n",
            "HTTP request sent, awaiting response... 200 OK\n",
            "Length: 28888 (28K) [text/xml]\n",
            "Saving to: ‘vote_115_1_00322.xml’\n",
            "\n",
            "vote_115_1_00322.xm 100%[===================>]  28.21K  --.-KB/s    in 0.001s  \n",
            "\n",
            "2024-06-21 00:38:37 (31.8 MB/s) - ‘vote_115_1_00322.xml’ saved [28888/28888]\n",
            "\n",
            "--2024-06-21 00:38:37--  https://www.senate.gov/legislative/LIS/roll_call_votes/vote1151/vote_115_1_00321.xml\n",
            "Resolving www.senate.gov (www.senate.gov)... 104.96.219.104, 2600:1408:ec00:a88::1e3, 2600:1408:ec00:a8d::1e3\n",
            "Connecting to www.senate.gov (www.senate.gov)|104.96.219.104|:443... connected.\n",
            "HTTP request sent, awaiting response... 200 OK\n",
            "Length: 28783 (28K) [text/xml]\n",
            "Saving to: ‘vote_115_1_00321.xml’\n",
            "\n",
            "vote_115_1_00321.xm 100%[===================>]  28.11K  --.-KB/s    in 0.002s  \n",
            "\n",
            "2024-06-21 00:38:37 (17.8 MB/s) - ‘vote_115_1_00321.xml’ saved [28783/28783]\n",
            "\n",
            "--2024-06-21 00:38:37--  https://www.senate.gov/legislative/LIS/roll_call_votes/vote1151/vote_115_1_00320.xml\n",
            "Resolving www.senate.gov (www.senate.gov)... 104.96.219.104, 2600:1408:ec00:a88::1e3, 2600:1408:ec00:a8d::1e3\n",
            "Connecting to www.senate.gov (www.senate.gov)|104.96.219.104|:443... connected.\n",
            "HTTP request sent, awaiting response... 200 OK\n",
            "Length: 28675 (28K) [text/xml]\n",
            "Saving to: ‘vote_115_1_00320.xml’\n",
            "\n",
            "vote_115_1_00320.xm 100%[===================>]  28.00K  --.-KB/s    in 0.002s  \n",
            "\n",
            "2024-06-21 00:38:37 (14.7 MB/s) - ‘vote_115_1_00320.xml’ saved [28675/28675]\n",
            "\n",
            "--2024-06-21 00:38:37--  https://www.senate.gov/legislative/LIS/roll_call_votes/vote1151/vote_115_1_00319.xml\n",
            "Resolving www.senate.gov (www.senate.gov)... 104.96.219.104, 2600:1408:ec00:a88::1e3, 2600:1408:ec00:a8d::1e3\n",
            "Connecting to www.senate.gov (www.senate.gov)|104.96.219.104|:443... connected.\n",
            "HTTP request sent, awaiting response... 200 OK\n",
            "Length: 28629 (28K) [text/xml]\n",
            "Saving to: ‘vote_115_1_00319.xml’\n",
            "\n",
            "vote_115_1_00319.xm 100%[===================>]  27.96K  --.-KB/s    in 0.001s  \n",
            "\n",
            "2024-06-21 00:38:37 (31.8 MB/s) - ‘vote_115_1_00319.xml’ saved [28629/28629]\n",
            "\n",
            "--2024-06-21 00:38:37--  https://www.senate.gov/legislative/LIS/roll_call_votes/vote1151/vote_115_1_00318.xml\n",
            "Resolving www.senate.gov (www.senate.gov)... 104.96.219.104, 2600:1408:ec00:a88::1e3, 2600:1408:ec00:a8d::1e3\n",
            "Connecting to www.senate.gov (www.senate.gov)|104.96.219.104|:443... connected.\n",
            "HTTP request sent, awaiting response... 200 OK\n",
            "Length: 28756 (28K) [text/xml]\n",
            "Saving to: ‘vote_115_1_00318.xml’\n",
            "\n",
            "vote_115_1_00318.xm 100%[===================>]  28.08K  --.-KB/s    in 0.002s  \n",
            "\n",
            "2024-06-21 00:38:38 (18.1 MB/s) - ‘vote_115_1_00318.xml’ saved [28756/28756]\n",
            "\n",
            "--2024-06-21 00:38:38--  https://www.senate.gov/legislative/LIS/roll_call_votes/vote1151/vote_115_1_00317.xml\n",
            "Resolving www.senate.gov (www.senate.gov)... 104.96.219.104, 2600:1408:ec00:a88::1e3, 2600:1408:ec00:a8d::1e3\n",
            "Connecting to www.senate.gov (www.senate.gov)|104.96.219.104|:443... connected.\n",
            "HTTP request sent, awaiting response... 200 OK\n",
            "Length: 28666 (28K) [text/xml]\n",
            "Saving to: ‘vote_115_1_00317.xml’\n",
            "\n",
            "vote_115_1_00317.xm 100%[===================>]  27.99K  --.-KB/s    in 0.002s  \n",
            "\n",
            "2024-06-21 00:38:38 (13.5 MB/s) - ‘vote_115_1_00317.xml’ saved [28666/28666]\n",
            "\n",
            "--2024-06-21 00:38:38--  https://www.senate.gov/legislative/LIS/roll_call_votes/vote1151/vote_115_1_00316.xml\n",
            "Resolving www.senate.gov (www.senate.gov)... 104.96.219.104, 2600:1408:ec00:a88::1e3, 2600:1408:ec00:a8d::1e3\n",
            "Connecting to www.senate.gov (www.senate.gov)|104.96.219.104|:443... connected.\n",
            "HTTP request sent, awaiting response... 200 OK\n",
            "Length: 28680 (28K) [text/xml]\n",
            "Saving to: ‘vote_115_1_00316.xml’\n",
            "\n",
            "vote_115_1_00316.xm 100%[===================>]  28.01K  --.-KB/s    in 0.001s  \n",
            "\n",
            "2024-06-21 00:38:38 (27.0 MB/s) - ‘vote_115_1_00316.xml’ saved [28680/28680]\n",
            "\n",
            "--2024-06-21 00:38:38--  https://www.senate.gov/legislative/LIS/roll_call_votes/vote1151/vote_115_1_00315.xml\n",
            "Resolving www.senate.gov (www.senate.gov)... 104.96.219.104, 2600:1408:ec00:a88::1e3, 2600:1408:ec00:a8d::1e3\n",
            "Connecting to www.senate.gov (www.senate.gov)|104.96.219.104|:443... connected.\n",
            "HTTP request sent, awaiting response... 200 OK\n",
            "Length: 28728 (28K) [text/xml]\n",
            "Saving to: ‘vote_115_1_00315.xml’\n",
            "\n",
            "vote_115_1_00315.xm 100%[===================>]  28.05K  --.-KB/s    in 0.001s  \n",
            "\n",
            "2024-06-21 00:38:38 (24.7 MB/s) - ‘vote_115_1_00315.xml’ saved [28728/28728]\n",
            "\n"
          ]
        }
      ]
    }
  ]
}