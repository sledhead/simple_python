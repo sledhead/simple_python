{
  "nbformat": 4,
  "nbformat_minor": 0,
  "metadata": {
    "colab": {
      "provenance": [],
      "toc_visible": true,
      "authorship_tag": "ABX9TyMJQUMkE60s11zYx+OztedV",
      "include_colab_link": true
    },
    "kernelspec": {
      "name": "python3",
      "display_name": "Python 3"
    },
    "language_info": {
      "name": "python"
    }
  },
  "cells": [
    {
      "cell_type": "markdown",
      "metadata": {
        "id": "view-in-github",
        "colab_type": "text"
      },
      "source": [
        "<a href=\"https://colab.research.google.com/github/sledhead/simple_python/blob/main/test_encrypto.ipynb\" target=\"_parent\"><img src=\"https://colab.research.google.com/assets/colab-badge.svg\" alt=\"Open In Colab\"/></a>"
      ]
    },
    {
      "cell_type": "markdown",
      "source": [
        "# Encryption Section"
      ],
      "metadata": {
        "id": "xMHw7WYierEe"
      }
    },
    {
      "cell_type": "code",
      "source": [
        "#Allow user to select file to be encrypted.\n"
      ],
      "metadata": {
        "id": "GDr2k5gdfr1I"
      },
      "execution_count": null,
      "outputs": []
    },
    {
      "cell_type": "markdown",
      "source": [
        "\n",
        "\n",
        "\n",
        "\n",
        "# De-Encrypt Section"
      ],
      "metadata": {
        "id": "uFnV7Kzef78G"
      }
    },
    {
      "cell_type": "code",
      "source": [
        "#Allow user to select encrypted file to de-encrypt."
      ],
      "metadata": {
        "id": "D7kHRw2ogIjH"
      },
      "execution_count": null,
      "outputs": []
    }
  ]
}