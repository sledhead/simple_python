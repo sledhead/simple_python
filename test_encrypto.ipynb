{
  "nbformat": 4,
  "nbformat_minor": 0,
  "metadata": {
    "colab": {
      "provenance": [],
      "authorship_tag": "ABX9TyPD/niRWVjd1Nmu0P+5YaKb",
      "include_colab_link": true
    },
    "kernelspec": {
      "name": "python3",
      "display_name": "Python 3"
    },
    "language_info": {
      "name": "python"
    }
  },
  "cells": [
    {
      "cell_type": "markdown",
      "metadata": {
        "id": "view-in-github",
        "colab_type": "text"
      },
      "source": [
        "<a href=\"https://colab.research.google.com/github/sledhead/simple_python/blob/main/test_encrypto.ipynb\" target=\"_parent\"><img src=\"https://colab.research.google.com/assets/colab-badge.svg\" alt=\"Open In Colab\"/></a>"
      ]
    },
    {
      "cell_type": "markdown",
      "source": [
        "# Setup Section"
      ],
      "metadata": {
        "id": "uzg4G8XYo6GY"
      }
    },
    {
      "cell_type": "code",
      "source": [
        "#simple function for building folder structure if not present\n",
        "import os\n",
        "\n",
        "#install library for encryption\n",
        "#install pycrptodome for ciper module\n",
        "#https://www.askpython.com/python/examples/implementing-aes-with-padding\n",
        "!pip install pycryptodome\n",
        "\n",
        "def DoesFolderExists(folder_path):\n",
        "\n",
        "  if( os.path.exists(folder_path) == False):\n",
        "    #Folder path not found\n",
        "    os.mkdir(folder_path)\n",
        "\n"
      ],
      "metadata": {
        "colab": {
          "base_uri": "https://localhost:8080/"
        },
        "id": "A9SBUABgfCoH",
        "outputId": "a7a4f401-8fa9-4bc2-b718-119755893b9e"
      },
      "execution_count": 9,
      "outputs": [
        {
          "output_type": "stream",
          "name": "stdout",
          "text": [
            "Collecting pycryptodome\n",
            "  Downloading pycryptodome-3.20.0-cp35-abi3-manylinux_2_17_x86_64.manylinux2014_x86_64.whl (2.1 MB)\n",
            "\u001b[2K     \u001b[90m━━━━━━━━━━━━━━━━━━━━━━━━━━━━━━━━━━━━━━━━\u001b[0m \u001b[32m2.1/2.1 MB\u001b[0m \u001b[31m10.7 MB/s\u001b[0m eta \u001b[36m0:00:00\u001b[0m\n",
            "\u001b[?25hInstalling collected packages: pycryptodome\n",
            "Successfully installed pycryptodome-3.20.0\n"
          ]
        }
      ]
    },
    {
      "cell_type": "code",
      "source": [
        "#Will display upload box to user to allow a file to upload and encrypted.\n",
        "from google.colab import drive\n",
        "drive.mount('/content/drive')"
      ],
      "metadata": {
        "colab": {
          "base_uri": "https://localhost:8080/"
        },
        "id": "N4XIPkphumtJ",
        "outputId": "6e047870-ded6-443b-9ce5-550e805c0436"
      },
      "execution_count": 11,
      "outputs": [
        {
          "output_type": "stream",
          "name": "stdout",
          "text": [
            "Mounted at /content/drive\n"
          ]
        }
      ]
    },
    {
      "cell_type": "code",
      "source": [
        "#Setup Code\n",
        "#Determine if the proper temp folder exists and if not create it.\n",
        "import os\n",
        "main_folder_path = '/content/secure_app'\n",
        "in_data_folder = '/content/secure_app/input'\n",
        "out_data_folder = '/content/secure_app/output'\n",
        "\n",
        "\n",
        "\n",
        "#Does main app folder exists?\n",
        "DoesFolderExists(main_folder_path)\n",
        "\n",
        "#check for input folder and output folder\n",
        "DoesFolderExists(in_data_folder)\n",
        "DoesFolderExists(out_data_folder)\n",
        "\n",
        "#check for encrypted and unencrypted folder within in and out folder\n",
        "#in folder check\n",
        "full_folder_path = os.path.join(in_data_folder,'encrypted')\n",
        "DoesFolderExists(full_folder_path)\n",
        "full_folder_path = os.path.join(in_data_folder,'unencrypted')\n",
        "DoesFolderExists(full_folder_path)\n",
        "\n",
        "#out folder check\n",
        "full_folder_path = os.path.join(out_data_folder,'encrypted')\n",
        "DoesFolderExists(full_folder_path)\n",
        "full_folder_path = os.path.join(out_data_folder,'unencrypted')\n",
        "DoesFolderExists(full_folder_path)\n",
        "\n",
        "\n",
        "#set working directory to secure_app\n",
        "%cd secure_app/\n",
        "\n",
        "#print(os.getcwd())\n",
        "\n",
        "#Some additional python are needed for the encryption... get from github\n",
        "#before copying over file, see if it already exists\n",
        "#print('next section')\n",
        "full_pyfile_path = '/content/secure_app/AES_GCM.py'\n",
        "if( os.path.isfile(full_pyfile_path) == False ):\n",
        "  #file has not been downloaded... get from github\n",
        "  !curl 'https://raw.githubusercontent.com/sledhead/simple_python/main/AES_GCM.py' > AES_GCM.py\n"
      ],
      "metadata": {
        "colab": {
          "base_uri": "https://localhost:8080/"
        },
        "id": "i7L_OOsyb0s7",
        "outputId": "f4fe4577-d85a-46c0-8f2c-5e9a9a5e261d"
      },
      "execution_count": 10,
      "outputs": [
        {
          "output_type": "stream",
          "name": "stdout",
          "text": [
            "[Errno 2] No such file or directory: 'secure_app/'\n",
            "/content/secure_app\n"
          ]
        }
      ]
    },
    {
      "cell_type": "markdown",
      "source": [
        "# Test Section"
      ],
      "metadata": {
        "id": "IPrB3OoQqtck"
      }
    },
    {
      "cell_type": "code",
      "source": [
        "Plain_file_name = \"meme.txt\" # @param {type:\"string\"}\n",
        "#Allow user to select file to be encrypted.\n",
        "#main_folder_path = '/content/'"
      ],
      "metadata": {
        "id": "GDr2k5gdfr1I"
      },
      "execution_count": null,
      "outputs": []
    },
    {
      "cell_type": "code",
      "source": [
        "#check that file exists.\n",
        "import os\n",
        "\n",
        "print(os.getcwd())"
      ],
      "metadata": {
        "colab": {
          "base_uri": "https://localhost:8080/"
        },
        "id": "Wpm7xBFOkhUu",
        "outputId": "dac902e1-f686-4c7b-cc76-937e8e759346"
      },
      "execution_count": null,
      "outputs": [
        {
          "output_type": "stream",
          "name": "stdout",
          "text": [
            "/content\n"
          ]
        }
      ]
    },
    {
      "cell_type": "code",
      "source": [
        "#make directory\n",
        "!mkdir plain_files"
      ],
      "metadata": {
        "id": "xhT2K5lylExW"
      },
      "execution_count": null,
      "outputs": []
    },
    {
      "cell_type": "code",
      "source": [
        "%cd plain_files/\n",
        "print(os.getcwd())"
      ],
      "metadata": {
        "colab": {
          "base_uri": "https://localhost:8080/"
        },
        "id": "7lZm9yiPljvW",
        "outputId": "c7ef89fa-e3f3-4557-ed82-2db4eeab88db"
      },
      "execution_count": null,
      "outputs": [
        {
          "output_type": "stream",
          "name": "stdout",
          "text": [
            "/content/plain_files\n",
            "/content/plain_files\n"
          ]
        }
      ]
    },
    {
      "cell_type": "code",
      "source": [
        "!pwd"
      ],
      "metadata": {
        "colab": {
          "base_uri": "https://localhost:8080/"
        },
        "id": "8V8SBsCTm5I1",
        "outputId": "55e754d3-9f49-4f9e-809d-cd387b634445"
      },
      "execution_count": null,
      "outputs": [
        {
          "output_type": "stream",
          "name": "stdout",
          "text": [
            "/content/plain_files\n"
          ]
        }
      ]
    },
    {
      "cell_type": "code",
      "source": [
        "!cat AES_GCM.py"
      ],
      "metadata": {
        "id": "A-ca-wK-1zfQ"
      },
      "execution_count": null,
      "outputs": []
    },
    {
      "cell_type": "markdown",
      "source": [
        "# Encryption Section"
      ],
      "metadata": {
        "id": "xMHw7WYierEe"
      }
    },
    {
      "cell_type": "code",
      "source": [
        "#code below display upload window to user.\n",
        "from google.colab import files\n",
        "uploaded = files.upload()"
      ],
      "metadata": {
        "colab": {
          "base_uri": "https://localhost:8080/",
          "height": 73
        },
        "id": "tPAPMnsanzq1",
        "outputId": "5c2dacd7-348d-4e06-f863-e77d6dbf9dab"
      },
      "execution_count": 12,
      "outputs": [
        {
          "output_type": "display_data",
          "data": {
            "text/plain": [
              "<IPython.core.display.HTML object>"
            ],
            "text/html": [
              "\n",
              "     <input type=\"file\" id=\"files-a4b3dded-02a7-4abb-91df-0b399fb9297a\" name=\"files[]\" multiple disabled\n",
              "        style=\"border:none\" />\n",
              "     <output id=\"result-a4b3dded-02a7-4abb-91df-0b399fb9297a\">\n",
              "      Upload widget is only available when the cell has been executed in the\n",
              "      current browser session. Please rerun this cell to enable.\n",
              "      </output>\n",
              "      <script>// Copyright 2017 Google LLC\n",
              "//\n",
              "// Licensed under the Apache License, Version 2.0 (the \"License\");\n",
              "// you may not use this file except in compliance with the License.\n",
              "// You may obtain a copy of the License at\n",
              "//\n",
              "//      http://www.apache.org/licenses/LICENSE-2.0\n",
              "//\n",
              "// Unless required by applicable law or agreed to in writing, software\n",
              "// distributed under the License is distributed on an \"AS IS\" BASIS,\n",
              "// WITHOUT WARRANTIES OR CONDITIONS OF ANY KIND, either express or implied.\n",
              "// See the License for the specific language governing permissions and\n",
              "// limitations under the License.\n",
              "\n",
              "/**\n",
              " * @fileoverview Helpers for google.colab Python module.\n",
              " */\n",
              "(function(scope) {\n",
              "function span(text, styleAttributes = {}) {\n",
              "  const element = document.createElement('span');\n",
              "  element.textContent = text;\n",
              "  for (const key of Object.keys(styleAttributes)) {\n",
              "    element.style[key] = styleAttributes[key];\n",
              "  }\n",
              "  return element;\n",
              "}\n",
              "\n",
              "// Max number of bytes which will be uploaded at a time.\n",
              "const MAX_PAYLOAD_SIZE = 100 * 1024;\n",
              "\n",
              "function _uploadFiles(inputId, outputId) {\n",
              "  const steps = uploadFilesStep(inputId, outputId);\n",
              "  const outputElement = document.getElementById(outputId);\n",
              "  // Cache steps on the outputElement to make it available for the next call\n",
              "  // to uploadFilesContinue from Python.\n",
              "  outputElement.steps = steps;\n",
              "\n",
              "  return _uploadFilesContinue(outputId);\n",
              "}\n",
              "\n",
              "// This is roughly an async generator (not supported in the browser yet),\n",
              "// where there are multiple asynchronous steps and the Python side is going\n",
              "// to poll for completion of each step.\n",
              "// This uses a Promise to block the python side on completion of each step,\n",
              "// then passes the result of the previous step as the input to the next step.\n",
              "function _uploadFilesContinue(outputId) {\n",
              "  const outputElement = document.getElementById(outputId);\n",
              "  const steps = outputElement.steps;\n",
              "\n",
              "  const next = steps.next(outputElement.lastPromiseValue);\n",
              "  return Promise.resolve(next.value.promise).then((value) => {\n",
              "    // Cache the last promise value to make it available to the next\n",
              "    // step of the generator.\n",
              "    outputElement.lastPromiseValue = value;\n",
              "    return next.value.response;\n",
              "  });\n",
              "}\n",
              "\n",
              "/**\n",
              " * Generator function which is called between each async step of the upload\n",
              " * process.\n",
              " * @param {string} inputId Element ID of the input file picker element.\n",
              " * @param {string} outputId Element ID of the output display.\n",
              " * @return {!Iterable<!Object>} Iterable of next steps.\n",
              " */\n",
              "function* uploadFilesStep(inputId, outputId) {\n",
              "  const inputElement = document.getElementById(inputId);\n",
              "  inputElement.disabled = false;\n",
              "\n",
              "  const outputElement = document.getElementById(outputId);\n",
              "  outputElement.innerHTML = '';\n",
              "\n",
              "  const pickedPromise = new Promise((resolve) => {\n",
              "    inputElement.addEventListener('change', (e) => {\n",
              "      resolve(e.target.files);\n",
              "    });\n",
              "  });\n",
              "\n",
              "  const cancel = document.createElement('button');\n",
              "  inputElement.parentElement.appendChild(cancel);\n",
              "  cancel.textContent = 'Cancel upload';\n",
              "  const cancelPromise = new Promise((resolve) => {\n",
              "    cancel.onclick = () => {\n",
              "      resolve(null);\n",
              "    };\n",
              "  });\n",
              "\n",
              "  // Wait for the user to pick the files.\n",
              "  const files = yield {\n",
              "    promise: Promise.race([pickedPromise, cancelPromise]),\n",
              "    response: {\n",
              "      action: 'starting',\n",
              "    }\n",
              "  };\n",
              "\n",
              "  cancel.remove();\n",
              "\n",
              "  // Disable the input element since further picks are not allowed.\n",
              "  inputElement.disabled = true;\n",
              "\n",
              "  if (!files) {\n",
              "    return {\n",
              "      response: {\n",
              "        action: 'complete',\n",
              "      }\n",
              "    };\n",
              "  }\n",
              "\n",
              "  for (const file of files) {\n",
              "    const li = document.createElement('li');\n",
              "    li.append(span(file.name, {fontWeight: 'bold'}));\n",
              "    li.append(span(\n",
              "        `(${file.type || 'n/a'}) - ${file.size} bytes, ` +\n",
              "        `last modified: ${\n",
              "            file.lastModifiedDate ? file.lastModifiedDate.toLocaleDateString() :\n",
              "                                    'n/a'} - `));\n",
              "    const percent = span('0% done');\n",
              "    li.appendChild(percent);\n",
              "\n",
              "    outputElement.appendChild(li);\n",
              "\n",
              "    const fileDataPromise = new Promise((resolve) => {\n",
              "      const reader = new FileReader();\n",
              "      reader.onload = (e) => {\n",
              "        resolve(e.target.result);\n",
              "      };\n",
              "      reader.readAsArrayBuffer(file);\n",
              "    });\n",
              "    // Wait for the data to be ready.\n",
              "    let fileData = yield {\n",
              "      promise: fileDataPromise,\n",
              "      response: {\n",
              "        action: 'continue',\n",
              "      }\n",
              "    };\n",
              "\n",
              "    // Use a chunked sending to avoid message size limits. See b/62115660.\n",
              "    let position = 0;\n",
              "    do {\n",
              "      const length = Math.min(fileData.byteLength - position, MAX_PAYLOAD_SIZE);\n",
              "      const chunk = new Uint8Array(fileData, position, length);\n",
              "      position += length;\n",
              "\n",
              "      const base64 = btoa(String.fromCharCode.apply(null, chunk));\n",
              "      yield {\n",
              "        response: {\n",
              "          action: 'append',\n",
              "          file: file.name,\n",
              "          data: base64,\n",
              "        },\n",
              "      };\n",
              "\n",
              "      let percentDone = fileData.byteLength === 0 ?\n",
              "          100 :\n",
              "          Math.round((position / fileData.byteLength) * 100);\n",
              "      percent.textContent = `${percentDone}% done`;\n",
              "\n",
              "    } while (position < fileData.byteLength);\n",
              "  }\n",
              "\n",
              "  // All done.\n",
              "  yield {\n",
              "    response: {\n",
              "      action: 'complete',\n",
              "    }\n",
              "  };\n",
              "}\n",
              "\n",
              "scope.google = scope.google || {};\n",
              "scope.google.colab = scope.google.colab || {};\n",
              "scope.google.colab._files = {\n",
              "  _uploadFiles,\n",
              "  _uploadFilesContinue,\n",
              "};\n",
              "})(self);\n",
              "</script> "
            ]
          },
          "metadata": {}
        },
        {
          "output_type": "stream",
          "name": "stdout",
          "text": [
            "Saving CV-01 Pro FAQ.pdf to CV-01 Pro FAQ.pdf\n"
          ]
        }
      ]
    },
    {
      "cell_type": "code",
      "source": [
        "#print(uploaded.keys())\n",
        "file_list = list(uploaded.keys())\n",
        "#print(type(file_list))\n",
        "file_name = file_list[0]\n",
        "#print(type(file_name))\n",
        "#print(file_name)\n",
        "\n",
        "full_source_path = os.path.join(main_folder_path,file_name)\n",
        "full_dest_path = os.path.join(in_data_folder, 'unencrypted',file_name)\n",
        "#move the newly upload file to the proper folder.\n",
        "import shutil\n",
        "shutil.move(full_source_path, full_dest_path)\n",
        "\n"
      ],
      "metadata": {
        "colab": {
          "base_uri": "https://localhost:8080/",
          "height": 35
        },
        "id": "vhHHvPeZobf5",
        "outputId": "4d28d5ac-23e4-4c2e-9cb4-d3e180afa174"
      },
      "execution_count": 13,
      "outputs": [
        {
          "output_type": "execute_result",
          "data": {
            "text/plain": [
              "'/content/secure_app/input/unencrypted/CV-01 Pro FAQ.pdf'"
            ],
            "application/vnd.google.colaboratory.intrinsic+json": {
              "type": "string"
            }
          },
          "metadata": {},
          "execution_count": 13
        }
      ]
    },
    {
      "cell_type": "code",
      "source": [
        "#section will take user uploaded file and encode file for later crypto.\n",
        "#first change file into base64 encode\n",
        "import base64\n",
        "\n",
        "with open(full_dest_path, \"rb\") as f:\n",
        "  encoded_textfile = base64.b64encode(f.read())\n",
        "\n"
      ],
      "metadata": {
        "id": "uZjfKB-mvt_e"
      },
      "execution_count": 14,
      "outputs": []
    },
    {
      "cell_type": "code",
      "source": [
        "#create a custom password that will be used to encrypt the file.\n",
        "encrypto_passwd = \"57snow9sun\" # @param {type:\"string\"}\n",
        "encrypted_file_name = \"sercure_stuff.bin\" # @param {type:\"string\"}\n",
        "#allow user to define the password for encryption of file\n",
        "\n",
        "#provide field for user to define the output encrypted file name\n",
        "\n"
      ],
      "metadata": {
        "id": "PY443FTq0mGU"
      },
      "execution_count": 15,
      "outputs": []
    },
    {
      "cell_type": "code",
      "source": [
        "#install pycrptodome to use....\n",
        "#pip install pycryptodome\n",
        "#https://www.askpython.com/python/examples/implementing-aes-with-padding\n",
        "\n",
        "from AES_GCM import *\n",
        "\n",
        "#send in simple text to encrypt.\n",
        "my_special_text = encoded_textfile\n",
        "cool_password = encrypto_passwd\n",
        "\n",
        "ret_stuff = encrypt(my_special_text, cool_password)\n",
        "\n",
        "#print(ret_stuff)\n",
        "\n",
        "\n",
        "#plain_stuff = decrypt(ret_stuff, cool_password)\n",
        "\n",
        "#print(plain_stuff)\n",
        "#print(plain_stuff.decode())"
      ],
      "metadata": {
        "id": "QoMDSlv9xlEl"
      },
      "execution_count": 16,
      "outputs": []
    },
    {
      "cell_type": "code",
      "source": [
        "#will take encrypted file and place in the output location.\n",
        "full_encrypted_output_path = os.path.join(out_data_folder, 'encrypted',encrypted_file_name)\n",
        "with open(full_encrypted_output_path, \"wb\") as f:\n",
        "    f.write(ret_stuff)\n"
      ],
      "metadata": {
        "id": "vdVpII4S3yhl"
      },
      "execution_count": 17,
      "outputs": []
    },
    {
      "cell_type": "markdown",
      "source": [
        "\n",
        "\n",
        "\n",
        "\n",
        "# De-Encrypt Section"
      ],
      "metadata": {
        "id": "uFnV7Kzef78G"
      }
    },
    {
      "cell_type": "code",
      "source": [
        "#code below display upload window to user.\n",
        "from google.colab import files\n",
        "uploaded = files.upload()"
      ],
      "metadata": {
        "colab": {
          "base_uri": "https://localhost:8080/",
          "height": 73
        },
        "id": "f8BD43yd3LLp",
        "outputId": "df98381e-12e3-4104-de7d-406dc90fa440"
      },
      "execution_count": 18,
      "outputs": [
        {
          "output_type": "display_data",
          "data": {
            "text/plain": [
              "<IPython.core.display.HTML object>"
            ],
            "text/html": [
              "\n",
              "     <input type=\"file\" id=\"files-923eb8dd-926a-4ba1-8c36-0b22c277f377\" name=\"files[]\" multiple disabled\n",
              "        style=\"border:none\" />\n",
              "     <output id=\"result-923eb8dd-926a-4ba1-8c36-0b22c277f377\">\n",
              "      Upload widget is only available when the cell has been executed in the\n",
              "      current browser session. Please rerun this cell to enable.\n",
              "      </output>\n",
              "      <script>// Copyright 2017 Google LLC\n",
              "//\n",
              "// Licensed under the Apache License, Version 2.0 (the \"License\");\n",
              "// you may not use this file except in compliance with the License.\n",
              "// You may obtain a copy of the License at\n",
              "//\n",
              "//      http://www.apache.org/licenses/LICENSE-2.0\n",
              "//\n",
              "// Unless required by applicable law or agreed to in writing, software\n",
              "// distributed under the License is distributed on an \"AS IS\" BASIS,\n",
              "// WITHOUT WARRANTIES OR CONDITIONS OF ANY KIND, either express or implied.\n",
              "// See the License for the specific language governing permissions and\n",
              "// limitations under the License.\n",
              "\n",
              "/**\n",
              " * @fileoverview Helpers for google.colab Python module.\n",
              " */\n",
              "(function(scope) {\n",
              "function span(text, styleAttributes = {}) {\n",
              "  const element = document.createElement('span');\n",
              "  element.textContent = text;\n",
              "  for (const key of Object.keys(styleAttributes)) {\n",
              "    element.style[key] = styleAttributes[key];\n",
              "  }\n",
              "  return element;\n",
              "}\n",
              "\n",
              "// Max number of bytes which will be uploaded at a time.\n",
              "const MAX_PAYLOAD_SIZE = 100 * 1024;\n",
              "\n",
              "function _uploadFiles(inputId, outputId) {\n",
              "  const steps = uploadFilesStep(inputId, outputId);\n",
              "  const outputElement = document.getElementById(outputId);\n",
              "  // Cache steps on the outputElement to make it available for the next call\n",
              "  // to uploadFilesContinue from Python.\n",
              "  outputElement.steps = steps;\n",
              "\n",
              "  return _uploadFilesContinue(outputId);\n",
              "}\n",
              "\n",
              "// This is roughly an async generator (not supported in the browser yet),\n",
              "// where there are multiple asynchronous steps and the Python side is going\n",
              "// to poll for completion of each step.\n",
              "// This uses a Promise to block the python side on completion of each step,\n",
              "// then passes the result of the previous step as the input to the next step.\n",
              "function _uploadFilesContinue(outputId) {\n",
              "  const outputElement = document.getElementById(outputId);\n",
              "  const steps = outputElement.steps;\n",
              "\n",
              "  const next = steps.next(outputElement.lastPromiseValue);\n",
              "  return Promise.resolve(next.value.promise).then((value) => {\n",
              "    // Cache the last promise value to make it available to the next\n",
              "    // step of the generator.\n",
              "    outputElement.lastPromiseValue = value;\n",
              "    return next.value.response;\n",
              "  });\n",
              "}\n",
              "\n",
              "/**\n",
              " * Generator function which is called between each async step of the upload\n",
              " * process.\n",
              " * @param {string} inputId Element ID of the input file picker element.\n",
              " * @param {string} outputId Element ID of the output display.\n",
              " * @return {!Iterable<!Object>} Iterable of next steps.\n",
              " */\n",
              "function* uploadFilesStep(inputId, outputId) {\n",
              "  const inputElement = document.getElementById(inputId);\n",
              "  inputElement.disabled = false;\n",
              "\n",
              "  const outputElement = document.getElementById(outputId);\n",
              "  outputElement.innerHTML = '';\n",
              "\n",
              "  const pickedPromise = new Promise((resolve) => {\n",
              "    inputElement.addEventListener('change', (e) => {\n",
              "      resolve(e.target.files);\n",
              "    });\n",
              "  });\n",
              "\n",
              "  const cancel = document.createElement('button');\n",
              "  inputElement.parentElement.appendChild(cancel);\n",
              "  cancel.textContent = 'Cancel upload';\n",
              "  const cancelPromise = new Promise((resolve) => {\n",
              "    cancel.onclick = () => {\n",
              "      resolve(null);\n",
              "    };\n",
              "  });\n",
              "\n",
              "  // Wait for the user to pick the files.\n",
              "  const files = yield {\n",
              "    promise: Promise.race([pickedPromise, cancelPromise]),\n",
              "    response: {\n",
              "      action: 'starting',\n",
              "    }\n",
              "  };\n",
              "\n",
              "  cancel.remove();\n",
              "\n",
              "  // Disable the input element since further picks are not allowed.\n",
              "  inputElement.disabled = true;\n",
              "\n",
              "  if (!files) {\n",
              "    return {\n",
              "      response: {\n",
              "        action: 'complete',\n",
              "      }\n",
              "    };\n",
              "  }\n",
              "\n",
              "  for (const file of files) {\n",
              "    const li = document.createElement('li');\n",
              "    li.append(span(file.name, {fontWeight: 'bold'}));\n",
              "    li.append(span(\n",
              "        `(${file.type || 'n/a'}) - ${file.size} bytes, ` +\n",
              "        `last modified: ${\n",
              "            file.lastModifiedDate ? file.lastModifiedDate.toLocaleDateString() :\n",
              "                                    'n/a'} - `));\n",
              "    const percent = span('0% done');\n",
              "    li.appendChild(percent);\n",
              "\n",
              "    outputElement.appendChild(li);\n",
              "\n",
              "    const fileDataPromise = new Promise((resolve) => {\n",
              "      const reader = new FileReader();\n",
              "      reader.onload = (e) => {\n",
              "        resolve(e.target.result);\n",
              "      };\n",
              "      reader.readAsArrayBuffer(file);\n",
              "    });\n",
              "    // Wait for the data to be ready.\n",
              "    let fileData = yield {\n",
              "      promise: fileDataPromise,\n",
              "      response: {\n",
              "        action: 'continue',\n",
              "      }\n",
              "    };\n",
              "\n",
              "    // Use a chunked sending to avoid message size limits. See b/62115660.\n",
              "    let position = 0;\n",
              "    do {\n",
              "      const length = Math.min(fileData.byteLength - position, MAX_PAYLOAD_SIZE);\n",
              "      const chunk = new Uint8Array(fileData, position, length);\n",
              "      position += length;\n",
              "\n",
              "      const base64 = btoa(String.fromCharCode.apply(null, chunk));\n",
              "      yield {\n",
              "        response: {\n",
              "          action: 'append',\n",
              "          file: file.name,\n",
              "          data: base64,\n",
              "        },\n",
              "      };\n",
              "\n",
              "      let percentDone = fileData.byteLength === 0 ?\n",
              "          100 :\n",
              "          Math.round((position / fileData.byteLength) * 100);\n",
              "      percent.textContent = `${percentDone}% done`;\n",
              "\n",
              "    } while (position < fileData.byteLength);\n",
              "  }\n",
              "\n",
              "  // All done.\n",
              "  yield {\n",
              "    response: {\n",
              "      action: 'complete',\n",
              "    }\n",
              "  };\n",
              "}\n",
              "\n",
              "scope.google = scope.google || {};\n",
              "scope.google.colab = scope.google.colab || {};\n",
              "scope.google.colab._files = {\n",
              "  _uploadFiles,\n",
              "  _uploadFilesContinue,\n",
              "};\n",
              "})(self);\n",
              "</script> "
            ]
          },
          "metadata": {}
        },
        {
          "output_type": "stream",
          "name": "stdout",
          "text": [
            "Saving sercure_stuff.bin to sercure_stuff.bin\n"
          ]
        }
      ]
    },
    {
      "cell_type": "code",
      "source": [
        "#print(uploaded.keys())\n",
        "file_list = list(uploaded.keys())\n",
        "#print(type(file_list))\n",
        "file_name = file_list[0]\n",
        "#print(type(file_name))\n",
        "#print(file_name)\n",
        "\n",
        "full_source_path = os.path.join(main_folder_path,file_name)\n",
        "full_dest_path = os.path.join(in_data_folder, 'encrypted',file_name)\n",
        "#move the newly upload file to the proper folder.\n",
        "import shutil\n",
        "shutil.move(full_source_path, full_dest_path)"
      ],
      "metadata": {
        "colab": {
          "base_uri": "https://localhost:8080/",
          "height": 35
        },
        "id": "mW0PUias3ZK0",
        "outputId": "0a3871ea-b67e-4c9f-eb6d-135814a1ae6a"
      },
      "execution_count": 19,
      "outputs": [
        {
          "output_type": "execute_result",
          "data": {
            "text/plain": [
              "'/content/secure_app/input/encrypted/sercure_stuff.bin'"
            ],
            "application/vnd.google.colaboratory.intrinsic+json": {
              "type": "string"
            }
          },
          "metadata": {},
          "execution_count": 19
        }
      ]
    },
    {
      "cell_type": "code",
      "source": [
        "#create a custom password that will be used to encrypt the file.\n",
        "encrypto_passwd = \"57snow9sun\" # @param {type:\"string\"}\n",
        "encrypted_file_name = \"test_pdf.pdf\" # @param {type:\"string\"}\n",
        "#allow user to define the password for encryption of file\n",
        "\n",
        "#provide field for user to define the output encrypted file name"
      ],
      "metadata": {
        "id": "sxPPHP_t3uy_"
      },
      "execution_count": 20,
      "outputs": []
    },
    {
      "cell_type": "code",
      "source": [
        "#Allow user to select encrypted file to de-encrypt.\n",
        "\n",
        "from AES_GCM import *\n",
        "\n",
        "with open(full_dest_path, \"rb\") as f:\n",
        "  encoded_data = f.read()\n",
        "\n",
        "plain_stuff = decrypt(encoded_data, encrypto_passwd)\n",
        "\n"
      ],
      "metadata": {
        "id": "D7kHRw2ogIjH"
      },
      "execution_count": 21,
      "outputs": []
    },
    {
      "cell_type": "code",
      "source": [
        "decode_file = base64.b64decode(plain_stuff)\n",
        "#decode_file_str = decode_file.decode()"
      ],
      "metadata": {
        "id": "ua2I4kSO6J-n"
      },
      "execution_count": 22,
      "outputs": []
    },
    {
      "cell_type": "code",
      "source": [
        "#build unencrypted output file path\n",
        "full_output_dest_path = os.path.join(out_data_folder, 'unencrypted',encrypted_file_name)\n",
        "with open(full_output_dest_path, \"wb\") as f:\n",
        "    f.write(decode_file)"
      ],
      "metadata": {
        "id": "9KLahqbP7OMo"
      },
      "execution_count": 23,
      "outputs": []
    },
    {
      "cell_type": "code",
      "source": [
        "from google.colab import userdata\n",
        "mee = userdata.get('test_field1')\n"
      ],
      "metadata": {
        "id": "8kTiycx1_0B4"
      },
      "execution_count": null,
      "outputs": []
    }
  ]
}